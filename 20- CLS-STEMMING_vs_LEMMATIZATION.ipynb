{
  "nbformat": 4,
  "nbformat_minor": 0,
  "metadata": {
    "colab": {
      "provenance": []
    },
    "kernelspec": {
      "name": "python3",
      "display_name": "Python 3"
    },
    "language_info": {
      "name": "python"
    }
  },
  "cells": [
    {
      "cell_type": "code",
      "execution_count": null,
      "metadata": {
        "id": "zT1aQ2vXg3xq"
      },
      "outputs": [],
      "source": []
    },
    {
      "cell_type": "markdown",
      "source": [
        "\n",
        "Stemming and lemmatisation are both techniques used in natural language processing (NLP) to reduce words to their base or root form. However, they differ in how they achieve this:\n",
        "\n",
        "**Stemming:**\n",
        "- Definition: Stemming involves chopping off the end of words in the hope of getting the root form, which may not always be a valid word. It uses heuristic rules to strip suffixes.\n",
        "- Example: The words \"running,\" \"runner,\" and \"ran\" may all be reduced to \"run\" using a stemmer.\n",
        "- Accuracy: Stemming is generally faster but less accurate because it works by cutting off common prefixes and suffixes without considering the word's context.\n",
        "- Output: Often leads to non-linguistic forms, like \"organiz\" for \"organizing\" and \"organization.\"\n",
        "\n",
        "\n",
        "**Lemmatisation:**\n",
        "- Definition: Lemmatisation reduces words to their base form, called a \"lemma,\" by considering the context and morphological analysis of the word. It uses a dictionary to ensure that the root form is a valid word.\n",
        "- Example: For the words \"better\" and \"good,\" lemmatisation would return \"good,\" as it understands the relationship between them.\n",
        "- Accuracy: More accurate and context-sensitive compared to stemming, but typically slower since it requires a lookup in lexical resources.\n",
        "- Output: Always returns a meaningful word in the language.\n",
        "\n",
        "**Summary:**\n",
        "Stemming is faster but less precise, often producing incomplete words.\n",
        "Lemmatisation is slower but more accurate and returns valid words."
      ],
      "metadata": {
        "id": "SfjciNVvhGZz"
      }
    },
    {
      "cell_type": "code",
      "source": [
        "!pip install nltk"
      ],
      "metadata": {
        "colab": {
          "base_uri": "https://localhost:8080/"
        },
        "id": "un6nHQU-hWtt",
        "outputId": "6a9d5fa2-e094-47a2-980e-1f8ba2463ae0"
      },
      "execution_count": null,
      "outputs": [
        {
          "output_type": "stream",
          "name": "stdout",
          "text": [
            "Requirement already satisfied: nltk in /usr/local/lib/python3.10/dist-packages (3.8.1)\n",
            "Requirement already satisfied: click in /usr/local/lib/python3.10/dist-packages (from nltk) (8.1.7)\n",
            "Requirement already satisfied: joblib in /usr/local/lib/python3.10/dist-packages (from nltk) (1.4.2)\n",
            "Requirement already satisfied: regex>=2021.8.3 in /usr/local/lib/python3.10/dist-packages (from nltk) (2024.9.11)\n",
            "Requirement already satisfied: tqdm in /usr/local/lib/python3.10/dist-packages (from nltk) (4.66.5)\n"
          ]
        }
      ]
    },
    {
      "cell_type": "code",
      "source": [
        "import nltk\n",
        "nltk.download('wordnet')\n",
        "nltk.download('omw-1.4')  # For wordnet's multilingual support\n",
        "nltk.download('punkt')  # For tokenization\n"
      ],
      "metadata": {
        "colab": {
          "base_uri": "https://localhost:8080/"
        },
        "id": "OM7M6ej3hejv",
        "outputId": "4fb0cddf-d13f-49bc-80ef-05a30bfb651b"
      },
      "execution_count": null,
      "outputs": [
        {
          "output_type": "stream",
          "name": "stderr",
          "text": [
            "[nltk_data] Downloading package wordnet to /root/nltk_data...\n",
            "[nltk_data] Downloading package omw-1.4 to /root/nltk_data...\n",
            "[nltk_data] Downloading package punkt to /root/nltk_data...\n",
            "[nltk_data]   Unzipping tokenizers/punkt.zip.\n"
          ]
        },
        {
          "output_type": "execute_result",
          "data": {
            "text/plain": [
              "True"
            ]
          },
          "metadata": {},
          "execution_count": 2
        }
      ]
    },
    {
      "cell_type": "code",
      "source": [
        "import nltk\n",
        "from nltk.stem import PorterStemmer\n",
        "from nltk.stem import WordNetLemmatizer\n",
        "\n",
        "# Sample text\n",
        "text = \"The leaves on the trees are falling. The birds are flying. He ran quickly, but running was hard.\"\n",
        "\n",
        "# Tokenize the text\n",
        "words = nltk.word_tokenize(text)\n",
        "\n",
        "# Stemming\n",
        "stemmer = PorterStemmer()\n",
        "stemmed_words = [stemmer.stem(word) for word in words]\n",
        "\n",
        "# Lemmatisation\n",
        "lemmatizer = WordNetLemmatizer()\n",
        "lemmatized_words = [lemmatizer.lemmatize(word) for word in words]\n",
        "\n",
        "# Output the results\n",
        "print(\"Original Words:\", words)\n",
        "print(\"Stemmed Words:\", stemmed_words)\n",
        "print(\"Lemmatized Words:\", lemmatized_words)\n"
      ],
      "metadata": {
        "colab": {
          "base_uri": "https://localhost:8080/"
        },
        "id": "j5-cpXsWhil2",
        "outputId": "b572b181-b54c-467f-8cf8-04395c77e217"
      },
      "execution_count": null,
      "outputs": [
        {
          "output_type": "stream",
          "name": "stdout",
          "text": [
            "Original Words: ['The', 'leaves', 'on', 'the', 'trees', 'are', 'falling', '.', 'The', 'birds', 'are', 'flying', '.', 'He', 'ran', 'quickly', ',', 'but', 'running', 'was', 'hard', '.']\n",
            "Stemmed Words: ['the', 'leav', 'on', 'the', 'tree', 'are', 'fall', '.', 'the', 'bird', 'are', 'fli', '.', 'he', 'ran', 'quickli', ',', 'but', 'run', 'wa', 'hard', '.']\n",
            "Lemmatized Words: ['The', 'leaf', 'on', 'the', 'tree', 'are', 'falling', '.', 'The', 'bird', 'are', 'flying', '.', 'He', 'ran', 'quickly', ',', 'but', 'running', 'wa', 'hard', '.']\n"
          ]
        }
      ]
    },
    {
      "cell_type": "code",
      "source": [],
      "metadata": {
        "id": "Xcv8qXFlhsmE"
      },
      "execution_count": null,
      "outputs": []
    },
    {
      "cell_type": "markdown",
      "source": [
        "In **lemmatisation**, specifying the correct **Part of Speech (POS)** tag improves accuracy by providing context to the lemmatizer. Each word can play different grammatical roles (noun, verb, adjective, etc.), and depending on this role, its lemma (base form) may differ.\n",
        "\n",
        "**Common POS Tags:**\n",
        "**Noun ('n')**: Names of things, places, or people (e.g., \"dog,\" \"car\").\n",
        "\n",
        "**Verb ('v')**: Action words (e.g., \"run,\" \"jump\").\n",
        "\n",
        "**Adjective ('a')**: Describes qualities (e.g., \"big,\" \"red\").\n",
        "\n",
        "**Adverb ('r')**: Describes how something is done (e.g., \"quickly\").\n",
        "\n",
        "For example:\n",
        "\n",
        "The word \"running\" can be either a verb (\"He is running fast\") or a noun (\"Running is fun\").\n",
        "\n",
        "**Verb lemma:** \"run\"\n",
        "\n",
        "**Noun lemma:** \"running\"\n",
        "\n",
        "If the lemmatizer isn't given a POS tag, it assumes the word is a noun, which can lead to incorrect results in some cases. By specifying the POS tag, you ensure the word is lemmatised according to its correct grammatical role."
      ],
      "metadata": {
        "id": "1exC4fPpiIWb"
      }
    },
    {
      "cell_type": "code",
      "source": [
        "from nltk.stem import WordNetLemmatizer\n",
        "\n",
        "lemmatizer = WordNetLemmatizer()\n",
        "\n",
        "# Without POS tagging\n",
        "print(lemmatizer.lemmatize(\"running\"))  # Assumes it's a noun, so output: 'running'\n",
        "\n",
        "# With POS tagging\n",
        "print(lemmatizer.lemmatize(\"running\", pos='v'))  # Correctly recognizes it as a verb, so output: 'run'\n"
      ],
      "metadata": {
        "colab": {
          "base_uri": "https://localhost:8080/"
        },
        "id": "1siTHsn1iZJ7",
        "outputId": "dd8905e0-cf3b-4a97-9b90-b3c9923b1390"
      },
      "execution_count": null,
      "outputs": [
        {
          "output_type": "stream",
          "name": "stdout",
          "text": [
            "running\n",
            "run\n"
          ]
        }
      ]
    },
    {
      "cell_type": "code",
      "source": [
        "#ASHIS KUMAR SAHU"
      ],
      "metadata": {
        "id": "Qd4yzuRNinRz"
      },
      "execution_count": null,
      "outputs": []
    },
    {
      "cell_type": "markdown",
      "source": [
        "## Applying POS Tagging Automatically:\n",
        "You can use **nltk.pos_tag** to automatically tag words in a sentence with their POS tags and then use this information in lemmatisation."
      ],
      "metadata": {
        "id": "eBfs3c7Mi1NH"
      }
    },
    {
      "cell_type": "code",
      "source": [
        "nltk.download('averaged_perceptron_tagger')"
      ],
      "metadata": {
        "colab": {
          "base_uri": "https://localhost:8080/"
        },
        "id": "jK_q7kGMjaZ4",
        "outputId": "b8e3e117-6139-4f3d-9589-5b7c86817cf1"
      },
      "execution_count": null,
      "outputs": [
        {
          "output_type": "stream",
          "name": "stderr",
          "text": [
            "[nltk_data] Downloading package averaged_perceptron_tagger to\n",
            "[nltk_data]     /root/nltk_data...\n",
            "[nltk_data]   Unzipping taggers/averaged_perceptron_tagger.zip.\n"
          ]
        },
        {
          "output_type": "execute_result",
          "data": {
            "text/plain": [
              "True"
            ]
          },
          "metadata": {},
          "execution_count": 6
        }
      ]
    },
    {
      "cell_type": "code",
      "source": [
        "import nltk\n",
        "from nltk.corpus import wordnet\n",
        "\n",
        "# Function to map NLTK POS tags to WordNet POS tags\n",
        "def get_wordnet_pos(nltk_tag):\n",
        "    if nltk_tag.startswith('J'):\n",
        "        return wordnet.ADJ\n",
        "    elif nltk_tag.startswith('V'):\n",
        "        return wordnet.VERB\n",
        "    elif nltk_tag.startswith('N'):\n",
        "        return wordnet.NOUN\n",
        "    elif nltk_tag.startswith('R'):\n",
        "        return wordnet.ADV\n",
        "    else:\n",
        "        return None\n",
        "\n",
        "# Sample sentence\n",
        "sentence = \"The leaves on the trees are falling. The birds are flying.\"\n",
        "\n",
        "# Tokenize the sentence\n",
        "words = nltk.word_tokenize(sentence)\n",
        "\n",
        "# Get POS tags\n",
        "pos_tags = nltk.pos_tag(words)\n",
        "\n",
        "# Lemmatize using POS tags\n",
        "lemmatizer = WordNetLemmatizer()\n",
        "lemmatized_sentence = []\n",
        "for word, tag in pos_tags:\n",
        "    wordnet_pos = get_wordnet_pos(tag) or wordnet.NOUN  # Default to noun if no tag\n",
        "    lemmatized_sentence.append(lemmatizer.lemmatize(word, pos=wordnet_pos))\n",
        "\n",
        "print(\"Original:\", words)\n",
        "print(\"POS Tags:\", pos_tags)\n",
        "print(\"Lemmatized:\", lemmatized_sentence)\n"
      ],
      "metadata": {
        "colab": {
          "base_uri": "https://localhost:8080/"
        },
        "id": "EvmkkzXPi263",
        "outputId": "5800a481-d490-4779-e801-f20e4a1e9e31"
      },
      "execution_count": null,
      "outputs": [
        {
          "output_type": "stream",
          "name": "stdout",
          "text": [
            "Original: ['The', 'leaves', 'on', 'the', 'trees', 'are', 'falling', '.', 'The', 'birds', 'are', 'flying', '.']\n",
            "POS Tags: [('The', 'DT'), ('leaves', 'NNS'), ('on', 'IN'), ('the', 'DT'), ('trees', 'NNS'), ('are', 'VBP'), ('falling', 'VBG'), ('.', '.'), ('The', 'DT'), ('birds', 'NNS'), ('are', 'VBP'), ('flying', 'VBG'), ('.', '.')]\n",
            "Lemmatized: ['The', 'leaf', 'on', 'the', 'tree', 'be', 'fall', '.', 'The', 'bird', 'be', 'fly', '.']\n"
          ]
        }
      ]
    },
    {
      "cell_type": "markdown",
      "source": [
        "- DT (Determiner): Introduces nouns (e.g., \"The\").\n",
        "- NNS (Noun, Plural): Represents plural nouns (e.g., \"leaves,\" \"trees,\" \"birds\").\n",
        "- IN (Preposition): Shows relationships between words (e.g., \"on\").\n",
        "- VBP (Verb, Present Tense, Non-3rd Person Singular): Present-tense verb for plural subjects or non-3rd person singular subjects (e.g., \"are\").\n",
        "- VBG (Verb, Gerund or Present Participle): Verbs in the \"-ing\" form indicating continuous action (e.g., \"falling,\" \"flying\").\n",
        "- . (Punctuation): Punctuation mark indicating the end of the sentence."
      ],
      "metadata": {
        "id": "Gw76wLRVkHb1"
      }
    },
    {
      "cell_type": "code",
      "source": [],
      "metadata": {
        "id": "8Kj8_mRajXi3"
      },
      "execution_count": null,
      "outputs": []
    }
  ]
}