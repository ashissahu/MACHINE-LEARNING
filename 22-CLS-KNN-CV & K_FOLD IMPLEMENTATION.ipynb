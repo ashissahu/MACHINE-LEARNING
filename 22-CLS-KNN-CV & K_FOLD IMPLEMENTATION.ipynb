{
 "cells": [
  {
   "cell_type": "code",
   "execution_count": null,
   "id": "ff22d15b",
   "metadata": {},
   "outputs": [],
   "source": [
    "#https://scikit-learn.org/stable/modules/generated/sklearn.neighbors.KNeighborsClassifier.html"
   ]
  },
  {
   "cell_type": "code",
   "execution_count": 1,
   "id": "42d51b58",
   "metadata": {},
   "outputs": [],
   "source": [
    "import numpy as np\n",
    "import pandas as pd\n",
    "import matplotlib.pyplot as plt\n",
    "from sklearn.model_selection import train_test_split,cross_val_score\n",
    "from sklearn.neighbors import KNeighborsClassifier\n",
    "from sklearn.metrics import accuracy_score\n",
    "from collections import Counter\n"
   ]
  },
  {
   "cell_type": "code",
   "execution_count": 3,
   "id": "a6d70698",
   "metadata": {},
   "outputs": [
    {
     "data": {
      "text/html": [
       "<div>\n",
       "<style scoped>\n",
       "    .dataframe tbody tr th:only-of-type {\n",
       "        vertical-align: middle;\n",
       "    }\n",
       "\n",
       "    .dataframe tbody tr th {\n",
       "        vertical-align: top;\n",
       "    }\n",
       "\n",
       "    .dataframe thead th {\n",
       "        text-align: right;\n",
       "    }\n",
       "</style>\n",
       "<table border=\"1\" class=\"dataframe\">\n",
       "  <thead>\n",
       "    <tr style=\"text-align: right;\">\n",
       "      <th></th>\n",
       "      <th>0</th>\n",
       "      <th>1</th>\n",
       "      <th>2</th>\n",
       "    </tr>\n",
       "  </thead>\n",
       "  <tbody>\n",
       "    <tr>\n",
       "      <th>0</th>\n",
       "      <td>0.700335</td>\n",
       "      <td>-0.247068</td>\n",
       "      <td>0.0</td>\n",
       "    </tr>\n",
       "    <tr>\n",
       "      <th>1</th>\n",
       "      <td>-3.950019</td>\n",
       "      <td>2.740080</td>\n",
       "      <td>1.0</td>\n",
       "    </tr>\n",
       "    <tr>\n",
       "      <th>2</th>\n",
       "      <td>0.150222</td>\n",
       "      <td>-2.157638</td>\n",
       "      <td>1.0</td>\n",
       "    </tr>\n",
       "    <tr>\n",
       "      <th>3</th>\n",
       "      <td>-1.672050</td>\n",
       "      <td>-0.941519</td>\n",
       "      <td>1.0</td>\n",
       "    </tr>\n",
       "    <tr>\n",
       "      <th>4</th>\n",
       "      <td>2.560483</td>\n",
       "      <td>-1.846577</td>\n",
       "      <td>1.0</td>\n",
       "    </tr>\n",
       "  </tbody>\n",
       "</table>\n",
       "</div>"
      ],
      "text/plain": [
       "          0         1    2\n",
       "0  0.700335 -0.247068  0.0\n",
       "1 -3.950019  2.740080  1.0\n",
       "2  0.150222 -2.157638  1.0\n",
       "3 -1.672050 -0.941519  1.0\n",
       "4  2.560483 -1.846577  1.0"
      ]
     },
     "execution_count": 3,
     "metadata": {},
     "output_type": "execute_result"
    }
   ],
   "source": [
    "df=pd.read_csv(\"concertriccir2.csv\",header=None)\n",
    "df.head()"
   ]
  },
  {
   "cell_type": "code",
   "execution_count": 4,
   "id": "f3f067fe",
   "metadata": {},
   "outputs": [
    {
     "data": {
      "text/plain": [
       "(500, 3)"
      ]
     },
     "execution_count": 4,
     "metadata": {},
     "output_type": "execute_result"
    }
   ],
   "source": [
    "df.shape"
   ]
  },
  {
   "cell_type": "code",
   "execution_count": 5,
   "id": "559e605d",
   "metadata": {},
   "outputs": [
    {
     "data": {
      "text/html": [
       "<div>\n",
       "<style scoped>\n",
       "    .dataframe tbody tr th:only-of-type {\n",
       "        vertical-align: middle;\n",
       "    }\n",
       "\n",
       "    .dataframe tbody tr th {\n",
       "        vertical-align: top;\n",
       "    }\n",
       "\n",
       "    .dataframe thead th {\n",
       "        text-align: right;\n",
       "    }\n",
       "</style>\n",
       "<table border=\"1\" class=\"dataframe\">\n",
       "  <thead>\n",
       "    <tr style=\"text-align: right;\">\n",
       "      <th></th>\n",
       "      <th>x</th>\n",
       "      <th>y</th>\n",
       "      <th>class</th>\n",
       "    </tr>\n",
       "  </thead>\n",
       "  <tbody>\n",
       "    <tr>\n",
       "      <th>0</th>\n",
       "      <td>0.700335</td>\n",
       "      <td>-0.247068</td>\n",
       "      <td>0.0</td>\n",
       "    </tr>\n",
       "    <tr>\n",
       "      <th>1</th>\n",
       "      <td>-3.950019</td>\n",
       "      <td>2.740080</td>\n",
       "      <td>1.0</td>\n",
       "    </tr>\n",
       "    <tr>\n",
       "      <th>2</th>\n",
       "      <td>0.150222</td>\n",
       "      <td>-2.157638</td>\n",
       "      <td>1.0</td>\n",
       "    </tr>\n",
       "    <tr>\n",
       "      <th>3</th>\n",
       "      <td>-1.672050</td>\n",
       "      <td>-0.941519</td>\n",
       "      <td>1.0</td>\n",
       "    </tr>\n",
       "    <tr>\n",
       "      <th>4</th>\n",
       "      <td>2.560483</td>\n",
       "      <td>-1.846577</td>\n",
       "      <td>1.0</td>\n",
       "    </tr>\n",
       "  </tbody>\n",
       "</table>\n",
       "</div>"
      ],
      "text/plain": [
       "          x         y  class\n",
       "0  0.700335 -0.247068    0.0\n",
       "1 -3.950019  2.740080    1.0\n",
       "2  0.150222 -2.157638    1.0\n",
       "3 -1.672050 -0.941519    1.0\n",
       "4  2.560483 -1.846577    1.0"
      ]
     },
     "execution_count": 5,
     "metadata": {},
     "output_type": "execute_result"
    }
   ],
   "source": [
    "names=['x','y','class']\n",
    "df=pd.read_csv(\"concertriccir2.csv\",header=None,names=names)\n",
    "df.head()"
   ]
  },
  {
   "cell_type": "code",
   "execution_count": 6,
   "id": "cb71ff5c",
   "metadata": {},
   "outputs": [],
   "source": [
    "X=np.array(df.iloc[:,0:2])\n",
    "y=np.array(df['class'])"
   ]
  },
  {
   "cell_type": "code",
   "execution_count": 9,
   "id": "10f455e4",
   "metadata": {},
   "outputs": [
    {
     "data": {
      "text/plain": [
       "array([[ 0.70033457, -0.24706758],\n",
       "       [-3.95001869,  2.74007953],\n",
       "       [ 0.15022162, -2.1576378 ],\n",
       "       [-1.67205033, -0.94151907],\n",
       "       [ 2.56048303, -1.84657672]])"
      ]
     },
     "execution_count": 9,
     "metadata": {},
     "output_type": "execute_result"
    }
   ],
   "source": [
    "X[:5]"
   ]
  },
  {
   "cell_type": "code",
   "execution_count": 10,
   "id": "2c98a587",
   "metadata": {},
   "outputs": [
    {
     "data": {
      "text/plain": [
       "array([0., 1., 1., 1., 1.])"
      ]
     },
     "execution_count": 10,
     "metadata": {},
     "output_type": "execute_result"
    }
   ],
   "source": [
    "y[:5]"
   ]
  },
  {
   "cell_type": "markdown",
   "id": "39d48d02",
   "metadata": {},
   "source": [
    "# 1.Simple Cross Validation"
   ]
  },
  {
   "cell_type": "code",
   "execution_count": 12,
   "id": "c67d8150",
   "metadata": {},
   "outputs": [],
   "source": [
    "#Splitted my data into Train and Test\n",
    "X_1,X_test,y_1,y_test=train_test_split(X,y,test_size=0.3,random_state=10)"
   ]
  },
  {
   "cell_type": "code",
   "execution_count": 13,
   "id": "a585b22b",
   "metadata": {},
   "outputs": [
    {
     "data": {
      "text/plain": [
       "350"
      ]
     },
     "execution_count": 13,
     "metadata": {},
     "output_type": "execute_result"
    }
   ],
   "source": [
    "len(X_1)"
   ]
  },
  {
   "cell_type": "code",
   "execution_count": 14,
   "id": "9aac4ae2",
   "metadata": {},
   "outputs": [
    {
     "data": {
      "text/plain": [
       "150"
      ]
     },
     "execution_count": 14,
     "metadata": {},
     "output_type": "execute_result"
    }
   ],
   "source": [
    "len(X_test)"
   ]
  },
  {
   "cell_type": "code",
   "execution_count": 15,
   "id": "752dbb58",
   "metadata": {},
   "outputs": [],
   "source": [
    "#Splitted my Training data into Train and Cross Validation Test\n",
    "X_tr,X_cv,y_tr,y_cv=train_test_split(X_1,y_1,test_size=0.3,random_state=10)"
   ]
  },
  {
   "cell_type": "code",
   "execution_count": 16,
   "id": "a3daa018",
   "metadata": {},
   "outputs": [
    {
     "data": {
      "text/plain": [
       "(245, 105)"
      ]
     },
     "execution_count": 16,
     "metadata": {},
     "output_type": "execute_result"
    }
   ],
   "source": [
    "len(X_tr),len(X_cv)"
   ]
  },
  {
   "cell_type": "code",
   "execution_count": 17,
   "id": "02405c74",
   "metadata": {},
   "outputs": [
    {
     "data": {
      "text/plain": [
       "244.99999999999997"
      ]
     },
     "execution_count": 17,
     "metadata": {},
     "output_type": "execute_result"
    }
   ],
   "source": [
    "0.7*350"
   ]
  },
  {
   "cell_type": "code",
   "execution_count": 18,
   "id": "559e9c9e",
   "metadata": {},
   "outputs": [
    {
     "data": {
      "text/plain": [
       "range(1, 30, 2)"
      ]
     },
     "execution_count": 18,
     "metadata": {},
     "output_type": "execute_result"
    }
   ],
   "source": [
    "range(1,30,2)"
   ]
  },
  {
   "cell_type": "code",
   "execution_count": 19,
   "id": "9b7ed9ef",
   "metadata": {},
   "outputs": [
    {
     "name": "stdout",
     "output_type": "stream",
     "text": [
      "1\n",
      "3\n",
      "5\n",
      "7\n",
      "9\n",
      "11\n",
      "13\n",
      "15\n",
      "17\n",
      "19\n",
      "21\n",
      "23\n",
      "25\n",
      "27\n",
      "29\n"
     ]
    }
   ],
   "source": [
    "for i in range(1,30,2):\n",
    "    print(i)\n",
    "    "
   ]
  },
  {
   "cell_type": "code",
   "execution_count": 20,
   "id": "e2d98f7c",
   "metadata": {},
   "outputs": [
    {
     "name": "stdout",
     "output_type": "stream",
     "text": [
      "\n",
      "CV accuracy for k= 1 is 80%\n",
      "\n",
      "CV accuracy for k= 3 is 82%\n",
      "\n",
      "CV accuracy for k= 5 is 81%\n",
      "\n",
      "CV accuracy for k= 7 is 80%\n",
      "\n",
      "CV accuracy for k= 9 is 76%\n",
      "\n",
      "CV accuracy for k= 11 is 74%\n",
      "\n",
      "CV accuracy for k= 13 is 74%\n",
      "\n",
      "CV accuracy for k= 15 is 76%\n",
      "\n",
      "CV accuracy for k= 17 is 75%\n",
      "\n",
      "CV accuracy for k= 19 is 74%\n",
      "\n",
      "CV accuracy for k= 21 is 72%\n",
      "\n",
      "CV accuracy for k= 23 is 68%\n",
      "\n",
      "CV accuracy for k= 25 is 67%\n",
      "\n",
      "CV accuracy for k= 27 is 66%\n",
      "\n",
      "CV accuracy for k= 29 is 63%\n"
     ]
    }
   ],
   "source": [
    "for i in range(1,30,2):\n",
    "    #instantiate the learning model\n",
    "    knn=KNeighborsClassifier(n_neighbors=i)\n",
    "    #fit the model on train data\n",
    "    knn.fit(X_tr,y_tr)\n",
    "    #predict the response on cross validation data\n",
    "    pred=knn.predict(X_cv)\n",
    "    #evaluate CV accuracy\n",
    "    acc=accuracy_score(y_cv,pred,normalize=True)*float(100)\n",
    "    print('\\nCV accuracy for k= %d is %d%%' % (i,acc))\n",
    "    "
   ]
  },
  {
   "cell_type": "code",
   "execution_count": 21,
   "id": "61b1860b",
   "metadata": {},
   "outputs": [
    {
     "name": "stdout",
     "output_type": "stream",
     "text": [
      "\n",
      "Test accuracy for k= 3 is 92%\n"
     ]
    }
   ],
   "source": [
    "#Now we will use the optimal k for my model\n",
    "knn=KNeighborsClassifier(n_neighbors=3)\n",
    "knn.fit(X_1,y_1)\n",
    "pred=knn.predict(X_test)\n",
    "#evaluate test accuracy\n",
    "acc=accuracy_score(y_test,pred,normalize=True)*float(100)\n",
    "print('\\nTest accuracy for k= %d is %d%%' % (3,acc))"
   ]
  },
  {
   "cell_type": "markdown",
   "id": "a80ff95a",
   "metadata": {},
   "source": [
    "# 2. K-fold Cross Validation"
   ]
  },
  {
   "cell_type": "code",
   "execution_count": 23,
   "id": "6cfeb856",
   "metadata": {},
   "outputs": [
    {
     "name": "stdout",
     "output_type": "stream",
     "text": [
      "[0, 1, 2]\n"
     ]
    }
   ],
   "source": [
    "X_train=X_1\n",
    "y_train=y_1\n",
    "\n",
    "#list of values for k in KNN\n",
    "mylist=list(range(0,3))\n",
    "print(mylist)"
   ]
  },
  {
   "cell_type": "code",
   "execution_count": 25,
   "id": "d6a9f077",
   "metadata": {},
   "outputs": [
    {
     "data": {
      "text/plain": [
       "[1]"
      ]
     },
     "execution_count": 25,
     "metadata": {},
     "output_type": "execute_result"
    }
   ],
   "source": [
    "neighbors=list(filter(lambda x:x%2!=0,mylist))\n",
    "neighbors"
   ]
  },
  {
   "cell_type": "code",
   "execution_count": 27,
   "id": "25031578",
   "metadata": {},
   "outputs": [
    {
     "name": "stdout",
     "output_type": "stream",
     "text": [
      "k in KNN : 1 \n",
      " scores : [0.97142857 0.91428571 0.97142857 0.85714286 0.82857143 0.85714286\n",
      " 0.85714286 0.88571429 0.88571429 0.88571429] \n",
      " scores.mean() 0.8914285714285715\n"
     ]
    }
   ],
   "source": [
    "#empty list to store my cv scores\n",
    "cv_scores=[]\n",
    "\n",
    "#perform 10-fold cross validation\n",
    "for k in neighbors:\n",
    "    knn=KNeighborsClassifier(n_neighbors=k)\n",
    "    scores=cross_val_score(knn,X_train,y_train,cv=10,scoring='accuracy')\n",
    "    print(\"k in KNN :\",k,\"\\n\",\"scores :\",scores,\"\\n\",\"scores.mean()\",scores.mean())\n",
    "    cv_scores.append(scores.mean())"
   ]
  },
  {
   "cell_type": "code",
   "execution_count": 28,
   "id": "83ed0f45",
   "metadata": {},
   "outputs": [
    {
     "data": {
      "text/plain": [
       "[0.8914285714285715]"
      ]
     },
     "execution_count": 28,
     "metadata": {},
     "output_type": "execute_result"
    }
   ],
   "source": [
    "cv_scores"
   ]
  },
  {
   "cell_type": "code",
   "execution_count": 29,
   "id": "e4da31b3",
   "metadata": {},
   "outputs": [],
   "source": [
    "X_train=X_1\n",
    "y_train=y_1\n",
    "\n",
    "#list of values for k in KNN\n",
    "mylist=list(range(0,30))\n",
    "neighbors=list(filter(lambda x:x%2!=0,mylist))\n",
    "\n",
    "#empty list to store my cv scores\n",
    "cv_scores=[]\n",
    "\n",
    "#perform 10-fold cross validation\n",
    "for k in neighbors:\n",
    "    knn=KNeighborsClassifier(n_neighbors=k)\n",
    "    scores=cross_val_score(knn,X_train,y_train,cv=10,scoring='accuracy')\n",
    "    #print(\"k in KNN :\",k,\"\\n\",\"scores :\",scores,\"\\n\",\"scores.mean()\",scores.mean())\n",
    "    cv_scores.append(scores.mean())"
   ]
  },
  {
   "cell_type": "code",
   "execution_count": 30,
   "id": "56e5751a",
   "metadata": {},
   "outputs": [
    {
     "data": {
      "text/plain": [
       "[0.8914285714285715,\n",
       " 0.877142857142857,\n",
       " 0.8857142857142858,\n",
       " 0.8714285714285716,\n",
       " 0.8657142857142857,\n",
       " 0.86,\n",
       " 0.8485714285714288,\n",
       " 0.8400000000000001,\n",
       " 0.8200000000000001,\n",
       " 0.8114285714285714,\n",
       " 0.8057142857142858,\n",
       " 0.7828571428571429,\n",
       " 0.7742857142857142,\n",
       " 0.7571428571428571,\n",
       " 0.7428571428571429]"
      ]
     },
     "execution_count": 30,
     "metadata": {},
     "output_type": "execute_result"
    }
   ],
   "source": [
    "cv_scores"
   ]
  },
  {
   "cell_type": "code",
   "execution_count": 31,
   "id": "fdfe2999",
   "metadata": {},
   "outputs": [
    {
     "data": {
      "text/plain": [
       "[0.10857142857142854,\n",
       " 0.122857142857143,\n",
       " 0.11428571428571421,\n",
       " 0.12857142857142845,\n",
       " 0.13428571428571434,\n",
       " 0.14,\n",
       " 0.15142857142857125,\n",
       " 0.15999999999999992,\n",
       " 0.17999999999999994,\n",
       " 0.1885714285714286,\n",
       " 0.19428571428571417,\n",
       " 0.21714285714285708,\n",
       " 0.22571428571428576,\n",
       " 0.24285714285714288,\n",
       " 0.2571428571428571]"
      ]
     },
     "execution_count": 31,
     "metadata": {},
     "output_type": "execute_result"
    }
   ],
   "source": [
    "#calculate the misclassified error\n",
    "MSE=[1-x for  x in cv_scores]\n",
    "MSE"
   ]
  },
  {
   "cell_type": "code",
   "execution_count": 32,
   "id": "8c319733",
   "metadata": {},
   "outputs": [
    {
     "data": {
      "text/plain": [
       "[1, 3, 5, 7, 9, 11, 13, 15, 17, 19, 21, 23, 25, 27, 29]"
      ]
     },
     "execution_count": 32,
     "metadata": {},
     "output_type": "execute_result"
    }
   ],
   "source": [
    "neighbors"
   ]
  },
  {
   "cell_type": "code",
   "execution_count": 33,
   "id": "436d9d56",
   "metadata": {},
   "outputs": [
    {
     "name": "stdout",
     "output_type": "stream",
     "text": [
      " the optimal number of neighnprs is 1.\n"
     ]
    }
   ],
   "source": [
    "#determine the best K in KNN\n",
    "optimal_k=neighbors[MSE.index(min(MSE))]\n",
    "print(\" the optimal number of neighnprs is %d.\" % optimal_k)"
   ]
  },
  {
   "cell_type": "code",
   "execution_count": 34,
   "id": "b969a603",
   "metadata": {},
   "outputs": [
    {
     "data": {
      "text/plain": [
       "[<matplotlib.lines.Line2D at 0x2085a58f3a0>]"
      ]
     },
     "execution_count": 34,
     "metadata": {},
     "output_type": "execute_result"
    },
    {
     "data": {
      "image/png": "[encoded data removed]",
      "text/plain": [
       "<Figure size 432x288 with 1 Axes>"
      ]
     },
     "metadata": {
      "needs_background": "light"
     },
     "output_type": "display_data"
    }
   ],
   "source": [
    "plt.plot(neighbors,MSE)"
   ]
  },
  {
   "cell_type": "code",
   "execution_count": 35,
   "id": "c7727294",
   "metadata": {},
   "outputs": [
    {
     "data": {
      "text/plain": [
       "[<matplotlib.lines.Line2D at 0x2085a7b23a0>]"
      ]
     },
     "execution_count": 35,
     "metadata": {},
     "output_type": "execute_result"
    },
    {
     "data": {
      "image/png": "[encoded data removed]",
      "text/plain": [
       "<Figure size 432x288 with 1 Axes>"
      ]
     },
     "metadata": {
      "needs_background": "light"
     },
     "output_type": "display_data"
    }
   ],
   "source": [
    "plt.plot(neighbors,cv_scores)"
   ]
  },
  {
   "cell_type": "code",
   "execution_count": 37,
   "id": "e607ad2b",
   "metadata": {},
   "outputs": [
    {
     "name": "stdout",
     "output_type": "stream",
     "text": [
      "(1, 0.109)\n",
      "(3, 0.123)\n",
      "(5, 0.114)\n",
      "(7, 0.129)\n",
      "(9, 0.134)\n",
      "(11, 0.14)\n",
      "(13, 0.151)\n",
      "(15, 0.16)\n",
      "(17, 0.18)\n",
      "(19, 0.189)\n",
      "(21, 0.194)\n",
      "(23, 0.217)\n",
      "(25, 0.226)\n",
      "(27, 0.243)\n",
      "(29, 0.257)\n"
     ]
    }
   ],
   "source": [
    "for xy in zip(neighbors,np.round(MSE,3)):\n",
    "    print(xy)"
   ]
  },
  {
   "cell_type": "code",
   "execution_count": 39,
   "id": "460017dc",
   "metadata": {},
   "outputs": [
    {
     "data": {
      "image/png": "[encoded data removed]",
      "text/plain": [
       "<Figure size 432x288 with 1 Axes>"
      ]
     },
     "metadata": {
      "needs_background": "light"
     },
     "output_type": "display_data"
    },
    {
     "name": "stdout",
     "output_type": "stream",
     "text": [
      "the missclassification error for each k value is : [0.109 0.123 0.114 0.129 0.134 0.14  0.151 0.16  0.18  0.189 0.194 0.217\n",
      " 0.226 0.243 0.257]\n"
     ]
    }
   ],
   "source": [
    "plt.plot(neighbors,MSE)\n",
    "for xy in zip(neighbors,np.round(MSE,3)):\n",
    "    plt.annotate('(%s,%s)' % xy,xy=xy,textcoords='data')\n",
    "    \n",
    "plt.xlabel('Number of Neighbors K')\n",
    "plt.ylabel('MSE')\n",
    "plt.show()\n",
    "\n",
    "print('the missclassification error for each k value is :',np.round(MSE,3))"
   ]
  },
  {
   "cell_type": "code",
   "execution_count": null,
   "id": "92bd67ba",
   "metadata": {},
   "outputs": [],
   "source": []
  }
 ],
 "metadata": {
  "kernelspec": {
   "display_name": "Python 3 (ipykernel)",
   "language": "python",
   "name": "python3"
  },
  "language_info": {
   "codemirror_mode": {
    "name": "ipython",
    "version": 3
   },
   "file_extension": ".py",
   "mimetype": "text/x-python",
   "name": "python",
   "nbconvert_exporter": "python",
   "pygments_lexer": "ipython3",
   "version": "3.9.12"
  }
 },
 "nbformat": 4,
 "nbformat_minor": 5
}
