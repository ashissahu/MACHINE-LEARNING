{
 "cells": [
  {
   "cell_type": "code",
   "execution_count": 1,
   "metadata": {},
   "outputs": [
    {
     "name": "stderr",
     "output_type": "stream",
     "text": [
      "c:\\Users\\ashis\\Downloads\\DataScience Training\\DATA_SCIENCE_TRAINING\\5- DEEP LEARNING\\54- TRANSFORMER\\sentenv\\lib\\site-packages\\tqdm\\auto.py:21: TqdmWarning: IProgress not found. Please update jupyter and ipywidgets. See https://ipywidgets.readthedocs.io/en/stable/user_install.html\n",
      "  from .autonotebook import tqdm as notebook_tqdm\n"
     ]
    }
   ],
   "source": [
    "import torch\n",
    "import pandas as pd\n",
    "import re\n",
    "from transformers import BertTokenizer, BertForSequenceClassification\n",
    "import torch.nn.functional as F\n",
    "from tqdm import tqdm"
   ]
  },
  {
   "cell_type": "code",
   "execution_count": 2,
   "metadata": {},
   "outputs": [
    {
     "data": {
      "text/plain": [
       "device(type='cpu')"
      ]
     },
     "execution_count": 2,
     "metadata": {},
     "output_type": "execute_result"
    }
   ],
   "source": [
    "# Set device to GPU if available, otherwise use CPU\n",
    "device = torch.device(\"cuda\" if torch.cuda.is_available() else \"cpu\")\n",
    "device"
   ]
  },
  {
   "cell_type": "code",
   "execution_count": 3,
   "metadata": {},
   "outputs": [
    {
     "data": {
      "text/plain": [
       "BertForSequenceClassification(\n",
       "  (bert): BertModel(\n",
       "    (embeddings): BertEmbeddings(\n",
       "      (word_embeddings): Embedding(105879, 768, padding_idx=0)\n",
       "      (position_embeddings): Embedding(512, 768)\n",
       "      (token_type_embeddings): Embedding(2, 768)\n",
       "      (LayerNorm): LayerNorm((768,), eps=1e-12, elementwise_affine=True)\n",
       "      (dropout): Dropout(p=0.1, inplace=False)\n",
       "    )\n",
       "    (encoder): BertEncoder(\n",
       "      (layer): ModuleList(\n",
       "        (0-11): 12 x BertLayer(\n",
       "          (attention): BertAttention(\n",
       "            (self): BertSdpaSelfAttention(\n",
       "              (query): Linear(in_features=768, out_features=768, bias=True)\n",
       "              (key): Linear(in_features=768, out_features=768, bias=True)\n",
       "              (value): Linear(in_features=768, out_features=768, bias=True)\n",
       "              (dropout): Dropout(p=0.1, inplace=False)\n",
       "            )\n",
       "            (output): BertSelfOutput(\n",
       "              (dense): Linear(in_features=768, out_features=768, bias=True)\n",
       "              (LayerNorm): LayerNorm((768,), eps=1e-12, elementwise_affine=True)\n",
       "              (dropout): Dropout(p=0.1, inplace=False)\n",
       "            )\n",
       "          )\n",
       "          (intermediate): BertIntermediate(\n",
       "            (dense): Linear(in_features=768, out_features=3072, bias=True)\n",
       "            (intermediate_act_fn): GELUActivation()\n",
       "          )\n",
       "          (output): BertOutput(\n",
       "            (dense): Linear(in_features=3072, out_features=768, bias=True)\n",
       "            (LayerNorm): LayerNorm((768,), eps=1e-12, elementwise_affine=True)\n",
       "            (dropout): Dropout(p=0.1, inplace=False)\n",
       "          )\n",
       "        )\n",
       "      )\n",
       "    )\n",
       "    (pooler): BertPooler(\n",
       "      (dense): Linear(in_features=768, out_features=768, bias=True)\n",
       "      (activation): Tanh()\n",
       "    )\n",
       "  )\n",
       "  (dropout): Dropout(p=0.1, inplace=False)\n",
       "  (classifier): Linear(in_features=768, out_features=5, bias=True)\n",
       ")"
      ]
     },
     "execution_count": 3,
     "metadata": {},
     "output_type": "execute_result"
    }
   ],
   "source": [
    "# Load a pretrained BERT model for sentiment analysis\n",
    "MODEL_NAME = \"nlptown/bert-base-multilingual-uncased-sentiment\"  # This model predicts sentiment on a 5-point scale\n",
    "tokenizer = BertTokenizer.from_pretrained(MODEL_NAME)  # Load tokenizer\n",
    "model = BertForSequenceClassification.from_pretrained(MODEL_NAME)  # Load model\n",
    "model.to(device)  # Move model to the selected device (GPU/CPU)\n",
    "model.eval()  # Set model to evaluation mode (important for inference)"
   ]
  },
  {
   "cell_type": "code",
   "execution_count": 4,
   "metadata": {},
   "outputs": [],
   "source": [
    "# Load dataset\n",
    "df = pd.read_csv('IMDB Dataset.csv')"
   ]
  },
  {
   "cell_type": "code",
   "execution_count": 5,
   "metadata": {},
   "outputs": [
    {
     "data": {
      "text/html": [
       "<div>\n",
       "<style scoped>\n",
       "    .dataframe tbody tr th:only-of-type {\n",
       "        vertical-align: middle;\n",
       "    }\n",
       "\n",
       "    .dataframe tbody tr th {\n",
       "        vertical-align: top;\n",
       "    }\n",
       "\n",
       "    .dataframe thead th {\n",
       "        text-align: right;\n",
       "    }\n",
       "</style>\n",
       "<table border=\"1\" class=\"dataframe\">\n",
       "  <thead>\n",
       "    <tr style=\"text-align: right;\">\n",
       "      <th></th>\n",
       "      <th>review</th>\n",
       "      <th>sentiment</th>\n",
       "    </tr>\n",
       "  </thead>\n",
       "  <tbody>\n",
       "    <tr>\n",
       "      <th>0</th>\n",
       "      <td>One of the other reviewers has mentioned that after watching just 1 Oz episode you'll be hooked. They are right, as this is exactly what happened with me.&lt;br /&gt;&lt;br /&gt;The first thing that struck me about Oz was its brutality and unflinching scenes of violence, which set in right from the word GO. Trust me, this is not a show for the faint hearted or timid. This show pulls no punches with regards to drugs, sex or violence. Its is hardcore, in the classic use of the word.&lt;br /&gt;&lt;br /&gt;It is called OZ as that is the nickname given to the Oswald Maximum Security State Penitentary. It focuses mainly on Emerald City, an experimental section of the prison where all the cells have glass fronts and face inwards, so privacy is not high on the agenda. Em City is home to many..Aryans, Muslims, gangstas, Latinos, Christians, Italians, Irish and more....so scuffles, death stares, dodgy dealings and shady agreements are never far away.&lt;br /&gt;&lt;br /&gt;I would say the main appeal of the show is due to the fact that it goes where other shows wouldn't dare. Forget pretty pictures painted for mainstream audiences, forget charm, forget romance...OZ doesn't mess around. The first episode I ever saw struck me as so nasty it was surreal, I couldn't say I was ready for it, but as I watched more, I developed a taste for Oz, and got accustomed to the high levels of graphic violence. Not just violence, but injustice (crooked guards who'll be sold out for a nickel, inmates who'll kill on order and get away with it, well mannered, middle class inmates being turned into prison bitches due to their lack of street skills or prison experience) Watching Oz, you may become comfortable with what is uncomfortable viewing....thats if you can get in touch with your darker side.</td>\n",
       "      <td>positive</td>\n",
       "    </tr>\n",
       "    <tr>\n",
       "      <th>1</th>\n",
       "      <td>A wonderful little production. &lt;br /&gt;&lt;br /&gt;The filming technique is very unassuming- very old-time-BBC fashion and gives a comforting, and sometimes discomforting, sense of realism to the entire piece. &lt;br /&gt;&lt;br /&gt;The actors are extremely well chosen- Michael Sheen not only \"has got all the polari\" but he has all the voices down pat too! You can truly see the seamless editing guided by the references to Williams' diary entries, not only is it well worth the watching but it is a terrificly written and performed piece. A masterful production about one of the great master's of comedy and his life. &lt;br /&gt;&lt;br /&gt;The realism really comes home with the little things: the fantasy of the guard which, rather than use the traditional 'dream' techniques remains solid then disappears. It plays on our knowledge and our senses, particularly with the scenes concerning Orton and Halliwell and the sets (particularly of their flat with Halliwell's murals decorating every surface) are terribly well done.</td>\n",
       "      <td>positive</td>\n",
       "    </tr>\n",
       "    <tr>\n",
       "      <th>2</th>\n",
       "      <td>I thought this was a wonderful way to spend time on a too hot summer weekend, sitting in the air conditioned theater and watching a light-hearted comedy. The plot is simplistic, but the dialogue is witty and the characters are likable (even the well bread suspected serial killer). While some may be disappointed when they realize this is not Match Point 2: Risk Addiction, I thought it was proof that Woody Allen is still fully in control of the style many of us have grown to love.&lt;br /&gt;&lt;br /&gt;This was the most I'd laughed at one of Woody's comedies in years (dare I say a decade?). While I've never been impressed with Scarlet Johanson, in this she managed to tone down her \"sexy\" image and jumped right into a average, but spirited young woman.&lt;br /&gt;&lt;br /&gt;This may not be the crown jewel of his career, but it was wittier than \"Devil Wears Prada\" and more interesting than \"Superman\" a great comedy to go see with friends.</td>\n",
       "      <td>positive</td>\n",
       "    </tr>\n",
       "    <tr>\n",
       "      <th>3</th>\n",
       "      <td>Basically there's a family where a little boy (Jake) thinks there's a zombie in his closet &amp; his parents are fighting all the time.&lt;br /&gt;&lt;br /&gt;This movie is slower than a soap opera... and suddenly, Jake decides to become Rambo and kill the zombie.&lt;br /&gt;&lt;br /&gt;OK, first of all when you're going to make a film you must Decide if its a thriller or a drama! As a drama the movie is watchable. Parents are divorcing &amp; arguing like in real life. And then we have Jake with his closet which totally ruins all the film! I expected to see a BOOGEYMAN similar movie, and instead i watched a drama with some meaningless thriller spots.&lt;br /&gt;&lt;br /&gt;3 out of 10 just for the well playing parents &amp; descent dialogs. As for the shots with Jake: just ignore them.</td>\n",
       "      <td>negative</td>\n",
       "    </tr>\n",
       "    <tr>\n",
       "      <th>4</th>\n",
       "      <td>Petter Mattei's \"Love in the Time of Money\" is a visually stunning film to watch. Mr. Mattei offers us a vivid portrait about human relations. This is a movie that seems to be telling us what money, power and success do to people in the different situations we encounter. &lt;br /&gt;&lt;br /&gt;This being a variation on the Arthur Schnitzler's play about the same theme, the director transfers the action to the present time New York where all these different characters meet and connect. Each one is connected in one way, or another to the next person, but no one seems to know the previous point of contact. Stylishly, the film has a sophisticated luxurious look. We are taken to see how these people live and the world they live in their own habitat.&lt;br /&gt;&lt;br /&gt;The only thing one gets out of all these souls in the picture is the different stages of loneliness each one inhabits. A big city is not exactly the best place in which human relations find sincere fulfillment, as one discerns is the case with most of the people we encounter.&lt;br /&gt;&lt;br /&gt;The acting is good under Mr. Mattei's direction. Steve Buscemi, Rosario Dawson, Carol Kane, Michael Imperioli, Adrian Grenier, and the rest of the talented cast, make these characters come alive.&lt;br /&gt;&lt;br /&gt;We wish Mr. Mattei good luck and await anxiously for his next work.</td>\n",
       "      <td>positive</td>\n",
       "    </tr>\n",
       "  </tbody>\n",
       "</table>\n",
       "</div>"
      ],
      "text/plain": [
       "                                                                                                                                                                                                                                                                                                                                                                                                                                                                                                                                                                                                                                                                                                                                                                                                                                                                                                                                                                                                                                                                                                                                                                                                                                                                                                                                                                                                                                                                                                                                                                                                                                                                                                                                                                                                                              review  \\\n",
       "0  One of the other reviewers has mentioned that after watching just 1 Oz episode you'll be hooked. They are right, as this is exactly what happened with me.<br /><br />The first thing that struck me about Oz was its brutality and unflinching scenes of violence, which set in right from the word GO. Trust me, this is not a show for the faint hearted or timid. This show pulls no punches with regards to drugs, sex or violence. Its is hardcore, in the classic use of the word.<br /><br />It is called OZ as that is the nickname given to the Oswald Maximum Security State Penitentary. It focuses mainly on Emerald City, an experimental section of the prison where all the cells have glass fronts and face inwards, so privacy is not high on the agenda. Em City is home to many..Aryans, Muslims, gangstas, Latinos, Christians, Italians, Irish and more....so scuffles, death stares, dodgy dealings and shady agreements are never far away.<br /><br />I would say the main appeal of the show is due to the fact that it goes where other shows wouldn't dare. Forget pretty pictures painted for mainstream audiences, forget charm, forget romance...OZ doesn't mess around. The first episode I ever saw struck me as so nasty it was surreal, I couldn't say I was ready for it, but as I watched more, I developed a taste for Oz, and got accustomed to the high levels of graphic violence. Not just violence, but injustice (crooked guards who'll be sold out for a nickel, inmates who'll kill on order and get away with it, well mannered, middle class inmates being turned into prison bitches due to their lack of street skills or prison experience) Watching Oz, you may become comfortable with what is uncomfortable viewing....thats if you can get in touch with your darker side.   \n",
       "1                                                                                                                                                                                                                                                                                                                                                                                                                                                                                                                                                                                                                                                                                                                                                                                             A wonderful little production. <br /><br />The filming technique is very unassuming- very old-time-BBC fashion and gives a comforting, and sometimes discomforting, sense of realism to the entire piece. <br /><br />The actors are extremely well chosen- Michael Sheen not only \"has got all the polari\" but he has all the voices down pat too! You can truly see the seamless editing guided by the references to Williams' diary entries, not only is it well worth the watching but it is a terrificly written and performed piece. A masterful production about one of the great master's of comedy and his life. <br /><br />The realism really comes home with the little things: the fantasy of the guard which, rather than use the traditional 'dream' techniques remains solid then disappears. It plays on our knowledge and our senses, particularly with the scenes concerning Orton and Halliwell and the sets (particularly of their flat with Halliwell's murals decorating every surface) are terribly well done.   \n",
       "2                                                                                                                                                                                                                                                                                                                                                                                                                                                                                                                                                                                                                                                                                                                                                                                                                                                                     I thought this was a wonderful way to spend time on a too hot summer weekend, sitting in the air conditioned theater and watching a light-hearted comedy. The plot is simplistic, but the dialogue is witty and the characters are likable (even the well bread suspected serial killer). While some may be disappointed when they realize this is not Match Point 2: Risk Addiction, I thought it was proof that Woody Allen is still fully in control of the style many of us have grown to love.<br /><br />This was the most I'd laughed at one of Woody's comedies in years (dare I say a decade?). While I've never been impressed with Scarlet Johanson, in this she managed to tone down her \"sexy\" image and jumped right into a average, but spirited young woman.<br /><br />This may not be the crown jewel of his career, but it was wittier than \"Devil Wears Prada\" and more interesting than \"Superman\" a great comedy to go see with friends.   \n",
       "3                                                                                                                                                                                                                                                                                                                                                                                                                                                                                                                                                                                                                                                                                                                                                                                                                                                                                                                                                                                                                                                       Basically there's a family where a little boy (Jake) thinks there's a zombie in his closet & his parents are fighting all the time.<br /><br />This movie is slower than a soap opera... and suddenly, Jake decides to become Rambo and kill the zombie.<br /><br />OK, first of all when you're going to make a film you must Decide if its a thriller or a drama! As a drama the movie is watchable. Parents are divorcing & arguing like in real life. And then we have Jake with his closet which totally ruins all the film! I expected to see a BOOGEYMAN similar movie, and instead i watched a drama with some meaningless thriller spots.<br /><br />3 out of 10 just for the well playing parents & descent dialogs. As for the shots with Jake: just ignore them.   \n",
       "4                                                                                                                                                                                                                                                                                                                                                                                                                                                              Petter Mattei's \"Love in the Time of Money\" is a visually stunning film to watch. Mr. Mattei offers us a vivid portrait about human relations. This is a movie that seems to be telling us what money, power and success do to people in the different situations we encounter. <br /><br />This being a variation on the Arthur Schnitzler's play about the same theme, the director transfers the action to the present time New York where all these different characters meet and connect. Each one is connected in one way, or another to the next person, but no one seems to know the previous point of contact. Stylishly, the film has a sophisticated luxurious look. We are taken to see how these people live and the world they live in their own habitat.<br /><br />The only thing one gets out of all these souls in the picture is the different stages of loneliness each one inhabits. A big city is not exactly the best place in which human relations find sincere fulfillment, as one discerns is the case with most of the people we encounter.<br /><br />The acting is good under Mr. Mattei's direction. Steve Buscemi, Rosario Dawson, Carol Kane, Michael Imperioli, Adrian Grenier, and the rest of the talented cast, make these characters come alive.<br /><br />We wish Mr. Mattei good luck and await anxiously for his next work.   \n",
       "\n",
       "  sentiment  \n",
       "0  positive  \n",
       "1  positive  \n",
       "2  positive  \n",
       "3  negative  \n",
       "4  positive  "
      ]
     },
     "execution_count": 5,
     "metadata": {},
     "output_type": "execute_result"
    }
   ],
   "source": [
    "pd.set_option('display.max_colwidth',None)\n",
    "df.head()"
   ]
  },
  {
   "cell_type": "code",
   "execution_count": 6,
   "metadata": {},
   "outputs": [
    {
     "name": "stdout",
     "output_type": "stream",
     "text": [
      "['un', '##beli', '##eva', '##bly', 'great', 'experience', '!']\n"
     ]
    }
   ],
   "source": [
    "text = \"Unbelievably great experience!\"\n",
    "tokens = tokenizer.tokenize(text)\n",
    "print(tokens)"
   ]
  },
  {
   "cell_type": "code",
   "execution_count": 7,
   "metadata": {},
   "outputs": [],
   "source": [
    "# ======= Preprocessing Steps =======\n",
    "\n",
    "# 1️⃣ Remove rows where 'review' is NaN or empty\n",
    "df = df.dropna(subset=[\"review\"])  # Drop rows where review is NaN\n",
    "df = df[df[\"review\"].str.strip() != \"\"]  # Remove empty strings after stripping whitespace\n",
    "\n",
    "# 2️⃣ Define a function to clean the review\n",
    "def clean_review(review):\n",
    "    review = review.lower()  # Convert review to lowercase (helps for consistency)\n",
    "    review = re.sub(r\"https?://\\S+|www\\.\\S+\", \"\", review)  # Remove URLs (they don't contribute to sentiment)\n",
    "    review = re.sub(r\"<.*?>\", \"\", review)  # Remove HTML tags (useful if data is scraped from the web)\n",
    "    review = re.sub(r\"[^\\x00-\\x7F]+\", \"\", review)  # Remove non-ASCII characters (avoids encoding issues)\n",
    "    review = re.sub(r\"\\s+\", \" \", review)  # Replace multiple spaces with a single space (cleans up formatting)\n",
    "    review = re.sub(r\"[^a-zA-Z0-9\\s.,!?']\", \"\", review)  # Keep only letters, numbers, and basic punctuation\n",
    "    return review.strip()  # Remove leading/trailing spaces\n",
    "\n",
    "# Apply review cleaning to the dataset\n",
    "df[\"review\"] = df[\"review\"].apply(clean_review)\n",
    "\n",
    "# 3️⃣ Truncate long reviews to avoid exceeding BERT's max length (512 tokens)\n",
    "df[\"review\"] = df[\"review\"].apply(lambda x: \" \".join(x.split()[:250]))  # Keeps first 250 words (reasonable limit)"
   ]
  },
  {
   "cell_type": "code",
   "execution_count": 8,
   "metadata": {},
   "outputs": [],
   "source": [
    "df1=df.head(50)"
   ]
  },
  {
   "cell_type": "code",
   "execution_count": 9,
   "metadata": {},
   "outputs": [
    {
     "data": {
      "text/html": [
       "<div>\n",
       "<style scoped>\n",
       "    .dataframe tbody tr th:only-of-type {\n",
       "        vertical-align: middle;\n",
       "    }\n",
       "\n",
       "    .dataframe tbody tr th {\n",
       "        vertical-align: top;\n",
       "    }\n",
       "\n",
       "    .dataframe thead th {\n",
       "        text-align: right;\n",
       "    }\n",
       "</style>\n",
       "<table border=\"1\" class=\"dataframe\">\n",
       "  <thead>\n",
       "    <tr style=\"text-align: right;\">\n",
       "      <th></th>\n",
       "      <th>review</th>\n",
       "      <th>sentiment</th>\n",
       "    </tr>\n",
       "  </thead>\n",
       "  <tbody>\n",
       "    <tr>\n",
       "      <th>0</th>\n",
       "      <td>one of the other reviewers has mentioned that after watching just 1 oz episode you'll be hooked. they are right, as this is exactly what happened with me.the first thing that struck me about oz was its brutality and unflinching scenes of violence, which set in right from the word go. trust me, this is not a show for the faint hearted or timid. this show pulls no punches with regards to drugs, sex or violence. its is hardcore, in the classic use of the word.it is called oz as that is the nickname given to the oswald maximum security state penitentary. it focuses mainly on emerald city, an experimental section of the prison where all the cells have glass fronts and face inwards, so privacy is not high on the agenda. em city is home to many..aryans, muslims, gangstas, latinos, christians, italians, irish and more....so scuffles, death stares, dodgy dealings and shady agreements are never far away.i would say the main appeal of the show is due to the fact that it goes where other shows wouldn't dare. forget pretty pictures painted for mainstream audiences, forget charm, forget romance...oz doesn't mess around. the first episode i ever saw struck me as so nasty it was surreal, i couldn't say i was ready for it, but as i watched more, i developed a taste for oz, and got accustomed to the high levels of graphic violence. not just violence, but injustice crooked guards who'll be sold out for a nickel,</td>\n",
       "      <td>positive</td>\n",
       "    </tr>\n",
       "    <tr>\n",
       "      <th>1</th>\n",
       "      <td>a wonderful little production. the filming technique is very unassuming very oldtimebbc fashion and gives a comforting, and sometimes discomforting, sense of realism to the entire piece. the actors are extremely well chosen michael sheen not only has got all the polari but he has all the voices down pat too! you can truly see the seamless editing guided by the references to williams' diary entries, not only is it well worth the watching but it is a terrificly written and performed piece. a masterful production about one of the great master's of comedy and his life. the realism really comes home with the little things the fantasy of the guard which, rather than use the traditional 'dream' techniques remains solid then disappears. it plays on our knowledge and our senses, particularly with the scenes concerning orton and halliwell and the sets particularly of their flat with halliwell's murals decorating every surface are terribly well done.</td>\n",
       "      <td>positive</td>\n",
       "    </tr>\n",
       "    <tr>\n",
       "      <th>2</th>\n",
       "      <td>i thought this was a wonderful way to spend time on a too hot summer weekend, sitting in the air conditioned theater and watching a lighthearted comedy. the plot is simplistic, but the dialogue is witty and the characters are likable even the well bread suspected serial killer. while some may be disappointed when they realize this is not match point 2 risk addiction, i thought it was proof that woody allen is still fully in control of the style many of us have grown to love.this was the most i'd laughed at one of woody's comedies in years dare i say a decade?. while i've never been impressed with scarlet johanson, in this she managed to tone down her sexy image and jumped right into a average, but spirited young woman.this may not be the crown jewel of his career, but it was wittier than devil wears prada and more interesting than superman a great comedy to go see with friends.</td>\n",
       "      <td>positive</td>\n",
       "    </tr>\n",
       "    <tr>\n",
       "      <th>3</th>\n",
       "      <td>basically there's a family where a little boy jake thinks there's a zombie in his closet his parents are fighting all the time.this movie is slower than a soap opera... and suddenly, jake decides to become rambo and kill the zombie.ok, first of all when you're going to make a film you must decide if its a thriller or a drama! as a drama the movie is watchable. parents are divorcing arguing like in real life. and then we have jake with his closet which totally ruins all the film! i expected to see a boogeyman similar movie, and instead i watched a drama with some meaningless thriller spots.3 out of 10 just for the well playing parents descent dialogs. as for the shots with jake just ignore them.</td>\n",
       "      <td>negative</td>\n",
       "    </tr>\n",
       "    <tr>\n",
       "      <th>4</th>\n",
       "      <td>petter mattei's love in the time of money is a visually stunning film to watch. mr. mattei offers us a vivid portrait about human relations. this is a movie that seems to be telling us what money, power and success do to people in the different situations we encounter. this being a variation on the arthur schnitzler's play about the same theme, the director transfers the action to the present time new york where all these different characters meet and connect. each one is connected in one way, or another to the next person, but no one seems to know the previous point of contact. stylishly, the film has a sophisticated luxurious look. we are taken to see how these people live and the world they live in their own habitat.the only thing one gets out of all these souls in the picture is the different stages of loneliness each one inhabits. a big city is not exactly the best place in which human relations find sincere fulfillment, as one discerns is the case with most of the people we encounter.the acting is good under mr. mattei's direction. steve buscemi, rosario dawson, carol kane, michael imperioli, adrian grenier, and the rest of the talented cast, make these characters come alive.we wish mr. mattei good luck and await anxiously for his next work.</td>\n",
       "      <td>positive</td>\n",
       "    </tr>\n",
       "  </tbody>\n",
       "</table>\n",
       "</div>"
      ],
      "text/plain": [
       "                                                                                                                                                                                                                                                                                                                                                                                                                                                                                                                                                                                                                                                                                                                                                                                                                                                                                                                                                                                                                                                                                                                                                                                                                                                                                                                                                                                                                                                                     review  \\\n",
       "0  one of the other reviewers has mentioned that after watching just 1 oz episode you'll be hooked. they are right, as this is exactly what happened with me.the first thing that struck me about oz was its brutality and unflinching scenes of violence, which set in right from the word go. trust me, this is not a show for the faint hearted or timid. this show pulls no punches with regards to drugs, sex or violence. its is hardcore, in the classic use of the word.it is called oz as that is the nickname given to the oswald maximum security state penitentary. it focuses mainly on emerald city, an experimental section of the prison where all the cells have glass fronts and face inwards, so privacy is not high on the agenda. em city is home to many..aryans, muslims, gangstas, latinos, christians, italians, irish and more....so scuffles, death stares, dodgy dealings and shady agreements are never far away.i would say the main appeal of the show is due to the fact that it goes where other shows wouldn't dare. forget pretty pictures painted for mainstream audiences, forget charm, forget romance...oz doesn't mess around. the first episode i ever saw struck me as so nasty it was surreal, i couldn't say i was ready for it, but as i watched more, i developed a taste for oz, and got accustomed to the high levels of graphic violence. not just violence, but injustice crooked guards who'll be sold out for a nickel,   \n",
       "1                                                                                                                                                                                                                                                                                                                                                                                                                                                                                 a wonderful little production. the filming technique is very unassuming very oldtimebbc fashion and gives a comforting, and sometimes discomforting, sense of realism to the entire piece. the actors are extremely well chosen michael sheen not only has got all the polari but he has all the voices down pat too! you can truly see the seamless editing guided by the references to williams' diary entries, not only is it well worth the watching but it is a terrificly written and performed piece. a masterful production about one of the great master's of comedy and his life. the realism really comes home with the little things the fantasy of the guard which, rather than use the traditional 'dream' techniques remains solid then disappears. it plays on our knowledge and our senses, particularly with the scenes concerning orton and halliwell and the sets particularly of their flat with halliwell's murals decorating every surface are terribly well done.   \n",
       "2                                                                                                                                                                                                                                                                                                                                                                                                                                                                                                                                                i thought this was a wonderful way to spend time on a too hot summer weekend, sitting in the air conditioned theater and watching a lighthearted comedy. the plot is simplistic, but the dialogue is witty and the characters are likable even the well bread suspected serial killer. while some may be disappointed when they realize this is not match point 2 risk addiction, i thought it was proof that woody allen is still fully in control of the style many of us have grown to love.this was the most i'd laughed at one of woody's comedies in years dare i say a decade?. while i've never been impressed with scarlet johanson, in this she managed to tone down her sexy image and jumped right into a average, but spirited young woman.this may not be the crown jewel of his career, but it was wittier than devil wears prada and more interesting than superman a great comedy to go see with friends.   \n",
       "3                                                                                                                                                                                                                                                                                                                                                                                                                                                                                                                                                                                                                                                                                                                                           basically there's a family where a little boy jake thinks there's a zombie in his closet his parents are fighting all the time.this movie is slower than a soap opera... and suddenly, jake decides to become rambo and kill the zombie.ok, first of all when you're going to make a film you must decide if its a thriller or a drama! as a drama the movie is watchable. parents are divorcing arguing like in real life. and then we have jake with his closet which totally ruins all the film! i expected to see a boogeyman similar movie, and instead i watched a drama with some meaningless thriller spots.3 out of 10 just for the well playing parents descent dialogs. as for the shots with jake just ignore them.   \n",
       "4                                                                                                                                                       petter mattei's love in the time of money is a visually stunning film to watch. mr. mattei offers us a vivid portrait about human relations. this is a movie that seems to be telling us what money, power and success do to people in the different situations we encounter. this being a variation on the arthur schnitzler's play about the same theme, the director transfers the action to the present time new york where all these different characters meet and connect. each one is connected in one way, or another to the next person, but no one seems to know the previous point of contact. stylishly, the film has a sophisticated luxurious look. we are taken to see how these people live and the world they live in their own habitat.the only thing one gets out of all these souls in the picture is the different stages of loneliness each one inhabits. a big city is not exactly the best place in which human relations find sincere fulfillment, as one discerns is the case with most of the people we encounter.the acting is good under mr. mattei's direction. steve buscemi, rosario dawson, carol kane, michael imperioli, adrian grenier, and the rest of the talented cast, make these characters come alive.we wish mr. mattei good luck and await anxiously for his next work.   \n",
       "\n",
       "  sentiment  \n",
       "0  positive  \n",
       "1  positive  \n",
       "2  positive  \n",
       "3  negative  \n",
       "4  positive  "
      ]
     },
     "execution_count": 9,
     "metadata": {},
     "output_type": "execute_result"
    }
   ],
   "source": [
    "df1.head()"
   ]
  },
  {
   "cell_type": "code",
   "execution_count": 10,
   "metadata": {},
   "outputs": [
    {
     "data": {
      "text/plain": [
       "250"
      ]
     },
     "execution_count": 10,
     "metadata": {},
     "output_type": "execute_result"
    }
   ],
   "source": [
    "#maximum 250 words as per our setup\n",
    "len(df1.review[0].split())"
   ]
  },
  {
   "cell_type": "code",
   "execution_count": 11,
   "metadata": {},
   "outputs": [
    {
     "name": "stderr",
     "output_type": "stream",
     "text": [
      "Processing:   2%|▏         | 1/50 [00:01<01:27,  1.79s/it]"
     ]
    },
    {
     "name": "stdout",
     "output_type": "stream",
     "text": [
      "probs :  tensor([[0.0921, 0.2058, 0.2203, 0.3162, 0.1655]])\n",
      "sentiment :  3\n",
      "************\n"
     ]
    },
    {
     "name": "stderr",
     "output_type": "stream",
     "text": [
      "Processing:   4%|▍         | 2/50 [00:02<00:44,  1.08it/s]"
     ]
    },
    {
     "name": "stdout",
     "output_type": "stream",
     "text": [
      "probs :  tensor([[0.0011, 0.0032, 0.0235, 0.4054, 0.5668]])\n",
      "sentiment :  4\n",
      "************\n"
     ]
    },
    {
     "name": "stderr",
     "output_type": "stream",
     "text": [
      "Processing:   6%|▌         | 3/50 [00:02<00:32,  1.47it/s]"
     ]
    },
    {
     "name": "stdout",
     "output_type": "stream",
     "text": [
      "probs :  tensor([[0.0055, 0.0393, 0.2387, 0.6017, 0.1148]])\n",
      "sentiment :  3\n",
      "************\n"
     ]
    },
    {
     "name": "stderr",
     "output_type": "stream",
     "text": [
      "Processing:   8%|▊         | 4/50 [00:02<00:24,  1.89it/s]"
     ]
    },
    {
     "name": "stdout",
     "output_type": "stream",
     "text": [
      "probs :  tensor([[0.0120, 0.0703, 0.8866, 0.0280, 0.0032]])\n",
      "sentiment :  2\n",
      "************\n"
     ]
    },
    {
     "name": "stderr",
     "output_type": "stream",
     "text": [
      "Processing:  10%|█         | 5/50 [00:03<00:21,  2.06it/s]"
     ]
    },
    {
     "name": "stdout",
     "output_type": "stream",
     "text": [
      "probs :  tensor([[0.0028, 0.0144, 0.1606, 0.6465, 0.1757]])\n",
      "sentiment :  3\n",
      "************\n"
     ]
    },
    {
     "name": "stderr",
     "output_type": "stream",
     "text": [
      "Processing:  12%|█▏        | 6/50 [00:03<00:17,  2.49it/s]"
     ]
    },
    {
     "name": "stdout",
     "output_type": "stream",
     "text": [
      "probs :  tensor([[0.0101, 0.0441, 0.1541, 0.4546, 0.3370]])\n",
      "sentiment :  3\n",
      "************\n"
     ]
    },
    {
     "name": "stderr",
     "output_type": "stream",
     "text": [
      "Processing:  14%|█▍        | 7/50 [00:03<00:15,  2.79it/s]"
     ]
    },
    {
     "name": "stdout",
     "output_type": "stream",
     "text": [
      "probs :  tensor([[0.0623, 0.2223, 0.3758, 0.2655, 0.0741]])\n",
      "sentiment :  2\n",
      "************\n"
     ]
    },
    {
     "name": "stderr",
     "output_type": "stream",
     "text": [
      "Processing:  16%|█▌        | 8/50 [00:04<00:14,  2.83it/s]"
     ]
    },
    {
     "name": "stdout",
     "output_type": "stream",
     "text": [
      "probs :  tensor([[9.3411e-02, 8.9418e-01, 1.1396e-02, 5.1096e-04, 4.9732e-04]])\n",
      "sentiment :  1\n",
      "************\n"
     ]
    },
    {
     "name": "stderr",
     "output_type": "stream",
     "text": [
      "Processing:  18%|█▊        | 9/50 [00:04<00:13,  3.07it/s]"
     ]
    },
    {
     "name": "stdout",
     "output_type": "stream",
     "text": [
      "probs :  tensor([[0.7823, 0.1893, 0.0227, 0.0048, 0.0010]])\n",
      "sentiment :  0\n",
      "************\n",
      "probs :  tensor([[0.0120, 0.0097, 0.0324, 0.1859, 0.7600]])\n",
      "sentiment :  4\n",
      "************\n"
     ]
    },
    {
     "name": "stderr",
     "output_type": "stream",
     "text": [
      "Processing:  22%|██▏       | 11/50 [00:04<00:09,  4.14it/s]"
     ]
    },
    {
     "name": "stdout",
     "output_type": "stream",
     "text": [
      "probs :  tensor([[0.0580, 0.4772, 0.4022, 0.0571, 0.0055]])\n",
      "sentiment :  1\n",
      "************\n"
     ]
    },
    {
     "name": "stderr",
     "output_type": "stream",
     "text": [
      "Processing:  24%|██▍       | 12/50 [00:04<00:09,  3.84it/s]"
     ]
    },
    {
     "name": "stdout",
     "output_type": "stream",
     "text": [
      "probs :  tensor([[0.0982, 0.3722, 0.2805, 0.1844, 0.0647]])\n",
      "sentiment :  1\n",
      "************\n"
     ]
    },
    {
     "name": "stderr",
     "output_type": "stream",
     "text": [
      "Processing:  26%|██▌       | 13/50 [00:05<00:11,  3.32it/s]"
     ]
    },
    {
     "name": "stdout",
     "output_type": "stream",
     "text": [
      "probs :  tensor([[0.0358, 0.2269, 0.5035, 0.2118, 0.0221]])\n",
      "sentiment :  2\n",
      "************\n"
     ]
    },
    {
     "name": "stderr",
     "output_type": "stream",
     "text": [
      "Processing:  30%|███       | 15/50 [00:05<00:08,  4.27it/s]"
     ]
    },
    {
     "name": "stdout",
     "output_type": "stream",
     "text": [
      "probs :  tensor([[0.4410, 0.4644, 0.0853, 0.0073, 0.0020]])\n",
      "sentiment :  1\n",
      "************\n",
      "probs :  tensor([[0.0022, 0.0025, 0.0241, 0.2388, 0.7325]])\n",
      "sentiment :  4\n",
      "************\n"
     ]
    },
    {
     "name": "stderr",
     "output_type": "stream",
     "text": [
      "Processing:  32%|███▏      | 16/50 [00:05<00:08,  3.91it/s]"
     ]
    },
    {
     "name": "stdout",
     "output_type": "stream",
     "text": [
      "probs :  tensor([[0.7190, 0.2578, 0.0175, 0.0032, 0.0026]])\n",
      "sentiment :  0\n",
      "************\n"
     ]
    },
    {
     "name": "stderr",
     "output_type": "stream",
     "text": [
      "Processing:  34%|███▍      | 17/50 [00:06<00:08,  4.11it/s]"
     ]
    },
    {
     "name": "stdout",
     "output_type": "stream",
     "text": [
      "probs :  tensor([[0.0142, 0.1933, 0.6640, 0.1227, 0.0057]])\n",
      "sentiment :  2\n",
      "************\n"
     ]
    },
    {
     "name": "stderr",
     "output_type": "stream",
     "text": [
      "Processing:  36%|███▌      | 18/50 [00:06<00:09,  3.51it/s]"
     ]
    },
    {
     "name": "stdout",
     "output_type": "stream",
     "text": [
      "probs :  tensor([[9.4702e-01, 4.7960e-02, 2.9781e-03, 3.0603e-04, 1.7367e-03]])\n",
      "sentiment :  0\n",
      "************\n"
     ]
    },
    {
     "name": "stderr",
     "output_type": "stream",
     "text": [
      "Processing:  38%|███▊      | 19/50 [00:06<00:08,  3.59it/s]"
     ]
    },
    {
     "name": "stdout",
     "output_type": "stream",
     "text": [
      "probs :  tensor([[0.2175, 0.2234, 0.1918, 0.1848, 0.1826]])\n",
      "sentiment :  1\n",
      "************\n"
     ]
    },
    {
     "name": "stderr",
     "output_type": "stream",
     "text": [
      "Processing:  40%|████      | 20/50 [00:07<00:08,  3.69it/s]"
     ]
    },
    {
     "name": "stdout",
     "output_type": "stream",
     "text": [
      "probs :  tensor([[0.9092, 0.0835, 0.0046, 0.0011, 0.0016]])\n",
      "sentiment :  0\n",
      "************\n"
     ]
    },
    {
     "name": "stderr",
     "output_type": "stream",
     "text": [
      "Processing:  42%|████▏     | 21/50 [00:07<00:09,  3.14it/s]"
     ]
    },
    {
     "name": "stdout",
     "output_type": "stream",
     "text": [
      "probs :  tensor([[0.1255, 0.2843, 0.2062, 0.2766, 0.1074]])\n",
      "sentiment :  1\n",
      "************\n"
     ]
    },
    {
     "name": "stderr",
     "output_type": "stream",
     "text": [
      "Processing:  46%|████▌     | 23/50 [00:07<00:07,  3.73it/s]"
     ]
    },
    {
     "name": "stdout",
     "output_type": "stream",
     "text": [
      "probs :  tensor([[8.6701e-01, 1.2684e-01, 4.9641e-03, 5.3381e-04, 6.5070e-04]])\n",
      "sentiment :  0\n",
      "************\n",
      "probs :  tensor([[0.0021, 0.0033, 0.0110, 0.1614, 0.8222]])\n",
      "sentiment :  4\n",
      "************\n"
     ]
    },
    {
     "name": "stderr",
     "output_type": "stream",
     "text": [
      "Processing:  48%|████▊     | 24/50 [00:08<00:08,  3.13it/s]"
     ]
    },
    {
     "name": "stdout",
     "output_type": "stream",
     "text": [
      "probs :  tensor([[0.3046, 0.5161, 0.1347, 0.0332, 0.0115]])\n",
      "sentiment :  1\n",
      "************\n"
     ]
    },
    {
     "name": "stderr",
     "output_type": "stream",
     "text": [
      "Processing:  52%|█████▏    | 26/50 [00:08<00:06,  3.69it/s]"
     ]
    },
    {
     "name": "stdout",
     "output_type": "stream",
     "text": [
      "probs :  tensor([[5.5332e-01, 4.1817e-01, 2.6758e-02, 1.3273e-03, 4.2815e-04]])\n",
      "sentiment :  0\n",
      "************\n",
      "probs :  tensor([[0.0280, 0.3899, 0.5399, 0.0407, 0.0015]])\n",
      "sentiment :  2\n",
      "************\n"
     ]
    },
    {
     "name": "stderr",
     "output_type": "stream",
     "text": [
      "Processing:  54%|█████▍    | 27/50 [00:09<00:06,  3.48it/s]"
     ]
    },
    {
     "name": "stdout",
     "output_type": "stream",
     "text": [
      "probs :  tensor([[0.0735, 0.1243, 0.0980, 0.2393, 0.4648]])\n",
      "sentiment :  4\n",
      "************\n"
     ]
    },
    {
     "name": "stderr",
     "output_type": "stream",
     "text": [
      "Processing:  56%|█████▌    | 28/50 [00:09<00:06,  3.66it/s]"
     ]
    },
    {
     "name": "stdout",
     "output_type": "stream",
     "text": [
      "probs :  tensor([[0.2152, 0.4990, 0.1941, 0.0724, 0.0193]])\n",
      "sentiment :  1\n",
      "************\n"
     ]
    },
    {
     "name": "stderr",
     "output_type": "stream",
     "text": [
      "Processing:  58%|█████▊    | 29/50 [00:09<00:05,  3.92it/s]"
     ]
    },
    {
     "name": "stdout",
     "output_type": "stream",
     "text": [
      "probs :  tensor([[8.5779e-01, 1.3397e-01, 6.2601e-03, 7.9018e-04, 1.1841e-03]])\n",
      "sentiment :  0\n",
      "************\n"
     ]
    },
    {
     "name": "stderr",
     "output_type": "stream",
     "text": [
      "Processing:  60%|██████    | 30/50 [00:10<00:05,  3.42it/s]"
     ]
    },
    {
     "name": "stdout",
     "output_type": "stream",
     "text": [
      "probs :  tensor([[0.0320, 0.3043, 0.4518, 0.1953, 0.0166]])\n",
      "sentiment :  2\n",
      "************\n"
     ]
    },
    {
     "name": "stderr",
     "output_type": "stream",
     "text": [
      "Processing:  62%|██████▏   | 31/50 [00:10<00:05,  3.30it/s]"
     ]
    },
    {
     "name": "stdout",
     "output_type": "stream",
     "text": [
      "probs :  tensor([[0.0118, 0.1103, 0.4802, 0.3726, 0.0251]])\n",
      "sentiment :  2\n",
      "************\n"
     ]
    },
    {
     "name": "stderr",
     "output_type": "stream",
     "text": [
      "Processing:  66%|██████▌   | 33/50 [00:10<00:04,  3.64it/s]"
     ]
    },
    {
     "name": "stdout",
     "output_type": "stream",
     "text": [
      "probs :  tensor([[0.0178, 0.0573, 0.1219, 0.4493, 0.3537]])\n",
      "sentiment :  3\n",
      "************\n",
      "probs :  tensor([[0.2809, 0.5522, 0.1533, 0.0120, 0.0016]])\n",
      "sentiment :  1\n",
      "************\n"
     ]
    },
    {
     "name": "stderr",
     "output_type": "stream",
     "text": [
      "Processing:  68%|██████▊   | 34/50 [00:11<00:04,  3.38it/s]"
     ]
    },
    {
     "name": "stdout",
     "output_type": "stream",
     "text": [
      "probs :  tensor([[0.0333, 0.1113, 0.1841, 0.5142, 0.1571]])\n",
      "sentiment :  3\n",
      "************\n"
     ]
    },
    {
     "name": "stderr",
     "output_type": "stream",
     "text": [
      "Processing:  70%|███████   | 35/50 [00:11<00:04,  3.39it/s]"
     ]
    },
    {
     "name": "stdout",
     "output_type": "stream",
     "text": [
      "probs :  tensor([[0.2208, 0.6044, 0.1535, 0.0184, 0.0029]])\n",
      "sentiment :  1\n",
      "************\n"
     ]
    },
    {
     "name": "stderr",
     "output_type": "stream",
     "text": [
      "Processing:  74%|███████▍  | 37/50 [00:12<00:03,  3.68it/s]"
     ]
    },
    {
     "name": "stdout",
     "output_type": "stream",
     "text": [
      "probs :  tensor([[0.5129, 0.3338, 0.0914, 0.0409, 0.0209]])\n",
      "sentiment :  0\n",
      "************\n",
      "probs :  tensor([[0.5251, 0.4320, 0.0396, 0.0025, 0.0009]])\n",
      "sentiment :  0\n",
      "************\n"
     ]
    },
    {
     "name": "stderr",
     "output_type": "stream",
     "text": [
      "Processing:  78%|███████▊  | 39/50 [00:12<00:02,  3.88it/s]"
     ]
    },
    {
     "name": "stdout",
     "output_type": "stream",
     "text": [
      "probs :  tensor([[0.2259, 0.4971, 0.2135, 0.0523, 0.0111]])\n",
      "sentiment :  1\n",
      "************\n",
      "probs :  tensor([[0.0067, 0.0928, 0.8317, 0.0653, 0.0035]])\n",
      "sentiment :  2\n",
      "************\n"
     ]
    },
    {
     "name": "stderr",
     "output_type": "stream",
     "text": [
      "Processing:  82%|████████▏ | 41/50 [00:13<00:02,  3.97it/s]"
     ]
    },
    {
     "name": "stdout",
     "output_type": "stream",
     "text": [
      "probs :  tensor([[0.6335, 0.2944, 0.0417, 0.0186, 0.0118]])\n",
      "sentiment :  0\n",
      "************\n",
      "probs :  tensor([[0.2730, 0.6081, 0.1132, 0.0051, 0.0006]])\n",
      "sentiment :  1\n",
      "************\n"
     ]
    },
    {
     "name": "stderr",
     "output_type": "stream",
     "text": [
      "Processing:  84%|████████▍ | 42/50 [00:13<00:02,  3.62it/s]"
     ]
    },
    {
     "name": "stdout",
     "output_type": "stream",
     "text": [
      "probs :  tensor([[0.0034, 0.0278, 0.2735, 0.6137, 0.0817]])\n",
      "sentiment :  3\n",
      "************\n"
     ]
    },
    {
     "name": "stderr",
     "output_type": "stream",
     "text": [
      "Processing:  86%|████████▌ | 43/50 [00:13<00:01,  3.80it/s]"
     ]
    },
    {
     "name": "stdout",
     "output_type": "stream",
     "text": [
      "probs :  tensor([[0.6048, 0.3308, 0.0476, 0.0089, 0.0080]])\n",
      "sentiment :  0\n",
      "************\n"
     ]
    },
    {
     "name": "stderr",
     "output_type": "stream",
     "text": [
      "Processing:  88%|████████▊ | 44/50 [00:14<00:01,  3.48it/s]"
     ]
    },
    {
     "name": "stdout",
     "output_type": "stream",
     "text": [
      "probs :  tensor([[0.1781, 0.5857, 0.1675, 0.0578, 0.0109]])\n",
      "sentiment :  1\n",
      "************\n"
     ]
    },
    {
     "name": "stderr",
     "output_type": "stream",
     "text": [
      "Processing:  90%|█████████ | 45/50 [00:14<00:01,  3.62it/s]"
     ]
    },
    {
     "name": "stdout",
     "output_type": "stream",
     "text": [
      "probs :  tensor([[0.1296, 0.1754, 0.1067, 0.2069, 0.3815]])\n",
      "sentiment :  4\n",
      "************\n"
     ]
    },
    {
     "name": "stderr",
     "output_type": "stream",
     "text": [
      "Processing:  94%|█████████▍| 47/50 [00:14<00:00,  4.05it/s]"
     ]
    },
    {
     "name": "stdout",
     "output_type": "stream",
     "text": [
      "probs :  tensor([[0.0030, 0.0243, 0.2096, 0.6575, 0.1057]])\n",
      "sentiment :  3\n",
      "************\n",
      "probs :  tensor([[0.2053, 0.4884, 0.1955, 0.0898, 0.0210]])\n",
      "sentiment :  1\n",
      "************\n"
     ]
    },
    {
     "name": "stderr",
     "output_type": "stream",
     "text": [
      "Processing:  96%|█████████▌| 48/50 [00:15<00:00,  3.95it/s]"
     ]
    },
    {
     "name": "stdout",
     "output_type": "stream",
     "text": [
      "probs :  tensor([[0.3408, 0.2710, 0.1330, 0.1371, 0.1180]])\n",
      "sentiment :  0\n",
      "************\n"
     ]
    },
    {
     "name": "stderr",
     "output_type": "stream",
     "text": [
      "Processing:  98%|█████████▊| 49/50 [00:15<00:00,  3.25it/s]"
     ]
    },
    {
     "name": "stdout",
     "output_type": "stream",
     "text": [
      "probs :  tensor([[0.1137, 0.3699, 0.2817, 0.1865, 0.0483]])\n",
      "sentiment :  1\n",
      "************\n"
     ]
    },
    {
     "name": "stderr",
     "output_type": "stream",
     "text": [
      "Processing: 100%|██████████| 50/50 [00:15<00:00,  3.19it/s]"
     ]
    },
    {
     "name": "stdout",
     "output_type": "stream",
     "text": [
      "probs :  tensor([[0.0098, 0.2169, 0.7526, 0.0197, 0.0010]])\n",
      "sentiment :  2\n",
      "************\n"
     ]
    },
    {
     "name": "stderr",
     "output_type": "stream",
     "text": [
      "\n",
      "C:\\Users\\ashis\\AppData\\Local\\Temp\\ipykernel_15192\\4118152146.py:37: SettingWithCopyWarning: \n",
      "A value is trying to be set on a copy of a slice from a DataFrame.\n",
      "Try using .loc[row_indexer,col_indexer] = value instead\n",
      "\n",
      "See the caveats in the documentation: https://pandas.pydata.org/pandas-docs/stable/user_guide/indexing.html#returning-a-view-versus-a-copy\n",
      "  df1[\"predicted_sentiment\"] = predict_sentiment(df1[\"review\"].tolist())\n"
     ]
    }
   ],
   "source": [
    "# ======= Sentiment Prediction Function =======\n",
    "def predict_sentiment(text_list):\n",
    "    predictions = []  # List to store predictions\n",
    "    \n",
    "    for text in tqdm(text_list, desc=\"Processing\"):  # Use tqdm for progress tracking\n",
    "        # Tokenize text (convert words into numerical format that BERT understands)\n",
    "        inputs = tokenizer(text, return_tensors=\"pt\", padding=True, truncation=True, max_length=512)\n",
    "        \n",
    "        # Move tensors to the selected device (GPU/CPU)\n",
    "        input_ids = inputs[\"input_ids\"].to(device)\n",
    "        attention_mask = inputs[\"attention_mask\"].to(device)\n",
    "\n",
    "        # Perform inference (predict sentiment)\n",
    "        with torch.no_grad():  # Disable gradient calculation (saves memory and speeds up inference)\n",
    "            outputs = model(input_ids, attention_mask=attention_mask)  # Forward pass\n",
    "            logits = outputs.logits  # Get raw model outputs\n",
    "            probs = F.softmax(logits, dim=1)  # Convert logits to probabilities\n",
    "            sentiment = torch.argmax(probs, dim=1).item()  # Get the index of the highest probability\n",
    "            print(\"probs : \",probs)\n",
    "            print(\"sentiment : \",sentiment)\n",
    "            print(\"************\")\n",
    "\n",
    "            # Map numerical sentiment labels to human-readable labels\n",
    "            sentiment_labels = {\n",
    "                0: \"Very Negative\",\n",
    "                1: \"Negative\",\n",
    "                2: \"Neutral\",\n",
    "                3: \"Positive\",\n",
    "                4: \"Very Positive\"\n",
    "            }\n",
    "            \n",
    "            predictions.append(sentiment_labels[sentiment])  # Append prediction to list\n",
    "    \n",
    "    return predictions  # Return the list of predicted sentiments\n",
    "\n",
    "# Apply sentiment prediction function to dataset\n",
    "df1[\"predicted_sentiment\"] = predict_sentiment(df1[\"review\"].tolist())\n"
   ]
  },
  {
   "cell_type": "code",
   "execution_count": 12,
   "metadata": {},
   "outputs": [
    {
     "data": {
      "text/html": [
       "<div>\n",
       "<style scoped>\n",
       "    .dataframe tbody tr th:only-of-type {\n",
       "        vertical-align: middle;\n",
       "    }\n",
       "\n",
       "    .dataframe tbody tr th {\n",
       "        vertical-align: top;\n",
       "    }\n",
       "\n",
       "    .dataframe thead th {\n",
       "        text-align: right;\n",
       "    }\n",
       "</style>\n",
       "<table border=\"1\" class=\"dataframe\">\n",
       "  <thead>\n",
       "    <tr style=\"text-align: right;\">\n",
       "      <th></th>\n",
       "      <th>review</th>\n",
       "      <th>sentiment</th>\n",
       "      <th>predicted_sentiment</th>\n",
       "    </tr>\n",
       "  </thead>\n",
       "  <tbody>\n",
       "    <tr>\n",
       "      <th>0</th>\n",
       "      <td>one of the other reviewers has mentioned that after watching just 1 oz episode you'll be hooked. they are right, as this is exactly what happened with me.the first thing that struck me about oz was its brutality and unflinching scenes of violence, which set in right from the word go. trust me, this is not a show for the faint hearted or timid. this show pulls no punches with regards to drugs, sex or violence. its is hardcore, in the classic use of the word.it is called oz as that is the nickname given to the oswald maximum security state penitentary. it focuses mainly on emerald city, an experimental section of the prison where all the cells have glass fronts and face inwards, so privacy is not high on the agenda. em city is home to many..aryans, muslims, gangstas, latinos, christians, italians, irish and more....so scuffles, death stares, dodgy dealings and shady agreements are never far away.i would say the main appeal of the show is due to the fact that it goes where other shows wouldn't dare. forget pretty pictures painted for mainstream audiences, forget charm, forget romance...oz doesn't mess around. the first episode i ever saw struck me as so nasty it was surreal, i couldn't say i was ready for it, but as i watched more, i developed a taste for oz, and got accustomed to the high levels of graphic violence. not just violence, but injustice crooked guards who'll be sold out for a nickel,</td>\n",
       "      <td>positive</td>\n",
       "      <td>Positive</td>\n",
       "    </tr>\n",
       "    <tr>\n",
       "      <th>1</th>\n",
       "      <td>a wonderful little production. the filming technique is very unassuming very oldtimebbc fashion and gives a comforting, and sometimes discomforting, sense of realism to the entire piece. the actors are extremely well chosen michael sheen not only has got all the polari but he has all the voices down pat too! you can truly see the seamless editing guided by the references to williams' diary entries, not only is it well worth the watching but it is a terrificly written and performed piece. a masterful production about one of the great master's of comedy and his life. the realism really comes home with the little things the fantasy of the guard which, rather than use the traditional 'dream' techniques remains solid then disappears. it plays on our knowledge and our senses, particularly with the scenes concerning orton and halliwell and the sets particularly of their flat with halliwell's murals decorating every surface are terribly well done.</td>\n",
       "      <td>positive</td>\n",
       "      <td>Very Positive</td>\n",
       "    </tr>\n",
       "    <tr>\n",
       "      <th>2</th>\n",
       "      <td>i thought this was a wonderful way to spend time on a too hot summer weekend, sitting in the air conditioned theater and watching a lighthearted comedy. the plot is simplistic, but the dialogue is witty and the characters are likable even the well bread suspected serial killer. while some may be disappointed when they realize this is not match point 2 risk addiction, i thought it was proof that woody allen is still fully in control of the style many of us have grown to love.this was the most i'd laughed at one of woody's comedies in years dare i say a decade?. while i've never been impressed with scarlet johanson, in this she managed to tone down her sexy image and jumped right into a average, but spirited young woman.this may not be the crown jewel of his career, but it was wittier than devil wears prada and more interesting than superman a great comedy to go see with friends.</td>\n",
       "      <td>positive</td>\n",
       "      <td>Positive</td>\n",
       "    </tr>\n",
       "    <tr>\n",
       "      <th>3</th>\n",
       "      <td>basically there's a family where a little boy jake thinks there's a zombie in his closet his parents are fighting all the time.this movie is slower than a soap opera... and suddenly, jake decides to become rambo and kill the zombie.ok, first of all when you're going to make a film you must decide if its a thriller or a drama! as a drama the movie is watchable. parents are divorcing arguing like in real life. and then we have jake with his closet which totally ruins all the film! i expected to see a boogeyman similar movie, and instead i watched a drama with some meaningless thriller spots.3 out of 10 just for the well playing parents descent dialogs. as for the shots with jake just ignore them.</td>\n",
       "      <td>negative</td>\n",
       "      <td>Neutral</td>\n",
       "    </tr>\n",
       "    <tr>\n",
       "      <th>4</th>\n",
       "      <td>petter mattei's love in the time of money is a visually stunning film to watch. mr. mattei offers us a vivid portrait about human relations. this is a movie that seems to be telling us what money, power and success do to people in the different situations we encounter. this being a variation on the arthur schnitzler's play about the same theme, the director transfers the action to the present time new york where all these different characters meet and connect. each one is connected in one way, or another to the next person, but no one seems to know the previous point of contact. stylishly, the film has a sophisticated luxurious look. we are taken to see how these people live and the world they live in their own habitat.the only thing one gets out of all these souls in the picture is the different stages of loneliness each one inhabits. a big city is not exactly the best place in which human relations find sincere fulfillment, as one discerns is the case with most of the people we encounter.the acting is good under mr. mattei's direction. steve buscemi, rosario dawson, carol kane, michael imperioli, adrian grenier, and the rest of the talented cast, make these characters come alive.we wish mr. mattei good luck and await anxiously for his next work.</td>\n",
       "      <td>positive</td>\n",
       "      <td>Positive</td>\n",
       "    </tr>\n",
       "    <tr>\n",
       "      <th>5</th>\n",
       "      <td>probably my alltime favorite movie, a story of selflessness, sacrifice and dedication to a noble cause, but it's not preachy or boring. it just never gets old, despite my having seen it some 15 or more times in the last 25 years. paul lukas' performance brings tears to my eyes, and bette davis, in one of her very few truly sympathetic roles, is a delight. the kids are, as grandma says, more like dressedup midgets than children, but that only makes them more fun to watch. and the mother's slow awakening to what's happening in the world and under her own roof is believable and startling. if i had a dozen thumbs, they'd all be up for this movie.</td>\n",
       "      <td>positive</td>\n",
       "      <td>Positive</td>\n",
       "    </tr>\n",
       "    <tr>\n",
       "      <th>6</th>\n",
       "      <td>i sure would like to see a resurrection of a up dated seahunt series with the tech they have today it would bring back the kid excitement in me.i grew up on black and white tv and seahunt with gunsmoke were my hero's every week.you have my vote for a comeback of a new sea hunt.we need a change of pace in tv and this would work for a world of under water adventure.oh by the way thank you for an outlet like this to view many viewpoints about tv and the many movies.so any ole way i believe i've got what i wanna say.would be nice to read some more plus points about sea hunt.if my rhymes would be 10 lines would you let me submit,or leave me out to be in doubt and have me to quit,if this is so then i must go so lets do it.</td>\n",
       "      <td>positive</td>\n",
       "      <td>Neutral</td>\n",
       "    </tr>\n",
       "    <tr>\n",
       "      <th>7</th>\n",
       "      <td>this show was an amazing, fresh innovative idea in the 70's when it first aired. the first 7 or 8 years were brilliant, but things dropped off after that. by 1990, the show was not really funny anymore, and it's continued its decline further to the complete waste of time it is today.it's truly disgraceful how far this show has fallen. the writing is painfully bad, the performances are almost as bad if not for the mildly entertaining respite of the guesthosts, this show probably wouldn't still be on the air. i find it so hard to believe that the same creator that handselected the original cast also chose the band of hacks that followed. how can one recognize such brilliance and then see fit to replace it with such mediocrity? i felt i must give 2 stars out of respect for the original cast that made this show such a huge success. as it is now, the show is just awful. i can't believe it's still on the air.</td>\n",
       "      <td>negative</td>\n",
       "      <td>Negative</td>\n",
       "    </tr>\n",
       "    <tr>\n",
       "      <th>8</th>\n",
       "      <td>encouraged by the positive comments about this film on here i was looking forward to watching this film. bad mistake. i've seen 950 films and this is truly one of the worst of them it's awful in almost every way editing, pacing, storyline, 'acting,' soundtrack the film's only song a lame country tune is played no less than four times. the film looks cheap and nasty and is boring in the extreme. rarely have i been so happy to see the end credits of a film. the only thing that prevents me giving this a 1score is harvey keitel while this is far from his best performance he at least seems to be making a bit of an effort. one for keitel obsessives only.</td>\n",
       "      <td>negative</td>\n",
       "      <td>Very Negative</td>\n",
       "    </tr>\n",
       "    <tr>\n",
       "      <th>9</th>\n",
       "      <td>if you like original gut wrenching laughter you will like this movie. if you are young or old then you will love this movie, hell even my mom liked it.great camp!!!</td>\n",
       "      <td>positive</td>\n",
       "      <td>Very Positive</td>\n",
       "    </tr>\n",
       "    <tr>\n",
       "      <th>10</th>\n",
       "      <td>phil the alien is one of those quirky films where the humour is based around the oddness of everything rather than actual punchlines.at first it was very odd and pretty funny but as the movie progressed i didn't find the jokes or oddness funny anymore.its a low budget film thats never a problem in itself, there were some pretty interesting characters, but eventually i just lost interest.i imagine this film would appeal to a stoner who is currently partaking.for something similar but better try brother from another planet</td>\n",
       "      <td>negative</td>\n",
       "      <td>Negative</td>\n",
       "    </tr>\n",
       "    <tr>\n",
       "      <th>11</th>\n",
       "      <td>i saw this movie when i was about 12 when it came out. i recall the scariest scene was the big bird eating men dangling helplessly from parachutes right out of the air. the horror. the horror.as a young kid going to these cheesy b films on saturday afternoons, i still was tired of the formula for these monster type movies that usually included the hero, a beautiful woman who might be the daughter of a professor and a happy resolution when the monster died in the end. i didn't care much for the romantic angle as a 12 year old and the predictable plots. i love them now for the unintentional humor.but, about a year or so later, i saw psycho when it came out and i loved that the star, janet leigh, was bumped off early in the film. i sat up and took notice at that point. since screenwriters are making up the story, make it up to be as scary as possible and not from a wellworn formula. there are no rules.</td>\n",
       "      <td>negative</td>\n",
       "      <td>Negative</td>\n",
       "    </tr>\n",
       "    <tr>\n",
       "      <th>12</th>\n",
       "      <td>so im not a big fan of boll's work but then again not many are. i enjoyed his movie postal maybe im the only one. boll apparently bought the rights to use far cry long ago even before the game itself was even finsished. people who have enjoyed killing mercs and infiltrating secret research labs located on a tropical island should be warned, that this is not far cry... this is something mr boll have schemed together along with his legion of schmucks.. feeling loneley on the set mr boll invites three of his countrymen to play with. these players go by the names of til schweiger, udo kier and ralf moeller.three names that actually have made them selfs pretty big in the movie biz. so the tale goes like this, jack carver played by til schweiger yes carver is german all hail the bratwurst eating dudes!! however i find that tils acting in this movie is pretty badass.. people have complained about how he's not really staying true to the whole carver agenda but we only saw carver in a first person perspective so we don't really know what he looked like when he was kicking a.. however, the storyline in this film is beyond demented. we see the evil mad scientist dr. krieger played by udo kier, making geneticallymutatedsoldiers or gms as they are called. performing his topsecret research on an island that reminds me of spoiler vancouver for some reason. thats right no palm trees here. instead</td>\n",
       "      <td>negative</td>\n",
       "      <td>Neutral</td>\n",
       "    </tr>\n",
       "    <tr>\n",
       "      <th>13</th>\n",
       "      <td>the cast played shakespeare.shakespeare lost.i appreciate that this is trying to bring shakespeare to the masses, but why ruin something so good.is it because 'the scottish play' is my favorite shakespeare? i do not know. what i do know is that a certain rev bowdler hence bowdlerization tried to do something similar in the victorian era.in other words, you cannot improve perfection.i have no more to write but as i have to write at least ten lines of text and english composition was never my forte i will just have to keep going and say that this movie, as the saying goes, just does not cut it.</td>\n",
       "      <td>negative</td>\n",
       "      <td>Negative</td>\n",
       "    </tr>\n",
       "    <tr>\n",
       "      <th>14</th>\n",
       "      <td>this a fantastic movie of three prisoners who become famous. one of the actors is george clooney and i'm not a fan but this roll is not bad. another good thing about the movie is the soundtrack the man of constant sorrow. i recommand this movie to everybody. greetings bart</td>\n",
       "      <td>positive</td>\n",
       "      <td>Very Positive</td>\n",
       "    </tr>\n",
       "    <tr>\n",
       "      <th>15</th>\n",
       "      <td>kind of drawn in by the erotic scenes, only to realize this was one of the most amateurish and unbelievable bits of film i've ever seen. sort of like a high school film project. what was rosanna arquette thinking?? and what was with all those stock characters in that bizarre supposed midwest town? pretty hard to get involved with this one. no lessons to be learned from it, no brilliant insights, just stilted and quite ridiculous but lots of skin, if that intrigues you videotaped nonsense....what was with the bisexual relationship, out of nowhere, after all the heterosexual encounters. and what was with that absurd dance, with everybody playing their stereotyped roles? give this one a pass, it's like a million other miles of bad, wasted film, money that could have been spent on starving children or aids in africa.....</td>\n",
       "      <td>negative</td>\n",
       "      <td>Very Negative</td>\n",
       "    </tr>\n",
       "    <tr>\n",
       "      <th>16</th>\n",
       "      <td>some films just simply should not be remade. this is one of them. in and of itself it is not a bad film. but it fails to capture the flavor and the terror of the 1963 film of the same title. liam neeson was excellent as he always is, and most of the cast holds up, with the exception of owen wilson, who just did not bring the right feel to the character of luke. but the major fault with this version is that it strayed too far from the shirley jackson story in it's attempts to be grandiose and lost some of the thrill of the earlier film in a trade off for snazzier special effects. again i will say that in and of itself it is not a bad film. but you will enjoy the friction of terror in the older version much more.</td>\n",
       "      <td>positive</td>\n",
       "      <td>Neutral</td>\n",
       "    </tr>\n",
       "    <tr>\n",
       "      <th>17</th>\n",
       "      <td>this movie made it into one of my top 10 most awful movies. horrible. there wasn't a continuous minute where there wasn't a fight with one monster or another. there was no chance for any character development, they were too busy running from one sword fight to another. i had no emotional attachment except to the big bad machine that wanted to destroy them scenes were blatantly stolen from other movies, lotr, star wars and matrix. examplesthe ghost scene at the end was stolen from the final scene of the old star wars with yoda, obee one and vader. the spider machine in the beginning was exactly like frodo being attacked by the spider in return of the kings. elijah wood is the victim in both films and wait......it hypnotizes stings its victim and wraps them up.....uh hello????and the whole machine vs. humans theme was the matrix..or terminator.....there are more examples but why waste the time? and will someone tell me what was with the nazi's?!?! nazi's???? there was a juvenile story line rushed to a juvenile conclusion. the movie could not decide if it was a children's movie or an adult movie and wasn't much of either. just awful. a real disappointment to say the least. save your money.</td>\n",
       "      <td>negative</td>\n",
       "      <td>Very Negative</td>\n",
       "    </tr>\n",
       "    <tr>\n",
       "      <th>18</th>\n",
       "      <td>i remember this film,it was the first film i had watched at the cinema the picture was dark in places i was very nervous it was back in 7475 my dad took me my brother sister to newbury cinema in newbury berkshire england. i recall the tigers and the lots of snow in the film also the appearance of grizzly adams actor dan haggery i think one of the tigers gets shot and dies. if anyone knows where to find this on dvd etc please let me know.the cinema now has been turned in a fitness club which is a very big shame as the nearest cinema now is 20 miles away, would love to hear from others who have seen this film or any other like it.</td>\n",
       "      <td>positive</td>\n",
       "      <td>Negative</td>\n",
       "    </tr>\n",
       "    <tr>\n",
       "      <th>19</th>\n",
       "      <td>an awful film! it must have been up against some real stinkers to be nominated for the golden globe. they've taken the story of the first famous female renaissance painter and mangled it beyond recognition. my complaint is not that they've taken liberties with the facts if the story were good, that would perfectly fine. but it's simply bizarre by all accounts the true story of this artist would have made for a far better film, so why did they come up with this dishwaterdull script? i suppose there weren't enough naked people in the factual version. it's hurriedly capped off in the end with a summary of the artist's life we could have saved ourselves a couple of hours if they'd favored the rest of the film with same brevity.</td>\n",
       "      <td>negative</td>\n",
       "      <td>Very Negative</td>\n",
       "    </tr>\n",
       "    <tr>\n",
       "      <th>20</th>\n",
       "      <td>after the success of die hard and it's sequels it's no surprise really that in the 1990s, a glut of 'die hard on a .....' movies cashed in on the wrong guy, wrong place, wrong time concept. that is what they did with cliffhanger, die hard on a mountain just in time to rescue sly 'stop or my mom will shoot' stallone's career.cliffhanger is one big nitpickers dream, especially to those who are expert at mountain climbing, basejumping, aviation, facial expressions, acting skills. all in all it's full of excuses to dismiss the film as one overblown pile of junk. stallone even managed to get outacted by a horse! however, if you an forget all the nonsense, it's actually a very lovable and undeniably entertaining romp that delivers as plenty of thrills, and unintentionally, plenty of laughs.you've got to love john lithgows sneery evilness, his tick every box band of baddies, and best of all, the permanently harassed and hapless 'turncoat' agent, rex linn as travers.he may of been henry in 'portrait of a serial killer' but michael rooker is noteworthy for a cringeworthy performance as hal, he insists on constantly shrieking in painful disbelief at his captors 'that man never hurt anybody' and whilst he surely can't be, it really does look like ralph waite's frank character is grinning as the girl plummets to her death.mention too must go to former 'london's burning' actor craig fairbrass as the brit bad guy, who comes a cropper whilst using hal as</td>\n",
       "      <td>positive</td>\n",
       "      <td>Negative</td>\n",
       "    </tr>\n",
       "    <tr>\n",
       "      <th>21</th>\n",
       "      <td>i had the terrible misfortune of having to view this bmovie in it's entirety.all i have to say is save your time and money!!! this has got to be the worst bmovie of all time, it shouldn't even be called a bmovie, more like an fmovie! because it fails in all aspects that make a good movie the story is not interesting at all, all of the actors are paperthin and not at all believable, it has bad direction and the action sequences are so fake it's almost funny.......almost.the movie is just packed full of crappy oneliners that no respectable person could find amusing in the least little bit.this movie is supposed to be geared towards men, but all the women in it are so utterly unattractive, especially that old wrinkled thing that comes in towards the end. they try to appear sexy in those weird, horrible costumes and they fail miserably!!!even some of the most ridiculous bmovies will still give you some laughs, but this is just too painful to watch!!</td>\n",
       "      <td>negative</td>\n",
       "      <td>Very Negative</td>\n",
       "    </tr>\n",
       "    <tr>\n",
       "      <th>22</th>\n",
       "      <td>what an absolutely stunning movie, if you have 2.5 hrs to kill, watch it, you won't regret it, it's too much fun! rajnikanth carries the movie on his shoulders and although there isn't anything more other than him, i still liked it. the music by a.r.rehman takes time to grow on you but after you heard it a few times, you really start liking it.</td>\n",
       "      <td>positive</td>\n",
       "      <td>Very Positive</td>\n",
       "    </tr>\n",
       "    <tr>\n",
       "      <th>23</th>\n",
       "      <td>first of all, let's get a few things straight here a i am an anime fan always has been as a matter of fact i used to watch speed racer all the time in preschool. b i do like several bmovies because they're hilarious. c i like the godzilla movies a lot.moving on, when the movie first comes on, it seems like it's going to be your usual bmovie, down to the crappy fx, but all a sudden boom! the anime comes on! this is when the movie goes wwwaaaaayyyyy downhill.the animation is very bad cheap, even worse than what i remember from speed racer, for crissakes! in fact, it's so cheap, one of the few scenes from the movie i vividly remember is when a bunch of kids run out of a school... it's the same kids over over again! the fx are terrible, too the dinosaurs look worse than godzilla. in addition, the transition to live action to animation is unorganized, the dialogue voicesespecially the english dub that i viewed was horrid i was begging my dad to take the tape out of the dvd vhs player the only thing that kept me surviving was cracking out jokes comments like the robots joelmike on mst3k you pick the season. honestly, this is the only way to barely enjoy this movie survive it at the same time.heck, i'm planning to show this to another fellow otaku pal of mine on halloween for a bmovie night. because it's stupid, pretty</td>\n",
       "      <td>negative</td>\n",
       "      <td>Negative</td>\n",
       "    </tr>\n",
       "    <tr>\n",
       "      <th>24</th>\n",
       "      <td>this was the worst movie i saw at worldfest and it also received the least amount of applause afterwards! i can only think it is receiving such recognition based on the amount of known actors in the film. it's great to see j.beals but she's only in the movie for a few minutes. m.parker is a much better actress than the part allowed for. the rest of the acting is hard to judge because the movie is so ridiculous and predictable. the main character is totally unsympathetic and therefore a bore to watch. there is no real emotional depth to the story. a movie revolving about an actor who can't get work doesn't feel very original to me. nor does the development of the cop. it feels like one of many straighttovideo movies i saw back in the 90s ... and not even a good one in those standards.</td>\n",
       "      <td>negative</td>\n",
       "      <td>Very Negative</td>\n",
       "    </tr>\n",
       "    <tr>\n",
       "      <th>25</th>\n",
       "      <td>the karen carpenter story shows a little more about singer karen carpenter's complex life. though it fails in giving accurate facts, and details.cynthia gibb portrays karen was not a fine election. she is a good actress , but plays a very naive and sort of dumb karen carpenter. i think that the role needed a stronger character. someone with a stronger personality.louise fletcher role as agnes carpenter is terrific, she does a great job as karen's mother.it has great songs, which could have been included in a soundtrack album. unfortunately they weren't, though this movie was on the top of the ratings in usa and other several countries</td>\n",
       "      <td>positive</td>\n",
       "      <td>Neutral</td>\n",
       "    </tr>\n",
       "    <tr>\n",
       "      <th>26</th>\n",
       "      <td>the cell is an exotic masterpiece, a dizzying trip into not only the vast mind of a serial killer, but also into one of a very talented director. this is conclusive evidence of what can be achieved if human beings unleash their uninhibited imaginations. this is boldness at work, pushing aside thoughts to fall into formulas and cliches and creating something truly magnificent. this is the best movie of the year to date.i've read numerous complaints about this film, anywhere from all style and no substance to poorly cast characters and bad acting. to negatively criticize this film is to miss the point. this movie may be a landmark, a tradition where future movies will hopefully follow. the cell has just opened the door to another world of imagination. so can we slam the door in its face and tell it and its director tarsem singh that we don't want any more? personally, i would more than welcome another movie by tarsem, and would love to see someone try to challenge him.we've all heard talk about going inside the mind of a serial killer, and yes, i do agree that the genre is a bit overworked. the 90s were full of movies trying to depict what makes serial killers tick some of them worked, but most failed. but the cell does not blaze down the same trail, we are given a new twist, we are physically transported into the mind and presented with nothing less than a fascinating journey of</td>\n",
       "      <td>positive</td>\n",
       "      <td>Very Positive</td>\n",
       "    </tr>\n",
       "    <tr>\n",
       "      <th>27</th>\n",
       "      <td>this film tried to be too many things all at once stinging political satire, hollywood blockbuster, sappy romantic comedy, family values promo... the list goes on and on. it failed miserably at all of them, but there was enough interest to keep me from turning it off until the end.although i appreciate the spirit behind war, inc., it depresses me to see such a clumsy effort, especially when it will be taken by its targets to reflect the lack of the existence of a serious critique, rather than simply the poor writing, direction, and production of this particular film.there is a critique to be made about the corporatization of war. but poking fun at it in this way diminishes the true atrocity of what is happening. reminds me a bit of three kings, which similarly trivializes a genuine cause for concern.</td>\n",
       "      <td>negative</td>\n",
       "      <td>Negative</td>\n",
       "    </tr>\n",
       "    <tr>\n",
       "      <th>28</th>\n",
       "      <td>this movie was so frustrating. everything seemed energetic and i was totally prepared to have a good time. i at least thought i'd be able to stand it. but, i was wrong. first, the weird looping? it was like watching america's funniest home videos. the damn parents. i hated them so much. the stereotypical latino family? i need to speak with the person responsible for this. we need to have a talk. that little girl who was always hanging on someone? i just hated her and had to mention it. now, the final scene transcends, i must say. it's so gloriously bad and full of badness that it is a movie of its own. what crappy dancing. horrible and beautiful at once.</td>\n",
       "      <td>negative</td>\n",
       "      <td>Very Negative</td>\n",
       "    </tr>\n",
       "    <tr>\n",
       "      <th>29</th>\n",
       "      <td>'war movie' is a hollywood genre that has been done and redone so many times that clichd dialogue, rehashed plot and overthetop action sequences seem unavoidable for any conflict dealing with largescale combat. once in a while, however, a war movie comes along that goes against the grain and brings a truly original and compelling story to life on the silver screen. the civil warera cold mountain, starring jude law, nicole kidman and rene zellweger is such a film.then again, calling cold mountain a war movie is not entirely accurate. true enough, the film opens with a quite literally quickanddirty battle sequence that puts glory director edward zwick shame. however, cold mountain is not so much about the civil war itself as it is about the period and the people of the times. the story centers around disgruntled confederate soldier inman, played by jude law, who becomes disgusted with the gruesome war and homesick for the beautiful hamlet of cold mountain, north carolina and the equally beautiful southern belle he left behind, ada monroe, played by nicole kidman. at first glance, this setup appears formulaic as the romantic interest back home gives the audience enough sympathy to root for the reluctant soldier's tribulations on the battlefield. indeed, the earlier segments of the film are relatively unimpressive and even somewhat contrived.cold mountain soon takes a drastic turn, though, as the intrepid hero inman turns out to be a deserter incidentally saving the audience from the potentially confusing scenario of wanting to</td>\n",
       "      <td>positive</td>\n",
       "      <td>Neutral</td>\n",
       "    </tr>\n",
       "    <tr>\n",
       "      <th>30</th>\n",
       "      <td>taut and organically gripping, edward dmytryk's crossfire is a distinctive suspense thriller, an unlikely message movie using the look and devices of the noir cycle.bivouacked in washington, dc, a company of soldiers cope with their restlessness by hanging out in bars. three of them end up at a stranger's apartment where robert ryan, drunk and belligerent, beats their host sam levene to death because he happens to be jewish. police detective robert young investigates with the help of robert mitchum, who's assigned to ryan's outfit. suspicion falls on the second of the three george cooper, who has vanished. ryan slays the third buddy steve brodie to insure his silence before young closes in.abetted by a superior script by john paxton, dmytryk draws precise performances from his three starring bobs. ryan, naturally, does his prototypical angry white male and to the hilt, while mitchum underplays with his characteristic alert nonchalance his role, however, is not central young may never have been better. gloria grahame gives her first fullyfledged rendition of the smartmouthed, vulnerable tramp, and, as a sad sack who's leeched into her life, paul kelly haunts us in a small, peripheral role that he makes memorable.the politically engaged dmytryk perhaps inevitably succumbs to sermonizing, but it's pretty much confined to young's reminiscence of how his irish grandfather died at the hands of bigots a century earlier thus, incidentally, stretching chronology to the limit. at least there's no attempt to render an explanation, however glib, of why ryan hates jews and</td>\n",
       "      <td>positive</td>\n",
       "      <td>Neutral</td>\n",
       "    </tr>\n",
       "    <tr>\n",
       "      <th>31</th>\n",
       "      <td>ardh satya is one of the finest film ever made in indian cinema. directed by the great director govind nihalani, this one is the most successful hard hitting parallel cinema which also turned out to be a commercial success. even today, ardh satya is an inspiration for all leading directors of india.the film tells the reallife scenario of mumbai police of the 70s. unlike any police of other cities in india, mumbai police encompasses a different system altogether. govind nihalani creates a very practical outlay with real life approach of mumbai police environment.amongst various police officers colleagues, the film describes the story of anand velankar, a young hotblooded cop coming from a poor family. his father is a harsh police constable. anand himself suffers from his father's ideologies incidences of his father's atrocities on his mother. anand's approach towards immediate action against crime, is an inert craving for his own job satisfaction. the film is here revolved in a plot wherein anand's constant efforts against crime are trampled by his seniors.this leads to frustrations, as he cannot achieve the desired jobsatisfaction. resulting from the frustrations, his anger is expressed in excessive violence in the remand rooms bars, also turning him to an alcoholic.the spirit within him is still alive, as he constantly fights the system. he is aware of the system of the metro, where the police politicians are a inertly associated by far end. his compromise towards unethical practice is negative. finally he gets suspended.the direction is a master</td>\n",
       "      <td>positive</td>\n",
       "      <td>Positive</td>\n",
       "    </tr>\n",
       "    <tr>\n",
       "      <th>32</th>\n",
       "      <td>my first exposure to the templarios not a good one. i was excited to find this title among the offerings from anchor bay video, which has brought us other cult classics such as spider baby. the print quality is excellent, but this alone can't hide the fact that the film is deadly dull. there's a thrilling opening sequence in which the villagers exact a terrible revenge on the templars set the whole thing in motion, but everything else in the movie is slow, ponderous , ultimately, unfulfilling. adding insult to injury the movie was dubbed, not subtitled, as promised on the video jacket.</td>\n",
       "      <td>negative</td>\n",
       "      <td>Negative</td>\n",
       "    </tr>\n",
       "    <tr>\n",
       "      <th>33</th>\n",
       "      <td>one of the most significant quotes from the entire film is pronounced halfway through by the protagonist, the mafia middleman titta di girolamo, a physically nondescript, middleaged man originally from salerno in southern italy. when we're introduced to him at the start of the film, he's been living a nonlife in an elegant but sterile hotel in the italianspeaking canton of switzerland for the last ten years, conducting a business we are only gradually introduced to. while this pivotal yet apparently unremarkable scene takes place employees of the the swiss bank who normally count di girolamo's cash tell him that 10,000 dollars are missing from his usual suitcase full of tightly stacked banknotes. at the news, he quietly but icily threatens his coaxing bank manager of wanting to close down his account. meanwhile he tells us, the spectators, that when you bluff, you have to bluff right through to the end without fear of being caught out or appearing ridiculous. he says you can't bluff for a while and then halfway through, tell the truth. having eventually done this bluffed only halfway through and told the truth, and having accepted the consequences of life and ultimately, love is exactly the reason behind the beginning of titta di girolamo's troubles. this initially unsympathetic character, a scowling, taciturn, curt man on the verge of 50, a man who won't even reply in kind to chambermaids and waitresses who say hello and goodbye, becomes at one point someone the spectator cares deeply about.</td>\n",
       "      <td>positive</td>\n",
       "      <td>Positive</td>\n",
       "    </tr>\n",
       "    <tr>\n",
       "      <th>34</th>\n",
       "      <td>i watched this film not really expecting much, i got it in a pack of 5 films, all of which were pretty terrible in their own way for under a fiver so what could i expect? and you know what i was right, they were all terrible, this movie has a few and a few is stretching it interesting points, the occasional camcorder view is a nice touch, the drummer is very like a drummer, i.e damned annoying and, well thats about it actually, the problem is that its just so boring, in what i can only assume was an attempt to build tension, a whole lot of nothing happens and when it does its utterly tedious i had my thumb on the fast forward button, ready to press for most of the movie, but gave it a go and seriously is the lead singer of the band that great looking, coz they don't half mention how beautiful he is a hell of a lot, i thought he looked a bit like a meercat, all this and i haven't even mentioned the killer, i'm not even gonna go into it, its just not worth explaining. anyway as far as i'm concerned star and london are just about the only reason to watch this and with the exception of london who was actually quite funny it wasn't because of their acting talent, i've certainly seen a lot worse, but i've also seen a lot better. best avoid unless your bored of</td>\n",
       "      <td>negative</td>\n",
       "      <td>Negative</td>\n",
       "    </tr>\n",
       "    <tr>\n",
       "      <th>35</th>\n",
       "      <td>i bought this film at blockbuster for 3.00, because it sounded interesting a bit ranmaesque, with the idea of someone dragging around a skeleton, because there was a cute girl in a miniskirt on the back, and because there was a restricted viewing sticker on it. i thought it was going to be a sweet or at least sincere coming of age story with a weird indie edge. i was 100 wrong.having watched it, i have to wonder how it got the restricted sticker, since there is hardly any foul language, little violence, and the closest thing to nudity honestly! i don't usually go around hoping for it! is when the girl is in her nightgown and you see her panties you see her panties a lot in this movie, because no matter what, she's wearing a miniskirt of some sort. even the antireligious humor is tame and lame, caricatured, insincere, derivative, unoriginal, and worst of all not funny in the slightestit would be better just to listen to ray stevens' would jesus wear a rolex on his television show. this would barely qualify as pg13 it is not rated, but blockbuster refuses to let anyone under the age of 17 rent thisas if it was pornographic. any little kid could go in there and rent the edited version of requiem for a dream, but they insist that zack and reba is worse.it is, but not in that way.in a way, this worries methe only thing left that could offend</td>\n",
       "      <td>negative</td>\n",
       "      <td>Very Negative</td>\n",
       "    </tr>\n",
       "    <tr>\n",
       "      <th>36</th>\n",
       "      <td>the plot is about the death of little children. hopper is the one who has to investigate the killings. during the movie it appears that he has some troubles with his daughter. in the end the serial killer get caught. that's it. but before you find out who dunnit, you have to see some terrible acting by all of the actors. it is unbelievable how bad these actors are, including hopper. i could go on like this but that to much of a waste of my time. just don't watch the movie. i've warned you.</td>\n",
       "      <td>negative</td>\n",
       "      <td>Very Negative</td>\n",
       "    </tr>\n",
       "    <tr>\n",
       "      <th>37</th>\n",
       "      <td>ever watched a movie that lost the plot? well, this didn't even really have one to begin with.where to begin? the achingly tedious scenes of our heroine sitting around the house with actually no sense of menace or even foreboding created even during the apparently constant thunderstorms that are strangely never actually heard in the housegreat double glazing? the house that is apparently only a few miles from a town yet is several hours walk away? or the third girl who serves no purpose to the plot except to provide a surprisingly quick gory murder just as the tedium becomes unbearable? or even the beginning which suggests a spate of 20 killings throughout the area even though it is apparent the killer never ventures far from the house? or the bizarre ritual with the salt pepper that pretty much sums up most of the films inherent lack of direction.add a lead actress who can't act but at least is willing to do some completely irrelevant nude shower scenes and this video is truly nasty, but not in the way you hope.given a following simply for being banned in the uk in the 80's mostly because of a final surprisingly over extended murder it offers nothing but curiosity value and one classic 'daft' murder don't worryits telegraphed at least ten minutes before.after a walk in the woods our victim comes to a rather steep upward slope which they obviously struggle up. halfway through they see a figure at the top dressed</td>\n",
       "      <td>negative</td>\n",
       "      <td>Negative</td>\n",
       "    </tr>\n",
       "    <tr>\n",
       "      <th>38</th>\n",
       "      <td>okay, so this series kind of takes the route of 'here we go again!' week in, week out david morse's character helps out his ride who is in a bit of a pickle but what's wrong with that!? david morse is one of the greatest character actors out there, and certainly the coolest, and to have him in a series created by david koepp a great writer is heaven!!due to the lack of love for this show by many, i can't see it going to a season series but you never know? the amount of rubbish that has made it beyond that baffles me let's hope something good can make it past a first series!!!</td>\n",
       "      <td>positive</td>\n",
       "      <td>Neutral</td>\n",
       "    </tr>\n",
       "    <tr>\n",
       "      <th>39</th>\n",
       "      <td>after sitting through this pile of dung, my husband and i wondered whether it was actually the product of an experiment to see whether a computer program could produce a movie. it was that listless and formulaic. but the u.s. propaganda thrown in your face throughout the film provesdisappointinglythat it's the work of humans. call me a conspiracy theorist, but quotes like, we have to steal the declaration of independence to protect it seem like ways to justify actions like the invasion of iraq, etc. the fact that nicholas cage spews lines like, i would never use the declaration of independence as a bargaining chip with a straight face made me and my husband wonder whether the entire cast took valium before shooting each scene. the reasoning behind each plot turn and new clue is truly ridiculous and impossible to follow. and there's also a bonus side plot of misogyny, with dr. whateverhernamewas being chided by all involved for never shutting up. she's clearly in the movie only for looks, but they felt the need to slap a dr. title on her character to give her some gravity. at one point, cage's character says, don't you ever shut up? and the camera pans to her looking poutily down at her hands, like she's a child. truly grotesque. the only benefit to this movie was that it's so astonishingly bad, you do get a few laughs out of it. the really scary thing is that a majority of the people watching</td>\n",
       "      <td>negative</td>\n",
       "      <td>Very Negative</td>\n",
       "    </tr>\n",
       "    <tr>\n",
       "      <th>40</th>\n",
       "      <td>it had all the clichs of movies of this type and no substance. the plot went nowhere and at the end of the movie i felt like a sucker for watching it. the production was good however, the script and acting were bmovie quality. the casting was poor because there were good actors mixed in with crumby actors. the good actors didn't hold their own nor did they lift up the others. this movie is not worthy of more words, but i will say more to meet the minimum requirement of ten lines. james wood and cuba gooding, jr. play caricatures of themselves in other movies. if you are looking for mindless entertainment, i still wouldn't recommend this movie.</td>\n",
       "      <td>negative</td>\n",
       "      <td>Negative</td>\n",
       "    </tr>\n",
       "    <tr>\n",
       "      <th>41</th>\n",
       "      <td>this movie is based on the book, a many splendored thing by han suyin and tackles issues of race relations between asians and whites, a topic that comes from han's personal experiences as an eurasian growing up in china. that background, and the beautiful hong kong settings, gives this love story a unique and rather daring atmosphere for its time.other than that, the story is a stereotypical romance with a memorable song that is perhaps more remembered than the movie itself. the beautiful jennifer jones looks the part and gives a wonderful, oscar nominated performance as a doctor of mixed breed during the advent of communism in mainland china. william holden never looked better playing a romantic lead as a journalist covering war torn regions in the world. the acting is top notch, and the chemistry between the two lovers provides for some genuine moments of silver screen affection sure to melt the hearts of those who are romantically inclined.the cinematography really brings out fifty's hong kong, especially the hilltop overlooking the harbor where the two lovers spend their most intimate moments. the ending is a real tearjerker. some may consider sentimental romances pass, but, for those who enjoy classic hollywood love stories, this is a shining example.</td>\n",
       "      <td>positive</td>\n",
       "      <td>Positive</td>\n",
       "    </tr>\n",
       "    <tr>\n",
       "      <th>42</th>\n",
       "      <td>of all the films i have seen, this one, the rage, has got to be one of the worst yet. the direction, logic, continuity, changes in plotscript and dialog made me cry out in pain. how could anyone come up with something so crappy? gary busey is know for his b movies, but this is a sure w movie. wwaste.take for example about two dozen fbi local law officers surround a trailer house with a jeep wagoneer. inside the jeep is ma and is confused as to why all the cops are about. within seconds a huge gun battle ensues, ma being killed straight off. the cops blast away at the jeep with gary and company blasting away at them. the cops fall like dominoes and the jeep with gary drives around in circles and are not hit by one single bulletpellet. ma is killed and gary seems to not to have noticeddamn that guy is tough. truly a miracle, not since the sixshooter held 300 bullets has there been such a miracle.</td>\n",
       "      <td>negative</td>\n",
       "      <td>Very Negative</td>\n",
       "    </tr>\n",
       "    <tr>\n",
       "      <th>43</th>\n",
       "      <td>i had heard good things about states of grace and came in with an open mind. i thought that god's army was okay, and i thought that maybe dutcher had improved and matured as a filmmaker. the film began with some shaky acting, and i thought, well, maybe it will get better. unfortunately, it never did. the picture starts out by introducing two elders mormon missionaries and it seems that the audience will get to know them and grow to care about them. instead, the story degenerates into a highly improbable series of unfortunate events highlighting blatant disobedience by the missionaries something that undeniably exists, but rarely on the level that dutcher portrays and it becomes almost laughable.dutcher's only success in this movie is his successful alienation of his target audience. by unrealistically and inaccurately portraying the lives of mormon missionaries, dutcher accomplishes nothing more than angering his predominantly mormon audience. the film in no way reflects reality. missions are nothing like what dutcher shows having served a mormon mission myself i can attest to this fact and gang life in california certainly contains much more explicit language than the occasional mild vulgarity.the conclusion, which i'm assuming was supposed to touch the audience and inspire them to believe that forgiveness is available to all, was both unbelievable c'mon, the entire mission gathers to see this elder sent home and the mom and the girl are standing right next to each other! and cheesy. next time, dutcher, try making a movie</td>\n",
       "      <td>negative</td>\n",
       "      <td>Negative</td>\n",
       "    </tr>\n",
       "    <tr>\n",
       "      <th>44</th>\n",
       "      <td>this movie struck home for me. being 29, i remember the '80's and my father working in a factory. i figured, if i worked hard too, if i had pride and never gave up i too could have the american dream, the house, a few kids, a car all to call my own. i've noted however, without a degree in something unlike my father that quit at ninth grade and a keen sense of greed and laziness, you can't get anywhere.i would like to know if anyone has this movie on dvd or vhs. it's made for tv, and i just saw it an hour ago. ic an't find it anywhere! i'd love to show this to my friends, my pseudo friends, family and other relatives, see what they think and remind them that once upon a time, americans would work for the sake of feeling honor and that we had pride in what we accomplished!! i think the feeling is still there, but in a heavy downward spiral with so many things being made overseas...</td>\n",
       "      <td>positive</td>\n",
       "      <td>Very Positive</td>\n",
       "    </tr>\n",
       "    <tr>\n",
       "      <th>45</th>\n",
       "      <td>as a disclaimer, i've seen the movie 56 times in the last 15 years, and i only just saw the musical this week. this allowed me to judge the movie without being tainted by what was or wasn't in the musical however, it tainted me when i watched the musical i actually believe michael douglas worked quite well in that role, along with kasey. i think her 'let me dance for you scene' is one of the best parts of the movie, a worthwhile addition compared to the musical. the dancers and singing in the movie are much superior to the musical, as well as the cast which is at least 10 times bigger easier to do in the movie of course. the decors, lighting, dancing, and singing are also much superior in the movie, which should be expected, and was indeed delivered. the songs that were in common with the musical are better done in the movie, the new ones are quite good ones, and the whole movie just delivers more than the musical in my opinion, especially compared to a musical which has few decors. the one bad point on the movie is the obvious cuts between the actors talking, and dubbed singers during the singing portions for some of the characters, but their dancing is impeccable, and the end product was more enjoyable than the musical</td>\n",
       "      <td>positive</td>\n",
       "      <td>Positive</td>\n",
       "    </tr>\n",
       "    <tr>\n",
       "      <th>46</th>\n",
       "      <td>protocol is an implausible movie whose only saving grace is that it stars goldie hawn along with a good cast of supporting actors. the story revolves around a ditzy cocktail waitress who becomes famous after inadvertently saving the life of an arab dignitary. the story goes downhill halfway through the movie and goldie's charm just doesn't save this movie. unless you are a goldie hawn fan don't go out of your way to see this film.</td>\n",
       "      <td>negative</td>\n",
       "      <td>Negative</td>\n",
       "    </tr>\n",
       "    <tr>\n",
       "      <th>47</th>\n",
       "      <td>how this film could be classified as drama, i have no idea. if i were john voight and mary steenburgen, i would be trying to erase this from my cv. it was as historically accurate as xena and hercules. abraham and moses got melded into noah. lot, abraham's nephew, lot, turns up thousands of years before he would have been born. canaanites wandered the earth...really? what were the scriptwriters thinking? was it just ignorance i remember something about noah and animals, and lot and canaanites and all that stuff from sunday school or were they trying to offend the maximum number of people on the planet as possible from christians, jews and muslims, to historians, archaeologists, geologists, psychologists, linguists ...as a matter of fact, did anyone not get offended? anyone who had even a modicum of taste would have winced at this one!</td>\n",
       "      <td>negative</td>\n",
       "      <td>Very Negative</td>\n",
       "    </tr>\n",
       "    <tr>\n",
       "      <th>48</th>\n",
       "      <td>preston sturgis' the power and the glory was unseen by the public for nearly twenty or thirty years until the late 1990s when it resurfaced and even showed up on television. in the meantime it had gained in notoriety because pauline kael's the citizen kane book had suggested that the herman mankiewicz orson welles screenplay for kane was based on sturgis' screenplay here. as is mentioned in the beginning of this thread for the film on the imdb web site, kael overstated her case.there are about six narrators who take turns dealing with the life of charles foster kane the newsreel representing ralston the henry luce clone, thatcher's memoirs, bernstein, jed leland, susan alexander kane, and raymond the butler. each has his or her different slant on kane, reflecting their faith or disappointment or hatred of the man. and of course each also reveals his or her own failings when they are telling their version of kane's story. this method also leads to frequent overlapping retellings of the same incident.this is not the situation in the power and the glory. yes, like kane it is about a legendary business leader here it is tom garner spencer tracy, a man who rose from the bottom to being head of the most successful railroad system in the country. but there are only two narrators they are garner's right hand man henry ralph morgan and his wife sarah padden. this restricts the nearly three dimensional view we get at times of kane in</td>\n",
       "      <td>positive</td>\n",
       "      <td>Negative</td>\n",
       "    </tr>\n",
       "    <tr>\n",
       "      <th>49</th>\n",
       "      <td>average and surprisingly tame fulci giallo which means it's still quite bad by normal standards, but redeemed by its solid buildup and some nice touches such as a neat time twist on the issues of visions and clairvoyance.the genre's wellknown weaknesses are in full gear banal dialogue, wooden acting, illogical plot points. and the finale goes on much too long, while the denouement proves to be a rather lame or shall i say limp affair.fulci's ironic handling of giallo norms is amusing, though. yellow clues wherever you look.3 out of 10 limping killers</td>\n",
       "      <td>negative</td>\n",
       "      <td>Neutral</td>\n",
       "    </tr>\n",
       "  </tbody>\n",
       "</table>\n",
       "</div>"
      ],
      "text/plain": [
       "                                                                                                                                                                                                                                                                                                                                                                                                                                                                                                                                                                                                                                                                                                                                                                                                                                                                                                                                                                                                                                                                                                                                                                                                                                                                                                                                                                                                                                                                                                                                                                                                                                                review  \\\n",
       "0                                                                                                                                                                             one of the other reviewers has mentioned that after watching just 1 oz episode you'll be hooked. they are right, as this is exactly what happened with me.the first thing that struck me about oz was its brutality and unflinching scenes of violence, which set in right from the word go. trust me, this is not a show for the faint hearted or timid. this show pulls no punches with regards to drugs, sex or violence. its is hardcore, in the classic use of the word.it is called oz as that is the nickname given to the oswald maximum security state penitentary. it focuses mainly on emerald city, an experimental section of the prison where all the cells have glass fronts and face inwards, so privacy is not high on the agenda. em city is home to many..aryans, muslims, gangstas, latinos, christians, italians, irish and more....so scuffles, death stares, dodgy dealings and shady agreements are never far away.i would say the main appeal of the show is due to the fact that it goes where other shows wouldn't dare. forget pretty pictures painted for mainstream audiences, forget charm, forget romance...oz doesn't mess around. the first episode i ever saw struck me as so nasty it was surreal, i couldn't say i was ready for it, but as i watched more, i developed a taste for oz, and got accustomed to the high levels of graphic violence. not just violence, but injustice crooked guards who'll be sold out for a nickel,   \n",
       "1                                                                                                                                                                                                                                                                                                                                                                                                                                                                                                                                                                                                                                                            a wonderful little production. the filming technique is very unassuming very oldtimebbc fashion and gives a comforting, and sometimes discomforting, sense of realism to the entire piece. the actors are extremely well chosen michael sheen not only has got all the polari but he has all the voices down pat too! you can truly see the seamless editing guided by the references to williams' diary entries, not only is it well worth the watching but it is a terrificly written and performed piece. a masterful production about one of the great master's of comedy and his life. the realism really comes home with the little things the fantasy of the guard which, rather than use the traditional 'dream' techniques remains solid then disappears. it plays on our knowledge and our senses, particularly with the scenes concerning orton and halliwell and the sets particularly of their flat with halliwell's murals decorating every surface are terribly well done.   \n",
       "2                                                                                                                                                                                                                                                                                                                                                                                                                                                                                                                                                                                                                                                                                                                           i thought this was a wonderful way to spend time on a too hot summer weekend, sitting in the air conditioned theater and watching a lighthearted comedy. the plot is simplistic, but the dialogue is witty and the characters are likable even the well bread suspected serial killer. while some may be disappointed when they realize this is not match point 2 risk addiction, i thought it was proof that woody allen is still fully in control of the style many of us have grown to love.this was the most i'd laughed at one of woody's comedies in years dare i say a decade?. while i've never been impressed with scarlet johanson, in this she managed to tone down her sexy image and jumped right into a average, but spirited young woman.this may not be the crown jewel of his career, but it was wittier than devil wears prada and more interesting than superman a great comedy to go see with friends.   \n",
       "3                                                                                                                                                                                                                                                                                                                                                                                                                                                                                                                                                                                                                                                                                                                                                                                                                                                                                                                      basically there's a family where a little boy jake thinks there's a zombie in his closet his parents are fighting all the time.this movie is slower than a soap opera... and suddenly, jake decides to become rambo and kill the zombie.ok, first of all when you're going to make a film you must decide if its a thriller or a drama! as a drama the movie is watchable. parents are divorcing arguing like in real life. and then we have jake with his closet which totally ruins all the film! i expected to see a boogeyman similar movie, and instead i watched a drama with some meaningless thriller spots.3 out of 10 just for the well playing parents descent dialogs. as for the shots with jake just ignore them.   \n",
       "4                                                                                                                                                                                                                                                                                                                                  petter mattei's love in the time of money is a visually stunning film to watch. mr. mattei offers us a vivid portrait about human relations. this is a movie that seems to be telling us what money, power and success do to people in the different situations we encounter. this being a variation on the arthur schnitzler's play about the same theme, the director transfers the action to the present time new york where all these different characters meet and connect. each one is connected in one way, or another to the next person, but no one seems to know the previous point of contact. stylishly, the film has a sophisticated luxurious look. we are taken to see how these people live and the world they live in their own habitat.the only thing one gets out of all these souls in the picture is the different stages of loneliness each one inhabits. a big city is not exactly the best place in which human relations find sincere fulfillment, as one discerns is the case with most of the people we encounter.the acting is good under mr. mattei's direction. steve buscemi, rosario dawson, carol kane, michael imperioli, adrian grenier, and the rest of the talented cast, make these characters come alive.we wish mr. mattei good luck and await anxiously for his next work.   \n",
       "5                                                                                                                                                                                                                                                                                                                                                                                                                                                                                                                                                                                                                                                                                                                                                                                                                                                                                                                                                                           probably my alltime favorite movie, a story of selflessness, sacrifice and dedication to a noble cause, but it's not preachy or boring. it just never gets old, despite my having seen it some 15 or more times in the last 25 years. paul lukas' performance brings tears to my eyes, and bette davis, in one of her very few truly sympathetic roles, is a delight. the kids are, as grandma says, more like dressedup midgets than children, but that only makes them more fun to watch. and the mother's slow awakening to what's happening in the world and under her own roof is believable and startling. if i had a dozen thumbs, they'd all be up for this movie.   \n",
       "6                                                                                                                                                                                                                                                                                                                                                                                                                                                                                                                                                                                                                                                                                                                                                                                                                                                                                               i sure would like to see a resurrection of a up dated seahunt series with the tech they have today it would bring back the kid excitement in me.i grew up on black and white tv and seahunt with gunsmoke were my hero's every week.you have my vote for a comeback of a new sea hunt.we need a change of pace in tv and this would work for a world of under water adventure.oh by the way thank you for an outlet like this to view many viewpoints about tv and the many movies.so any ole way i believe i've got what i wanna say.would be nice to read some more plus points about sea hunt.if my rhymes would be 10 lines would you let me submit,or leave me out to be in doubt and have me to quit,if this is so then i must go so lets do it.   \n",
       "7                                                                                                                                                                                                                                                                                                                                                                                                                                                                                                                                                                                                                                                                                                 this show was an amazing, fresh innovative idea in the 70's when it first aired. the first 7 or 8 years were brilliant, but things dropped off after that. by 1990, the show was not really funny anymore, and it's continued its decline further to the complete waste of time it is today.it's truly disgraceful how far this show has fallen. the writing is painfully bad, the performances are almost as bad if not for the mildly entertaining respite of the guesthosts, this show probably wouldn't still be on the air. i find it so hard to believe that the same creator that handselected the original cast also chose the band of hacks that followed. how can one recognize such brilliance and then see fit to replace it with such mediocrity? i felt i must give 2 stars out of respect for the original cast that made this show such a huge success. as it is now, the show is just awful. i can't believe it's still on the air.   \n",
       "8                                                                                                                                                                                                                                                                                                                                                                                                                                                                                                                                                                                                                                                                                                                                                                                                                                                                                                                                                                     encouraged by the positive comments about this film on here i was looking forward to watching this film. bad mistake. i've seen 950 films and this is truly one of the worst of them it's awful in almost every way editing, pacing, storyline, 'acting,' soundtrack the film's only song a lame country tune is played no less than four times. the film looks cheap and nasty and is boring in the extreme. rarely have i been so happy to see the end credits of a film. the only thing that prevents me giving this a 1score is harvey keitel while this is far from his best performance he at least seems to be making a bit of an effort. one for keitel obsessives only.   \n",
       "9                                                                                                                                                                                                                                                                                                                                                                                                                                                                                                                                                                                                                                                                                                                                                                                                                                                                                                                                                                                                                                                                                                                                                                                                                                                                                                                                                                                                                                                                                 if you like original gut wrenching laughter you will like this movie. if you are young or old then you will love this movie, hell even my mom liked it.great camp!!!   \n",
       "10                                                                                                                                                                                                                                                                                                                                                                                                                                                                                                                                                                                                                                                                                                                                                                                                                                                                                                                                                                                                                                                                                                      phil the alien is one of those quirky films where the humour is based around the oddness of everything rather than actual punchlines.at first it was very odd and pretty funny but as the movie progressed i didn't find the jokes or oddness funny anymore.its a low budget film thats never a problem in itself, there were some pretty interesting characters, but eventually i just lost interest.i imagine this film would appeal to a stoner who is currently partaking.for something similar but better try brother from another planet   \n",
       "11                                                                                                                                                                                                                                                                                                                                                                                                                                                                                                                                                                                                                                                                                                    i saw this movie when i was about 12 when it came out. i recall the scariest scene was the big bird eating men dangling helplessly from parachutes right out of the air. the horror. the horror.as a young kid going to these cheesy b films on saturday afternoons, i still was tired of the formula for these monster type movies that usually included the hero, a beautiful woman who might be the daughter of a professor and a happy resolution when the monster died in the end. i didn't care much for the romantic angle as a 12 year old and the predictable plots. i love them now for the unintentional humor.but, about a year or so later, i saw psycho when it came out and i loved that the star, janet leigh, was bumped off early in the film. i sat up and took notice at that point. since screenwriters are making up the story, make it up to be as scary as possible and not from a wellworn formula. there are no rules.   \n",
       "12                                                                                                                                                                                         so im not a big fan of boll's work but then again not many are. i enjoyed his movie postal maybe im the only one. boll apparently bought the rights to use far cry long ago even before the game itself was even finsished. people who have enjoyed killing mercs and infiltrating secret research labs located on a tropical island should be warned, that this is not far cry... this is something mr boll have schemed together along with his legion of schmucks.. feeling loneley on the set mr boll invites three of his countrymen to play with. these players go by the names of til schweiger, udo kier and ralf moeller.three names that actually have made them selfs pretty big in the movie biz. so the tale goes like this, jack carver played by til schweiger yes carver is german all hail the bratwurst eating dudes!! however i find that tils acting in this movie is pretty badass.. people have complained about how he's not really staying true to the whole carver agenda but we only saw carver in a first person perspective so we don't really know what he looked like when he was kicking a.. however, the storyline in this film is beyond demented. we see the evil mad scientist dr. krieger played by udo kier, making geneticallymutatedsoldiers or gms as they are called. performing his topsecret research on an island that reminds me of spoiler vancouver for some reason. thats right no palm trees here. instead   \n",
       "13                                                                                                                                                                                                                                                                                                                                                                                                                                                                                                                                                                                                                                                                                                                                                                                                                                                                                                                                                                                                                             the cast played shakespeare.shakespeare lost.i appreciate that this is trying to bring shakespeare to the masses, but why ruin something so good.is it because 'the scottish play' is my favorite shakespeare? i do not know. what i do know is that a certain rev bowdler hence bowdlerization tried to do something similar in the victorian era.in other words, you cannot improve perfection.i have no more to write but as i have to write at least ten lines of text and english composition was never my forte i will just have to keep going and say that this movie, as the saying goes, just does not cut it.   \n",
       "14                                                                                                                                                                                                                                                                                                                                                                                                                                                                                                                                                                                                                                                                                                                                                                                                                                                                                                                                                                                                                                                                                                                                                                                                                                                                                                                                                                   this a fantastic movie of three prisoners who become famous. one of the actors is george clooney and i'm not a fan but this roll is not bad. another good thing about the movie is the soundtrack the man of constant sorrow. i recommand this movie to everybody. greetings bart   \n",
       "15                                                                                                                                                                                                                                                                                                                                                                                                                                                                                                                                                                                                                                                                                                                                                                                        kind of drawn in by the erotic scenes, only to realize this was one of the most amateurish and unbelievable bits of film i've ever seen. sort of like a high school film project. what was rosanna arquette thinking?? and what was with all those stock characters in that bizarre supposed midwest town? pretty hard to get involved with this one. no lessons to be learned from it, no brilliant insights, just stilted and quite ridiculous but lots of skin, if that intrigues you videotaped nonsense....what was with the bisexual relationship, out of nowhere, after all the heterosexual encounters. and what was with that absurd dance, with everybody playing their stereotyped roles? give this one a pass, it's like a million other miles of bad, wasted film, money that could have been spent on starving children or aids in africa.....   \n",
       "16                                                                                                                                                                                                                                                                                                                                                                                                                                                                                                                                                                                                                                                                                                                                                                                                                                                                                                    some films just simply should not be remade. this is one of them. in and of itself it is not a bad film. but it fails to capture the flavor and the terror of the 1963 film of the same title. liam neeson was excellent as he always is, and most of the cast holds up, with the exception of owen wilson, who just did not bring the right feel to the character of luke. but the major fault with this version is that it strayed too far from the shirley jackson story in it's attempts to be grandiose and lost some of the thrill of the earlier film in a trade off for snazzier special effects. again i will say that in and of itself it is not a bad film. but you will enjoy the friction of terror in the older version much more.   \n",
       "17                                                                                                                                                                                                                                                                                                                                                                                               this movie made it into one of my top 10 most awful movies. horrible. there wasn't a continuous minute where there wasn't a fight with one monster or another. there was no chance for any character development, they were too busy running from one sword fight to another. i had no emotional attachment except to the big bad machine that wanted to destroy them scenes were blatantly stolen from other movies, lotr, star wars and matrix. examplesthe ghost scene at the end was stolen from the final scene of the old star wars with yoda, obee one and vader. the spider machine in the beginning was exactly like frodo being attacked by the spider in return of the kings. elijah wood is the victim in both films and wait......it hypnotizes stings its victim and wraps them up.....uh hello????and the whole machine vs. humans theme was the matrix..or terminator.....there are more examples but why waste the time? and will someone tell me what was with the nazi's?!?! nazi's???? there was a juvenile story line rushed to a juvenile conclusion. the movie could not decide if it was a children's movie or an adult movie and wasn't much of either. just awful. a real disappointment to say the least. save your money.   \n",
       "18                                                                                                                                                                                                                                                                                                                                                                                                                                                                                                                                                                                                                                                                                                                                                                                                                                                                                                                                                                                        i remember this film,it was the first film i had watched at the cinema the picture was dark in places i was very nervous it was back in 7475 my dad took me my brother sister to newbury cinema in newbury berkshire england. i recall the tigers and the lots of snow in the film also the appearance of grizzly adams actor dan haggery i think one of the tigers gets shot and dies. if anyone knows where to find this on dvd etc please let me know.the cinema now has been turned in a fitness club which is a very big shame as the nearest cinema now is 20 miles away, would love to hear from others who have seen this film or any other like it.   \n",
       "19                                                                                                                                                                                                                                                                                                                                                                                                                                                                                                                                                                                                                                                                                                                                                                                                                                                                                       an awful film! it must have been up against some real stinkers to be nominated for the golden globe. they've taken the story of the first famous female renaissance painter and mangled it beyond recognition. my complaint is not that they've taken liberties with the facts if the story were good, that would perfectly fine. but it's simply bizarre by all accounts the true story of this artist would have made for a far better film, so why did they come up with this dishwaterdull script? i suppose there weren't enough naked people in the factual version. it's hurriedly capped off in the end with a summary of the artist's life we could have saved ourselves a couple of hours if they'd favored the rest of the film with same brevity.   \n",
       "20                                                                                                                             after the success of die hard and it's sequels it's no surprise really that in the 1990s, a glut of 'die hard on a .....' movies cashed in on the wrong guy, wrong place, wrong time concept. that is what they did with cliffhanger, die hard on a mountain just in time to rescue sly 'stop or my mom will shoot' stallone's career.cliffhanger is one big nitpickers dream, especially to those who are expert at mountain climbing, basejumping, aviation, facial expressions, acting skills. all in all it's full of excuses to dismiss the film as one overblown pile of junk. stallone even managed to get outacted by a horse! however, if you an forget all the nonsense, it's actually a very lovable and undeniably entertaining romp that delivers as plenty of thrills, and unintentionally, plenty of laughs.you've got to love john lithgows sneery evilness, his tick every box band of baddies, and best of all, the permanently harassed and hapless 'turncoat' agent, rex linn as travers.he may of been henry in 'portrait of a serial killer' but michael rooker is noteworthy for a cringeworthy performance as hal, he insists on constantly shrieking in painful disbelief at his captors 'that man never hurt anybody' and whilst he surely can't be, it really does look like ralph waite's frank character is grinning as the girl plummets to her death.mention too must go to former 'london's burning' actor craig fairbrass as the brit bad guy, who comes a cropper whilst using hal as   \n",
       "21                                                                                                                                                                                                                                                                                                                                                                                                                                                                                                                                                                                                                                                     i had the terrible misfortune of having to view this bmovie in it's entirety.all i have to say is save your time and money!!! this has got to be the worst bmovie of all time, it shouldn't even be called a bmovie, more like an fmovie! because it fails in all aspects that make a good movie the story is not interesting at all, all of the actors are paperthin and not at all believable, it has bad direction and the action sequences are so fake it's almost funny.......almost.the movie is just packed full of crappy oneliners that no respectable person could find amusing in the least little bit.this movie is supposed to be geared towards men, but all the women in it are so utterly unattractive, especially that old wrinkled thing that comes in towards the end. they try to appear sexy in those weird, horrible costumes and they fail miserably!!!even some of the most ridiculous bmovies will still give you some laughs, but this is just too painful to watch!!   \n",
       "22                                                                                                                                                                                                                                                                                                                                                                                                                                                                                                                                                                                                                                                                                                                                                                                                                                                                                                                                                                                                                                                                                                                                                                                                                                                                                          what an absolutely stunning movie, if you have 2.5 hrs to kill, watch it, you won't regret it, it's too much fun! rajnikanth carries the movie on his shoulders and although there isn't anything more other than him, i still liked it. the music by a.r.rehman takes time to grow on you but after you heard it a few times, you really start liking it.   \n",
       "23                                                                                                                                                                                                                                                               first of all, let's get a few things straight here a i am an anime fan always has been as a matter of fact i used to watch speed racer all the time in preschool. b i do like several bmovies because they're hilarious. c i like the godzilla movies a lot.moving on, when the movie first comes on, it seems like it's going to be your usual bmovie, down to the crappy fx, but all a sudden boom! the anime comes on! this is when the movie goes wwwaaaaayyyyy downhill.the animation is very bad cheap, even worse than what i remember from speed racer, for crissakes! in fact, it's so cheap, one of the few scenes from the movie i vividly remember is when a bunch of kids run out of a school... it's the same kids over over again! the fx are terrible, too the dinosaurs look worse than godzilla. in addition, the transition to live action to animation is unorganized, the dialogue voicesespecially the english dub that i viewed was horrid i was begging my dad to take the tape out of the dvd vhs player the only thing that kept me surviving was cracking out jokes comments like the robots joelmike on mst3k you pick the season. honestly, this is the only way to barely enjoy this movie survive it at the same time.heck, i'm planning to show this to another fellow otaku pal of mine on halloween for a bmovie night. because it's stupid, pretty   \n",
       "24                                                                                                                                                                                                                                                                                                                                                                                                                                                                                                                                                                                                                                                                                                                                                                                                                          this was the worst movie i saw at worldfest and it also received the least amount of applause afterwards! i can only think it is receiving such recognition based on the amount of known actors in the film. it's great to see j.beals but she's only in the movie for a few minutes. m.parker is a much better actress than the part allowed for. the rest of the acting is hard to judge because the movie is so ridiculous and predictable. the main character is totally unsympathetic and therefore a bore to watch. there is no real emotional depth to the story. a movie revolving about an actor who can't get work doesn't feel very original to me. nor does the development of the cop. it feels like one of many straighttovideo movies i saw back in the 90s ... and not even a good one in those standards.   \n",
       "25                                                                                                                                                                                                                                                                                                                                                                                                                                                                                                                                                                                                                                                                                                                                                                                                                                                                                                                                                                                  the karen carpenter story shows a little more about singer karen carpenter's complex life. though it fails in giving accurate facts, and details.cynthia gibb portrays karen was not a fine election. she is a good actress , but plays a very naive and sort of dumb karen carpenter. i think that the role needed a stronger character. someone with a stronger personality.louise fletcher role as agnes carpenter is terrific, she does a great job as karen's mother.it has great songs, which could have been included in a soundtrack album. unfortunately they weren't, though this movie was on the top of the ratings in usa and other several countries   \n",
       "26                                                                                                                                                                                            the cell is an exotic masterpiece, a dizzying trip into not only the vast mind of a serial killer, but also into one of a very talented director. this is conclusive evidence of what can be achieved if human beings unleash their uninhibited imaginations. this is boldness at work, pushing aside thoughts to fall into formulas and cliches and creating something truly magnificent. this is the best movie of the year to date.i've read numerous complaints about this film, anywhere from all style and no substance to poorly cast characters and bad acting. to negatively criticize this film is to miss the point. this movie may be a landmark, a tradition where future movies will hopefully follow. the cell has just opened the door to another world of imagination. so can we slam the door in its face and tell it and its director tarsem singh that we don't want any more? personally, i would more than welcome another movie by tarsem, and would love to see someone try to challenge him.we've all heard talk about going inside the mind of a serial killer, and yes, i do agree that the genre is a bit overworked. the 90s were full of movies trying to depict what makes serial killers tick some of them worked, but most failed. but the cell does not blaze down the same trail, we are given a new twist, we are physically transported into the mind and presented with nothing less than a fascinating journey of   \n",
       "27                                                                                                                                                                                                                                                                                                                                                                                                                                                                                                                                                                                                                                                                                                                                                                                                         this film tried to be too many things all at once stinging political satire, hollywood blockbuster, sappy romantic comedy, family values promo... the list goes on and on. it failed miserably at all of them, but there was enough interest to keep me from turning it off until the end.although i appreciate the spirit behind war, inc., it depresses me to see such a clumsy effort, especially when it will be taken by its targets to reflect the lack of the existence of a serious critique, rather than simply the poor writing, direction, and production of this particular film.there is a critique to be made about the corporatization of war. but poking fun at it in this way diminishes the true atrocity of what is happening. reminds me a bit of three kings, which similarly trivializes a genuine cause for concern.   \n",
       "28                                                                                                                                                                                                                                                                                                                                                                                                                                                                                                                                                                                                                                                                                                                                                                                                                                                                                                                                                              this movie was so frustrating. everything seemed energetic and i was totally prepared to have a good time. i at least thought i'd be able to stand it. but, i was wrong. first, the weird looping? it was like watching america's funniest home videos. the damn parents. i hated them so much. the stereotypical latino family? i need to speak with the person responsible for this. we need to have a talk. that little girl who was always hanging on someone? i just hated her and had to mention it. now, the final scene transcends, i must say. it's so gloriously bad and full of badness that it is a movie of its own. what crappy dancing. horrible and beautiful at once.   \n",
       "29                                       'war movie' is a hollywood genre that has been done and redone so many times that clichd dialogue, rehashed plot and overthetop action sequences seem unavoidable for any conflict dealing with largescale combat. once in a while, however, a war movie comes along that goes against the grain and brings a truly original and compelling story to life on the silver screen. the civil warera cold mountain, starring jude law, nicole kidman and rene zellweger is such a film.then again, calling cold mountain a war movie is not entirely accurate. true enough, the film opens with a quite literally quickanddirty battle sequence that puts glory director edward zwick shame. however, cold mountain is not so much about the civil war itself as it is about the period and the people of the times. the story centers around disgruntled confederate soldier inman, played by jude law, who becomes disgusted with the gruesome war and homesick for the beautiful hamlet of cold mountain, north carolina and the equally beautiful southern belle he left behind, ada monroe, played by nicole kidman. at first glance, this setup appears formulaic as the romantic interest back home gives the audience enough sympathy to root for the reluctant soldier's tribulations on the battlefield. indeed, the earlier segments of the film are relatively unimpressive and even somewhat contrived.cold mountain soon takes a drastic turn, though, as the intrepid hero inman turns out to be a deserter incidentally saving the audience from the potentially confusing scenario of wanting to   \n",
       "30  taut and organically gripping, edward dmytryk's crossfire is a distinctive suspense thriller, an unlikely message movie using the look and devices of the noir cycle.bivouacked in washington, dc, a company of soldiers cope with their restlessness by hanging out in bars. three of them end up at a stranger's apartment where robert ryan, drunk and belligerent, beats their host sam levene to death because he happens to be jewish. police detective robert young investigates with the help of robert mitchum, who's assigned to ryan's outfit. suspicion falls on the second of the three george cooper, who has vanished. ryan slays the third buddy steve brodie to insure his silence before young closes in.abetted by a superior script by john paxton, dmytryk draws precise performances from his three starring bobs. ryan, naturally, does his prototypical angry white male and to the hilt, while mitchum underplays with his characteristic alert nonchalance his role, however, is not central young may never have been better. gloria grahame gives her first fullyfledged rendition of the smartmouthed, vulnerable tramp, and, as a sad sack who's leeched into her life, paul kelly haunts us in a small, peripheral role that he makes memorable.the politically engaged dmytryk perhaps inevitably succumbs to sermonizing, but it's pretty much confined to young's reminiscence of how his irish grandfather died at the hands of bigots a century earlier thus, incidentally, stretching chronology to the limit. at least there's no attempt to render an explanation, however glib, of why ryan hates jews and   \n",
       "31               ardh satya is one of the finest film ever made in indian cinema. directed by the great director govind nihalani, this one is the most successful hard hitting parallel cinema which also turned out to be a commercial success. even today, ardh satya is an inspiration for all leading directors of india.the film tells the reallife scenario of mumbai police of the 70s. unlike any police of other cities in india, mumbai police encompasses a different system altogether. govind nihalani creates a very practical outlay with real life approach of mumbai police environment.amongst various police officers colleagues, the film describes the story of anand velankar, a young hotblooded cop coming from a poor family. his father is a harsh police constable. anand himself suffers from his father's ideologies incidences of his father's atrocities on his mother. anand's approach towards immediate action against crime, is an inert craving for his own job satisfaction. the film is here revolved in a plot wherein anand's constant efforts against crime are trampled by his seniors.this leads to frustrations, as he cannot achieve the desired jobsatisfaction. resulting from the frustrations, his anger is expressed in excessive violence in the remand rooms bars, also turning him to an alcoholic.the spirit within him is still alive, as he constantly fights the system. he is aware of the system of the metro, where the police politicians are a inertly associated by far end. his compromise towards unethical practice is negative. finally he gets suspended.the direction is a master   \n",
       "32                                                                                                                                                                                                                                                                                                                                                                                                                                                                                                                                                                                                                                                                                                                                                                                                                                                                                                                                                                                                                                    my first exposure to the templarios not a good one. i was excited to find this title among the offerings from anchor bay video, which has brought us other cult classics such as spider baby. the print quality is excellent, but this alone can't hide the fact that the film is deadly dull. there's a thrilling opening sequence in which the villagers exact a terrible revenge on the templars set the whole thing in motion, but everything else in the movie is slow, ponderous , ultimately, unfulfilling. adding insult to injury the movie was dubbed, not subtitled, as promised on the video jacket.   \n",
       "33                                                                       one of the most significant quotes from the entire film is pronounced halfway through by the protagonist, the mafia middleman titta di girolamo, a physically nondescript, middleaged man originally from salerno in southern italy. when we're introduced to him at the start of the film, he's been living a nonlife in an elegant but sterile hotel in the italianspeaking canton of switzerland for the last ten years, conducting a business we are only gradually introduced to. while this pivotal yet apparently unremarkable scene takes place employees of the the swiss bank who normally count di girolamo's cash tell him that 10,000 dollars are missing from his usual suitcase full of tightly stacked banknotes. at the news, he quietly but icily threatens his coaxing bank manager of wanting to close down his account. meanwhile he tells us, the spectators, that when you bluff, you have to bluff right through to the end without fear of being caught out or appearing ridiculous. he says you can't bluff for a while and then halfway through, tell the truth. having eventually done this bluffed only halfway through and told the truth, and having accepted the consequences of life and ultimately, love is exactly the reason behind the beginning of titta di girolamo's troubles. this initially unsympathetic character, a scowling, taciturn, curt man on the verge of 50, a man who won't even reply in kind to chambermaids and waitresses who say hello and goodbye, becomes at one point someone the spectator cares deeply about.   \n",
       "34                                                                                                                                                                                                                                                                                                                          i watched this film not really expecting much, i got it in a pack of 5 films, all of which were pretty terrible in their own way for under a fiver so what could i expect? and you know what i was right, they were all terrible, this movie has a few and a few is stretching it interesting points, the occasional camcorder view is a nice touch, the drummer is very like a drummer, i.e damned annoying and, well thats about it actually, the problem is that its just so boring, in what i can only assume was an attempt to build tension, a whole lot of nothing happens and when it does its utterly tedious i had my thumb on the fast forward button, ready to press for most of the movie, but gave it a go and seriously is the lead singer of the band that great looking, coz they don't half mention how beautiful he is a hell of a lot, i thought he looked a bit like a meercat, all this and i haven't even mentioned the killer, i'm not even gonna go into it, its just not worth explaining. anyway as far as i'm concerned star and london are just about the only reason to watch this and with the exception of london who was actually quite funny it wasn't because of their acting talent, i've certainly seen a lot worse, but i've also seen a lot better. best avoid unless your bored of   \n",
       "35                                                                                                                                                                                                                                      i bought this film at blockbuster for 3.00, because it sounded interesting a bit ranmaesque, with the idea of someone dragging around a skeleton, because there was a cute girl in a miniskirt on the back, and because there was a restricted viewing sticker on it. i thought it was going to be a sweet or at least sincere coming of age story with a weird indie edge. i was 100 wrong.having watched it, i have to wonder how it got the restricted sticker, since there is hardly any foul language, little violence, and the closest thing to nudity honestly! i don't usually go around hoping for it! is when the girl is in her nightgown and you see her panties you see her panties a lot in this movie, because no matter what, she's wearing a miniskirt of some sort. even the antireligious humor is tame and lame, caricatured, insincere, derivative, unoriginal, and worst of all not funny in the slightestit would be better just to listen to ray stevens' would jesus wear a rolex on his television show. this would barely qualify as pg13 it is not rated, but blockbuster refuses to let anyone under the age of 17 rent thisas if it was pornographic. any little kid could go in there and rent the edited version of requiem for a dream, but they insist that zack and reba is worse.it is, but not in that way.in a way, this worries methe only thing left that could offend   \n",
       "36                                                                                                                                                                                                                                                                                                                                                                                                                                                                                                                                                                                                                                                                                                                                                                                                                                                                                                                                                                                                                                                                                                                                      the plot is about the death of little children. hopper is the one who has to investigate the killings. during the movie it appears that he has some troubles with his daughter. in the end the serial killer get caught. that's it. but before you find out who dunnit, you have to see some terrible acting by all of the actors. it is unbelievable how bad these actors are, including hopper. i could go on like this but that to much of a waste of my time. just don't watch the movie. i've warned you.   \n",
       "37                                                                                                                                                         ever watched a movie that lost the plot? well, this didn't even really have one to begin with.where to begin? the achingly tedious scenes of our heroine sitting around the house with actually no sense of menace or even foreboding created even during the apparently constant thunderstorms that are strangely never actually heard in the housegreat double glazing? the house that is apparently only a few miles from a town yet is several hours walk away? or the third girl who serves no purpose to the plot except to provide a surprisingly quick gory murder just as the tedium becomes unbearable? or even the beginning which suggests a spate of 20 killings throughout the area even though it is apparent the killer never ventures far from the house? or the bizarre ritual with the salt pepper that pretty much sums up most of the films inherent lack of direction.add a lead actress who can't act but at least is willing to do some completely irrelevant nude shower scenes and this video is truly nasty, but not in the way you hope.given a following simply for being banned in the uk in the 80's mostly because of a final surprisingly over extended murder it offers nothing but curiosity value and one classic 'daft' murder don't worryits telegraphed at least ten minutes before.after a walk in the woods our victim comes to a rather steep upward slope which they obviously struggle up. halfway through they see a figure at the top dressed   \n",
       "38                                                                                                                                                                                                                                                                                                                                                                                                                                                                                                                                                                                                                                                                                                                                                                                                                                                                                                                                                                                                                                              okay, so this series kind of takes the route of 'here we go again!' week in, week out david morse's character helps out his ride who is in a bit of a pickle but what's wrong with that!? david morse is one of the greatest character actors out there, and certainly the coolest, and to have him in a series created by david koepp a great writer is heaven!!due to the lack of love for this show by many, i can't see it going to a season series but you never know? the amount of rubbish that has made it beyond that baffles me let's hope something good can make it past a first series!!!   \n",
       "39                                                                                                                                                                             after sitting through this pile of dung, my husband and i wondered whether it was actually the product of an experiment to see whether a computer program could produce a movie. it was that listless and formulaic. but the u.s. propaganda thrown in your face throughout the film provesdisappointinglythat it's the work of humans. call me a conspiracy theorist, but quotes like, we have to steal the declaration of independence to protect it seem like ways to justify actions like the invasion of iraq, etc. the fact that nicholas cage spews lines like, i would never use the declaration of independence as a bargaining chip with a straight face made me and my husband wonder whether the entire cast took valium before shooting each scene. the reasoning behind each plot turn and new clue is truly ridiculous and impossible to follow. and there's also a bonus side plot of misogyny, with dr. whateverhernamewas being chided by all involved for never shutting up. she's clearly in the movie only for looks, but they felt the need to slap a dr. title on her character to give her some gravity. at one point, cage's character says, don't you ever shut up? and the camera pans to her looking poutily down at her hands, like she's a child. truly grotesque. the only benefit to this movie was that it's so astonishingly bad, you do get a few laughs out of it. the really scary thing is that a majority of the people watching   \n",
       "40                                                                                                                                                                                                                                                                                                                                                                                                                                                                                                                                                                                                                                                                                                                                                                                                                                                                                                                                                                         it had all the clichs of movies of this type and no substance. the plot went nowhere and at the end of the movie i felt like a sucker for watching it. the production was good however, the script and acting were bmovie quality. the casting was poor because there were good actors mixed in with crumby actors. the good actors didn't hold their own nor did they lift up the others. this movie is not worthy of more words, but i will say more to meet the minimum requirement of ten lines. james wood and cuba gooding, jr. play caricatures of themselves in other movies. if you are looking for mindless entertainment, i still wouldn't recommend this movie.   \n",
       "41                                                                                                                                                                                                                                                                                                                        this movie is based on the book, a many splendored thing by han suyin and tackles issues of race relations between asians and whites, a topic that comes from han's personal experiences as an eurasian growing up in china. that background, and the beautiful hong kong settings, gives this love story a unique and rather daring atmosphere for its time.other than that, the story is a stereotypical romance with a memorable song that is perhaps more remembered than the movie itself. the beautiful jennifer jones looks the part and gives a wonderful, oscar nominated performance as a doctor of mixed breed during the advent of communism in mainland china. william holden never looked better playing a romantic lead as a journalist covering war torn regions in the world. the acting is top notch, and the chemistry between the two lovers provides for some genuine moments of silver screen affection sure to melt the hearts of those who are romantically inclined.the cinematography really brings out fifty's hong kong, especially the hilltop overlooking the harbor where the two lovers spend their most intimate moments. the ending is a real tearjerker. some may consider sentimental romances pass, but, for those who enjoy classic hollywood love stories, this is a shining example.   \n",
       "42                                                                                                                                                                                                                                                                                                                                                                                                                                                                                                                                                                                                                                                                                                         of all the films i have seen, this one, the rage, has got to be one of the worst yet. the direction, logic, continuity, changes in plotscript and dialog made me cry out in pain. how could anyone come up with something so crappy? gary busey is know for his b movies, but this is a sure w movie. wwaste.take for example about two dozen fbi local law officers surround a trailer house with a jeep wagoneer. inside the jeep is ma and is confused as to why all the cops are about. within seconds a huge gun battle ensues, ma being killed straight off. the cops blast away at the jeep with gary and company blasting away at them. the cops fall like dominoes and the jeep with gary drives around in circles and are not hit by one single bulletpellet. ma is killed and gary seems to not to have noticeddamn that guy is tough. truly a miracle, not since the sixshooter held 300 bullets has there been such a miracle.   \n",
       "43                                        i had heard good things about states of grace and came in with an open mind. i thought that god's army was okay, and i thought that maybe dutcher had improved and matured as a filmmaker. the film began with some shaky acting, and i thought, well, maybe it will get better. unfortunately, it never did. the picture starts out by introducing two elders mormon missionaries and it seems that the audience will get to know them and grow to care about them. instead, the story degenerates into a highly improbable series of unfortunate events highlighting blatant disobedience by the missionaries something that undeniably exists, but rarely on the level that dutcher portrays and it becomes almost laughable.dutcher's only success in this movie is his successful alienation of his target audience. by unrealistically and inaccurately portraying the lives of mormon missionaries, dutcher accomplishes nothing more than angering his predominantly mormon audience. the film in no way reflects reality. missions are nothing like what dutcher shows having served a mormon mission myself i can attest to this fact and gang life in california certainly contains much more explicit language than the occasional mild vulgarity.the conclusion, which i'm assuming was supposed to touch the audience and inspire them to believe that forgiveness is available to all, was both unbelievable c'mon, the entire mission gathers to see this elder sent home and the mom and the girl are standing right next to each other! and cheesy. next time, dutcher, try making a movie   \n",
       "44                                                                                                                                                                                                                                                                                                                                                                                                                                                                                                                                                                                                                                                                                                                        this movie struck home for me. being 29, i remember the '80's and my father working in a factory. i figured, if i worked hard too, if i had pride and never gave up i too could have the american dream, the house, a few kids, a car all to call my own. i've noted however, without a degree in something unlike my father that quit at ninth grade and a keen sense of greed and laziness, you can't get anywhere.i would like to know if anyone has this movie on dvd or vhs. it's made for tv, and i just saw it an hour ago. ic an't find it anywhere! i'd love to show this to my friends, my pseudo friends, family and other relatives, see what they think and remind them that once upon a time, americans would work for the sake of feeling honor and that we had pride in what we accomplished!! i think the feeling is still there, but in a heavy downward spiral with so many things being made overseas...   \n",
       "45                                                                                                                                                                                                                                                                                                                                                            as a disclaimer, i've seen the movie 56 times in the last 15 years, and i only just saw the musical this week. this allowed me to judge the movie without being tainted by what was or wasn't in the musical however, it tainted me when i watched the musical i actually believe michael douglas worked quite well in that role, along with kasey. i think her 'let me dance for you scene' is one of the best parts of the movie, a worthwhile addition compared to the musical. the dancers and singing in the movie are much superior to the musical, as well as the cast which is at least 10 times bigger easier to do in the movie of course. the decors, lighting, dancing, and singing are also much superior in the movie, which should be expected, and was indeed delivered. the songs that were in common with the musical are better done in the movie, the new ones are quite good ones, and the whole movie just delivers more than the musical in my opinion, especially compared to a musical which has few decors. the one bad point on the movie is the obvious cuts between the actors talking, and dubbed singers during the singing portions for some of the characters, but their dancing is impeccable, and the end product was more enjoyable than the musical   \n",
       "46                                                                                                                                                                                                                                                                                                                                                                                                                                                                                                                                                                                                                                                                                                                                                                                                                                                                                                                                                                                                                                                                                                                                                                                                  protocol is an implausible movie whose only saving grace is that it stars goldie hawn along with a good cast of supporting actors. the story revolves around a ditzy cocktail waitress who becomes famous after inadvertently saving the life of an arab dignitary. the story goes downhill halfway through the movie and goldie's charm just doesn't save this movie. unless you are a goldie hawn fan don't go out of your way to see this film.   \n",
       "47                                                                                                                                                                                                                                                                                                                                                                                                                                                                                                                                                                                                                                                                                                                                                                      how this film could be classified as drama, i have no idea. if i were john voight and mary steenburgen, i would be trying to erase this from my cv. it was as historically accurate as xena and hercules. abraham and moses got melded into noah. lot, abraham's nephew, lot, turns up thousands of years before he would have been born. canaanites wandered the earth...really? what were the scriptwriters thinking? was it just ignorance i remember something about noah and animals, and lot and canaanites and all that stuff from sunday school or were they trying to offend the maximum number of people on the planet as possible from christians, jews and muslims, to historians, archaeologists, geologists, psychologists, linguists ...as a matter of fact, did anyone not get offended? anyone who had even a modicum of taste would have winced at this one!   \n",
       "48                                                                                                                                             preston sturgis' the power and the glory was unseen by the public for nearly twenty or thirty years until the late 1990s when it resurfaced and even showed up on television. in the meantime it had gained in notoriety because pauline kael's the citizen kane book had suggested that the herman mankiewicz orson welles screenplay for kane was based on sturgis' screenplay here. as is mentioned in the beginning of this thread for the film on the imdb web site, kael overstated her case.there are about six narrators who take turns dealing with the life of charles foster kane the newsreel representing ralston the henry luce clone, thatcher's memoirs, bernstein, jed leland, susan alexander kane, and raymond the butler. each has his or her different slant on kane, reflecting their faith or disappointment or hatred of the man. and of course each also reveals his or her own failings when they are telling their version of kane's story. this method also leads to frequent overlapping retellings of the same incident.this is not the situation in the power and the glory. yes, like kane it is about a legendary business leader here it is tom garner spencer tracy, a man who rose from the bottom to being head of the most successful railroad system in the country. but there are only two narrators they are garner's right hand man henry ralph morgan and his wife sarah padden. this restricts the nearly three dimensional view we get at times of kane in   \n",
       "49                                                                                                                                                                                                                                                                                                                                                                                                                                                                                                                                                                                                                                                                                                                                                                                                                                                                                                                                                                                                                                                                        average and surprisingly tame fulci giallo which means it's still quite bad by normal standards, but redeemed by its solid buildup and some nice touches such as a neat time twist on the issues of visions and clairvoyance.the genre's wellknown weaknesses are in full gear banal dialogue, wooden acting, illogical plot points. and the finale goes on much too long, while the denouement proves to be a rather lame or shall i say limp affair.fulci's ironic handling of giallo norms is amusing, though. yellow clues wherever you look.3 out of 10 limping killers   \n",
       "\n",
       "   sentiment predicted_sentiment  \n",
       "0   positive            Positive  \n",
       "1   positive       Very Positive  \n",
       "2   positive            Positive  \n",
       "3   negative             Neutral  \n",
       "4   positive            Positive  \n",
       "5   positive            Positive  \n",
       "6   positive             Neutral  \n",
       "7   negative            Negative  \n",
       "8   negative       Very Negative  \n",
       "9   positive       Very Positive  \n",
       "10  negative            Negative  \n",
       "11  negative            Negative  \n",
       "12  negative             Neutral  \n",
       "13  negative            Negative  \n",
       "14  positive       Very Positive  \n",
       "15  negative       Very Negative  \n",
       "16  positive             Neutral  \n",
       "17  negative       Very Negative  \n",
       "18  positive            Negative  \n",
       "19  negative       Very Negative  \n",
       "20  positive            Negative  \n",
       "21  negative       Very Negative  \n",
       "22  positive       Very Positive  \n",
       "23  negative            Negative  \n",
       "24  negative       Very Negative  \n",
       "25  positive             Neutral  \n",
       "26  positive       Very Positive  \n",
       "27  negative            Negative  \n",
       "28  negative       Very Negative  \n",
       "29  positive             Neutral  \n",
       "30  positive             Neutral  \n",
       "31  positive            Positive  \n",
       "32  negative            Negative  \n",
       "33  positive            Positive  \n",
       "34  negative            Negative  \n",
       "35  negative       Very Negative  \n",
       "36  negative       Very Negative  \n",
       "37  negative            Negative  \n",
       "38  positive             Neutral  \n",
       "39  negative       Very Negative  \n",
       "40  negative            Negative  \n",
       "41  positive            Positive  \n",
       "42  negative       Very Negative  \n",
       "43  negative            Negative  \n",
       "44  positive       Very Positive  \n",
       "45  positive            Positive  \n",
       "46  negative            Negative  \n",
       "47  negative       Very Negative  \n",
       "48  positive            Negative  \n",
       "49  negative             Neutral  "
      ]
     },
     "execution_count": 12,
     "metadata": {},
     "output_type": "execute_result"
    }
   ],
   "source": [
    "df1"
   ]
  },
  {
   "cell_type": "code",
   "execution_count": null,
   "metadata": {},
   "outputs": [],
   "source": []
  },
  {
   "cell_type": "code",
   "execution_count": null,
   "metadata": {},
   "outputs": [],
   "source": []
  },
  {
   "cell_type": "code",
   "execution_count": null,
   "metadata": {},
   "outputs": [],
   "source": []
  }
 ],
 "metadata": {
  "kernelspec": {
   "display_name": "Python [conda env:sentenv]",
   "language": "python",
   "name": "conda-env-sentenv-py"
  },
  "language_info": {
   "codemirror_mode": {
    "name": "ipython",
    "version": 3
   },
   "file_extension": ".py",
   "mimetype": "text/x-python",
   "name": "python",
   "nbconvert_exporter": "python",
   "pygments_lexer": "ipython3",
   "version": "3.10.0"
  }
 },
 "nbformat": 4,
 "nbformat_minor": 4
}
