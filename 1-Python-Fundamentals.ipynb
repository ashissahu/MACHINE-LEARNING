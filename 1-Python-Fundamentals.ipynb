{
 "cells": [
  {
   "cell_type": "code",
   "execution_count": null,
   "id": "cab7647d",
   "metadata": {},
   "outputs": [],
   "source": []
  },
  {
   "cell_type": "markdown",
   "id": "34cac9bf",
   "metadata": {},
   "source": [
    "- Freeware(no license fee) and Open source(open source code -customize as pe ur need)\n",
    "- Platform independent (same application can be run on windows,mac,linux - PVM wi;; take care internally)\n",
    "- Dynamically typed\n",
    "- Interpreted Programming Language(no compiling)\n",
    "- Extensive Library"
   ]
  },
  {
   "cell_type": "code",
   "execution_count": 1,
   "id": "a821b9dd",
   "metadata": {},
   "outputs": [
    {
     "data": {
      "text/plain": [
       "int"
      ]
     },
     "execution_count": 1,
     "metadata": {},
     "output_type": "execute_result"
    }
   ],
   "source": [
    "a=10\n",
    "type(a)"
   ]
  },
  {
   "cell_type": "code",
   "execution_count": 2,
   "id": "9c78661e",
   "metadata": {},
   "outputs": [
    {
     "data": {
      "text/plain": [
       "float"
      ]
     },
     "execution_count": 2,
     "metadata": {},
     "output_type": "execute_result"
    }
   ],
   "source": [
    "a=10.0\n",
    "type(a)"
   ]
  },
  {
   "cell_type": "code",
   "execution_count": 3,
   "id": "d5c894df",
   "metadata": {},
   "outputs": [
    {
     "data": {
      "text/plain": [
       "str"
      ]
     },
     "execution_count": 3,
     "metadata": {},
     "output_type": "execute_result"
    }
   ],
   "source": [
    "a='10.0'\n",
    "type(a)"
   ]
  },
  {
   "cell_type": "markdown",
   "id": "9f8ef0ae",
   "metadata": {},
   "source": [
    "# Python Reserved Keywords"
   ]
  },
  {
   "cell_type": "markdown",
   "id": "17ee8b5b",
   "metadata": {},
   "source": [
    "- Python reserved keywords are words that have special meanings and are already predefined by the \n",
    "Python language. These keywords cannot be used as variable names, function names, or any other \n",
    "identifiers because they are dedicated to specific purposes within the language. \n",
    "For example, if is a keyword that is used to make conditional statements, and def is a keyword that \n",
    "is used to define functions.\n",
    "\n",
    "- According to the official Python documentation1, there are 35 keywords in Python 3.12.1:\n",
    "\n",
    "- and\n",
    "- as\n",
    "- assert\n",
    "- break\n",
    "- class\n",
    "- continue\n",
    "- def\n",
    "- del\n",
    "- elif\n",
    "- else\n",
    "- except\n",
    "- False\n",
    "- finally\n",
    "- for\n",
    "- from\n",
    "- global\n",
    "- if\n",
    "- import\n",
    "- in\n",
    "- is\n",
    "- lambda\n",
    "- None\n",
    "- nonlocal\n",
    "- not\n",
    "- or\n",
    "- pass\n",
    "- raise\n",
    "- return\n",
    "- True\n",
    "- try\n",
    "- while\n",
    "- with\n",
    "- yield\n",
    "- match\n",
    "- case"
   ]
  },
  {
   "cell_type": "markdown",
   "id": "842e762f",
   "metadata": {},
   "source": [
    "# Python Data Types"
   ]
  },
  {
   "cell_type": "markdown",
   "id": "1daf16be",
   "metadata": {},
   "source": [
    "- https://www.geeksforgeeks.org/python-data-types/\n",
    "\n",
    "\n",
    "- Numeric data types: int, float, complex\n",
    "- \n",
    "- String data types: str\n",
    "- \n",
    "- Sequence types: list, tuple, range\n",
    "- \n",
    "- Binary types: bytes, bytearray, memoryview\n",
    "- \n",
    "- Mapping data type: dict\n",
    "- \n",
    "- Boolean type: bool\n",
    "- \n",
    "- Set data types: set, frozenset"
   ]
  },
  {
   "cell_type": "code",
   "execution_count": null,
   "id": "3dc02867",
   "metadata": {},
   "outputs": [],
   "source": []
  },
  {
   "cell_type": "code",
   "execution_count": 4,
   "id": "082a18c9",
   "metadata": {},
   "outputs": [
    {
     "name": "stdout",
     "output_type": "stream",
     "text": [
      "True\n",
      "False\n",
      "True\n",
      "False\n"
     ]
    }
   ],
   "source": [
    "a=10\n",
    "print(bool(a))\n",
    "b=0\n",
    "print(bool(b))\n",
    "c=True\n",
    "print(bool(c))\n",
    "d=False\n",
    "print(bool(d))"
   ]
  },
  {
   "cell_type": "code",
   "execution_count": 5,
   "id": "a419ef38",
   "metadata": {},
   "outputs": [
    {
     "name": "stdout",
     "output_type": "stream",
     "text": [
      "False\n"
     ]
    }
   ],
   "source": [
    "a=[]\n",
    "print(bool(a))"
   ]
  },
  {
   "cell_type": "code",
   "execution_count": 6,
   "id": "5cac1e1b",
   "metadata": {},
   "outputs": [
    {
     "name": "stdout",
     "output_type": "stream",
     "text": [
      "True\n"
     ]
    }
   ],
   "source": [
    "a=[10]\n",
    "print(bool(a))"
   ]
  },
  {
   "cell_type": "markdown",
   "id": "1e51ef79",
   "metadata": {},
   "source": [
    "# Typecasting"
   ]
  },
  {
   "cell_type": "code",
   "execution_count": 7,
   "id": "f19edf51",
   "metadata": {},
   "outputs": [
    {
     "data": {
      "text/plain": [
       "10"
      ]
     },
     "execution_count": 7,
     "metadata": {},
     "output_type": "execute_result"
    }
   ],
   "source": [
    "int(10.25)"
   ]
  },
  {
   "cell_type": "code",
   "execution_count": 8,
   "id": "94d15fa6",
   "metadata": {},
   "outputs": [
    {
     "data": {
      "text/plain": [
       "10"
      ]
     },
     "execution_count": 8,
     "metadata": {},
     "output_type": "execute_result"
    }
   ],
   "source": [
    "int(10.75)"
   ]
  },
  {
   "cell_type": "code",
   "execution_count": 9,
   "id": "7c5a24fd",
   "metadata": {},
   "outputs": [
    {
     "ename": "ValueError",
     "evalue": "invalid literal for int() with base 10: 'python'",
     "output_type": "error",
     "traceback": [
      "\u001b[1;31m---------------------------------------------------------------------------\u001b[0m",
      "\u001b[1;31mValueError\u001b[0m                                Traceback (most recent call last)",
      "Input \u001b[1;32mIn [9]\u001b[0m, in \u001b[0;36m<cell line: 1>\u001b[1;34m()\u001b[0m\n\u001b[1;32m----> 1\u001b[0m \u001b[38;5;28;43mint\u001b[39;49m\u001b[43m(\u001b[49m\u001b[38;5;124;43m'\u001b[39;49m\u001b[38;5;124;43mpython\u001b[39;49m\u001b[38;5;124;43m'\u001b[39;49m\u001b[43m)\u001b[49m\n",
      "\u001b[1;31mValueError\u001b[0m: invalid literal for int() with base 10: 'python'"
     ]
    }
   ],
   "source": [
    "int('python')"
   ]
  },
  {
   "cell_type": "code",
   "execution_count": 10,
   "id": "43345010",
   "metadata": {},
   "outputs": [
    {
     "data": {
      "text/plain": [
       "10"
      ]
     },
     "execution_count": 10,
     "metadata": {},
     "output_type": "execute_result"
    }
   ],
   "source": [
    "int('10')"
   ]
  },
  {
   "cell_type": "code",
   "execution_count": 11,
   "id": "e3c59651",
   "metadata": {},
   "outputs": [
    {
     "data": {
      "text/plain": [
       "10.0"
      ]
     },
     "execution_count": 11,
     "metadata": {},
     "output_type": "execute_result"
    }
   ],
   "source": [
    "float(10)"
   ]
  },
  {
   "cell_type": "code",
   "execution_count": 12,
   "id": "9319b82c",
   "metadata": {},
   "outputs": [
    {
     "data": {
      "text/plain": [
       "'10.5'"
      ]
     },
     "execution_count": 12,
     "metadata": {},
     "output_type": "execute_result"
    }
   ],
   "source": [
    "str(10.5)"
   ]
  },
  {
   "cell_type": "markdown",
   "id": "d7df625b",
   "metadata": {},
   "source": [
    "# Immutable Vs Mutable DataTypes"
   ]
  },
  {
   "cell_type": "markdown",
   "id": "712fa29a",
   "metadata": {},
   "source": [
    "- Immutable data types in Python are objects that cannot be changed after they are created. This means that you cannot add, remove, or replace elements in an immutable object.If we are trying to perform any changes , with those changes a new object will be created.\n",
    "\n",
    "\n",
    "Some examples of immutable data types in Python are:\n",
    "\n",
    "- Numbers (int, float, complex, bool)\n",
    "- Strings\n",
    "- Bytes\n",
    "- Tuples\n",
    "- Frozen sets\n",
    "\n",
    "Immutable data types have some advantages, such as faster execution, lower memory usage, and protection from accidental modification. However, they also have some limitations, such as requiring more memory allocation and copying operations when modifying values."
   ]
  },
  {
   "cell_type": "markdown",
   "id": "82322036",
   "metadata": {},
   "source": [
    " In Python the following data types are considered as Fundamental Data types\n",
    " \n",
    " int \n",
    "\n",
    " float\n",
    "\n",
    " complex\n",
    "\n",
    " bool\n",
    "\n",
    " str\n",
    "\n",
    "Fundamental Data Types vs Immutability:\n",
    "\n",
    "֍ All Fundamental Data types are immutable. i.e once we creates an object,we cannot \n",
    "perform any changes in that object. If we are trying to change then with those changes \n",
    "a new object will be created. This non-chageable behaviour is called immutability.\n",
    "\n",
    "֍ In Python if a new object is required, then PVM won’t create object immediately. First \n",
    "it will check is any object available with the required content or not. If available then \n",
    "existing object will be reused. If it is not available then only a new object will be \n",
    "created. The advantage of this approach is memory utilization and performance will be \n",
    "improved.\n",
    "\n",
    "֍ But the problem in this approach is, several references pointing to the same object, by \n",
    "using one reference if we are allowed to change the content in the existing object then \n",
    "the remaining references will be effected. To prevent this immutability concept is \n",
    "required. According to this once creates an object we are not allowed to change \n",
    "content. If we are trying to change with those changes a new object will be created."
   ]
  },
  {
   "cell_type": "code",
   "execution_count": 13,
   "id": "de93690b",
   "metadata": {},
   "outputs": [
    {
     "data": {
      "text/plain": [
       "2142140918672"
      ]
     },
     "execution_count": 13,
     "metadata": {},
     "output_type": "execute_result"
    }
   ],
   "source": [
    "x=20\n",
    "id(x)"
   ]
  },
  {
   "cell_type": "code",
   "execution_count": 14,
   "id": "a27da491",
   "metadata": {},
   "outputs": [
    {
     "data": {
      "text/plain": [
       "2142140918704"
      ]
     },
     "execution_count": 14,
     "metadata": {},
     "output_type": "execute_result"
    }
   ],
   "source": [
    "x=x+1\n",
    "id(x)"
   ]
  },
  {
   "cell_type": "code",
   "execution_count": 15,
   "id": "5b075447",
   "metadata": {},
   "outputs": [
    {
     "data": {
      "text/plain": [
       "(2142140918992, 2142140918992, 2142140918992)"
      ]
     },
     "execution_count": 15,
     "metadata": {},
     "output_type": "execute_result"
    }
   ],
   "source": [
    "a=b=c=30\n",
    "id(a),id(b),id(c)"
   ]
  },
  {
   "cell_type": "code",
   "execution_count": 16,
   "id": "f7e21c34",
   "metadata": {},
   "outputs": [
    {
     "data": {
      "text/plain": [
       "True"
      ]
     },
     "execution_count": 16,
     "metadata": {},
     "output_type": "execute_result"
    }
   ],
   "source": [
    "a is b"
   ]
  },
  {
   "cell_type": "code",
   "execution_count": 17,
   "id": "efb994d9",
   "metadata": {},
   "outputs": [
    {
     "data": {
      "text/plain": [
       "True"
      ]
     },
     "execution_count": 17,
     "metadata": {},
     "output_type": "execute_result"
    }
   ],
   "source": [
    "a==b"
   ]
  },
  {
   "cell_type": "code",
   "execution_count": 18,
   "id": "ead2d802",
   "metadata": {},
   "outputs": [
    {
     "name": "stdout",
     "output_type": "stream",
     "text": [
      "2142183678640\n",
      "python\n"
     ]
    }
   ],
   "source": [
    "s='python'\n",
    "print(id(s))\n",
    "print(s)\n"
   ]
  },
  {
   "cell_type": "code",
   "execution_count": 19,
   "id": "d3720327",
   "metadata": {},
   "outputs": [
    {
     "ename": "TypeError",
     "evalue": "'str' object does not support item assignment",
     "output_type": "error",
     "traceback": [
      "\u001b[1;31m---------------------------------------------------------------------------\u001b[0m",
      "\u001b[1;31mTypeError\u001b[0m                                 Traceback (most recent call last)",
      "Input \u001b[1;32mIn [19]\u001b[0m, in \u001b[0;36m<cell line: 1>\u001b[1;34m()\u001b[0m\n\u001b[1;32m----> 1\u001b[0m s[\u001b[38;5;241m0\u001b[39m]\u001b[38;5;241m=\u001b[39m\u001b[38;5;124m'\u001b[39m\u001b[38;5;124mk\u001b[39m\u001b[38;5;124m'\u001b[39m\n\u001b[0;32m      2\u001b[0m \u001b[38;5;28mprint\u001b[39m(\u001b[38;5;28mid\u001b[39m(s))\n\u001b[0;32m      3\u001b[0m \u001b[38;5;28mprint\u001b[39m(s)\n",
      "\u001b[1;31mTypeError\u001b[0m: 'str' object does not support item assignment"
     ]
    }
   ],
   "source": [
    "s[0]='k'\n",
    "print(id(s))\n",
    "print(s)"
   ]
  },
  {
   "cell_type": "code",
   "execution_count": 20,
   "id": "677445d7",
   "metadata": {},
   "outputs": [
    {
     "data": {
      "text/plain": [
       "140721594488936"
      ]
     },
     "execution_count": 20,
     "metadata": {},
     "output_type": "execute_result"
    }
   ],
   "source": [
    "a=bool(10)\n",
    "id(a)"
   ]
  },
  {
   "cell_type": "code",
   "execution_count": 21,
   "id": "014edc0e",
   "metadata": {},
   "outputs": [
    {
     "data": {
      "text/plain": [
       "140721594488968"
      ]
     },
     "execution_count": 21,
     "metadata": {},
     "output_type": "execute_result"
    }
   ],
   "source": [
    "a=bool(0)\n",
    "id(a)"
   ]
  },
  {
   "cell_type": "code",
   "execution_count": 22,
   "id": "733f05d3",
   "metadata": {},
   "outputs": [
    {
     "data": {
      "text/plain": [
       "140721594488936"
      ]
     },
     "execution_count": 22,
     "metadata": {},
     "output_type": "execute_result"
    }
   ],
   "source": [
    "a=bool(30)\n",
    "id(a)"
   ]
  },
  {
   "cell_type": "markdown",
   "id": "7e5cef48",
   "metadata": {},
   "source": [
    "- Mutable data types in Python are objects that can be changed after they have been created. This means that you can modify, add, or remove elements from a mutable object without creating a new copy of it. Some examples of mutable data types in Python are lists, dictionaries, and sets.\n",
    "\n",
    "- Lists are ordered collections of items that can be accessed by index. You can use methods like append(), extend(), insert(), remove(), pop(), and sort() to modify a list in place.\n",
    "\n",
    "- Dictionaries are unordered collections of key-value pairs that can be accessed by key. You can use methods like update(), setdefault(), pop(), popitem(), and clear() to modify a dictionary in place.\n",
    "\n",
    "- Sets are unordered collections of unique items that support mathematical operations like union, intersection, difference, and symmetric difference. You can use methods like add(), remove(), discard(), pop(), and clear() to modify a set in place."
   ]
  },
  {
   "cell_type": "code",
   "execution_count": 23,
   "id": "a909e07f",
   "metadata": {},
   "outputs": [
    {
     "name": "stdout",
     "output_type": "stream",
     "text": [
      "[10, 20, 30]\n",
      "2142255942912\n"
     ]
    }
   ],
   "source": [
    "l=[10,20,30]\n",
    "print(l)\n",
    "print(id(l))"
   ]
  },
  {
   "cell_type": "code",
   "execution_count": 24,
   "id": "1f7635ea",
   "metadata": {},
   "outputs": [
    {
     "name": "stdout",
     "output_type": "stream",
     "text": [
      "[90, 20, 30]\n",
      "2142255942912\n"
     ]
    }
   ],
   "source": [
    "l[0]=90\n",
    "print(l)\n",
    "print(id(l))"
   ]
  },
  {
   "cell_type": "code",
   "execution_count": 25,
   "id": "2a66a1b1",
   "metadata": {},
   "outputs": [
    {
     "name": "stdout",
     "output_type": "stream",
     "text": [
      "<class 'set'>\n",
      "{1, 2, 3, 4}\n",
      "2142254898528\n"
     ]
    }
   ],
   "source": [
    "s={1,2,3,4}\n",
    "print(type(s))\n",
    "print(s)\n",
    "print(id(s))"
   ]
  },
  {
   "cell_type": "code",
   "execution_count": 26,
   "id": "8c16aebb",
   "metadata": {},
   "outputs": [
    {
     "name": "stdout",
     "output_type": "stream",
     "text": [
      "<class 'set'>\n",
      "{1, 2, 3, 4, 7}\n",
      "2142254898528\n"
     ]
    }
   ],
   "source": [
    "s.add(7)\n",
    "print(type(s))\n",
    "print(s)\n",
    "print(id(s))"
   ]
  },
  {
   "cell_type": "code",
   "execution_count": 27,
   "id": "42751a61",
   "metadata": {},
   "outputs": [
    {
     "name": "stdout",
     "output_type": "stream",
     "text": [
      "<class 'frozenset'>\n",
      "frozenset({1, 2, 3, 4, 7})\n",
      "2142254898752\n"
     ]
    }
   ],
   "source": [
    "fs =frozenset(s)\n",
    "print(type(fs))\n",
    "print(fs)\n",
    "print(id(fs))"
   ]
  },
  {
   "cell_type": "code",
   "execution_count": 28,
   "id": "ebc26ed3",
   "metadata": {},
   "outputs": [
    {
     "ename": "AttributeError",
     "evalue": "'frozenset' object has no attribute 'add'",
     "output_type": "error",
     "traceback": [
      "\u001b[1;31m---------------------------------------------------------------------------\u001b[0m",
      "\u001b[1;31mAttributeError\u001b[0m                            Traceback (most recent call last)",
      "Input \u001b[1;32mIn [28]\u001b[0m, in \u001b[0;36m<cell line: 1>\u001b[1;34m()\u001b[0m\n\u001b[1;32m----> 1\u001b[0m \u001b[43mfs\u001b[49m\u001b[38;5;241;43m.\u001b[39;49m\u001b[43madd\u001b[49m(\u001b[38;5;241m9\u001b[39m)\n",
      "\u001b[1;31mAttributeError\u001b[0m: 'frozenset' object has no attribute 'add'"
     ]
    }
   ],
   "source": [
    "fs.add(9)"
   ]
  },
  {
   "cell_type": "markdown",
   "id": "5955d8fa",
   "metadata": {},
   "source": [
    "# 'None' Datatype"
   ]
  },
  {
   "cell_type": "code",
   "execution_count": 29,
   "id": "07809109",
   "metadata": {},
   "outputs": [
    {
     "name": "stdout",
     "output_type": "stream",
     "text": [
      "I am learning\n"
     ]
    }
   ],
   "source": [
    "def f1():\n",
    "    return \"I am learning\"\n",
    "\n",
    "x=f1()\n",
    "print(x)"
   ]
  },
  {
   "cell_type": "code",
   "execution_count": 30,
   "id": "ad6a955c",
   "metadata": {},
   "outputs": [
    {
     "name": "stdout",
     "output_type": "stream",
     "text": [
      "I am learning\n",
      "None\n"
     ]
    }
   ],
   "source": [
    "def f1():\n",
    "    print(\"I am learning\")\n",
    "\n",
    "x=f1()\n",
    "print(x)"
   ]
  },
  {
   "cell_type": "markdown",
   "id": "f76b94f1",
   "metadata": {},
   "source": [
    "# Escape Sequences"
   ]
  },
  {
   "cell_type": "markdown",
   "id": "e8f2e9f7",
   "metadata": {},
   "source": [
    "There are certain characters that start with backslash(\\), have some specific task to do. These are the non-printable characters and are interpreted in different way by the interpreter."
   ]
  },
  {
   "cell_type": "markdown",
   "id": "1e24ac9a",
   "metadata": {},
   "source": [
    "\n",
    "- \\n\tNew Line\n",
    "- \\\\\tBackslash\n",
    "- \\’\tSingle Quote\n",
    "- \\”\tDouble Quote\n",
    "- \\t\tTab\n",
    "- \\b\tBackspace\n",
    "- \\r\tCarriage Return\n",
    "- \\v\tVertical Tab"
   ]
  },
  {
   "cell_type": "code",
   "execution_count": 31,
   "id": "94ff75ef",
   "metadata": {},
   "outputs": [
    {
     "name": "stdout",
     "output_type": "stream",
     "text": [
      "Hello \n",
      "World\n"
     ]
    }
   ],
   "source": [
    "print(\"Hello \\nWorld\")"
   ]
  },
  {
   "cell_type": "code",
   "execution_count": 32,
   "id": "8414fbce",
   "metadata": {},
   "outputs": [
    {
     "name": "stdout",
     "output_type": "stream",
     "text": [
      "Hello\n",
      "World\n"
     ]
    }
   ],
   "source": [
    "print(\"Hello\\nWorld\")"
   ]
  },
  {
   "cell_type": "code",
   "execution_count": 33,
   "id": "9125e250",
   "metadata": {},
   "outputs": [
    {
     "name": "stdout",
     "output_type": "stream",
     "text": [
      "Hello \tWorld\n"
     ]
    }
   ],
   "source": [
    "print(\"Hello \\tWorld\")"
   ]
  },
  {
   "cell_type": "code",
   "execution_count": 34,
   "id": "c98c47eb",
   "metadata": {},
   "outputs": [
    {
     "name": "stdout",
     "output_type": "stream",
     "text": [
      "Hello \\ World\n"
     ]
    }
   ],
   "source": [
    "print(\"Hello \\\\ World\")"
   ]
  },
  {
   "cell_type": "code",
   "execution_count": 35,
   "id": "1dab06aa",
   "metadata": {},
   "outputs": [
    {
     "name": "stdout",
     "output_type": "stream",
     "text": [
      "Hello \" World\n",
      "Hello ' World\n"
     ]
    }
   ],
   "source": [
    "print(\"Hello \\\" World\")\n",
    "print(\"Hello \\' World\")"
   ]
  },
  {
   "cell_type": "markdown",
   "id": "c02abd04",
   "metadata": {},
   "source": [
    "## Preventing Escape Sequence Interpretation"
   ]
  },
  {
   "cell_type": "code",
   "execution_count": 36,
   "id": "52941052",
   "metadata": {},
   "outputs": [
    {
     "name": "stdout",
     "output_type": "stream",
     "text": [
      "Use \\n for new line.\n"
     ]
    }
   ],
   "source": [
    "#1. Doubling backslash\n",
    "print(\"Use \\\\n for new line.\")"
   ]
  },
  {
   "cell_type": "code",
   "execution_count": 37,
   "id": "8dcb73aa",
   "metadata": {},
   "outputs": [
    {
     "name": "stdout",
     "output_type": "stream",
     "text": [
      "Use \\n for new line.\n"
     ]
    }
   ],
   "source": [
    "#2. Raw String\n",
    "#Here, we use capital R or small r to prevent its default interpretation. We just have to prefix the string with a capital R or small r, it will automatically do the task.\n",
    "\n",
    "print(r\"Use \\n for new line.\")"
   ]
  },
  {
   "cell_type": "code",
   "execution_count": 38,
   "id": "6e0db186",
   "metadata": {},
   "outputs": [
    {
     "name": "stdout",
     "output_type": "stream",
     "text": [
      "'Use \\n for new line.'\n"
     ]
    }
   ],
   "source": [
    "#3. Using repr() function\n",
    "#The repr() function also works in the same way as raw string. It will not interpret the escape sequence and return the object as it is in its printable format. We simply have to pass the string to the repl() function.\n",
    "\n",
    "print(repr(\"Use \\n for new line.\"))"
   ]
  },
  {
   "cell_type": "markdown",
   "id": "5f930ec1",
   "metadata": {},
   "source": [
    "Use Cases\n",
    "\n",
    "- Consider scenarios where you need to include a path in a string. Escape characters make it possible to handle such situations without causing errors or unintended behaviour.\n",
    "- When dealing with user input in a form, escape sequences enable developers to validate and process input containing special characters without causing unintended effects in the program."
   ]
  },
  {
   "cell_type": "markdown",
   "id": "aa24fd27",
   "metadata": {},
   "source": [
    "# Operators"
   ]
  },
  {
   "cell_type": "markdown",
   "id": "2a5ff4eb",
   "metadata": {},
   "source": [
    "## 1.Arithmetic"
   ]
  },
  {
   "cell_type": "code",
   "execution_count": 39,
   "id": "c470bbb0",
   "metadata": {},
   "outputs": [],
   "source": [
    "# + for addition\n",
    "# - for subtraction\n",
    "# * for multiplication\n",
    "# / for division\n",
    "# % for modulus (remainder)\n",
    "# ** for exponentiation (power)\n",
    "# // for floor division (quotient) - result can be float or int based on arguments "
   ]
  },
  {
   "cell_type": "code",
   "execution_count": 40,
   "id": "27ba0a38",
   "metadata": {},
   "outputs": [
    {
     "data": {
      "text/plain": [
       "2.5"
      ]
     },
     "execution_count": 40,
     "metadata": {},
     "output_type": "execute_result"
    }
   ],
   "source": [
    "5/2"
   ]
  },
  {
   "cell_type": "code",
   "execution_count": 41,
   "id": "cbd27697",
   "metadata": {},
   "outputs": [
    {
     "data": {
      "text/plain": [
       "2"
      ]
     },
     "execution_count": 41,
     "metadata": {},
     "output_type": "execute_result"
    }
   ],
   "source": [
    "# // for floor division (quotient) - result can be float or int based on arguments \n",
    "# if both are int,result will be int\n",
    "#If atleast one argument is float.result will be float(floor value only)\n",
    "5//2"
   ]
  },
  {
   "cell_type": "code",
   "execution_count": 42,
   "id": "5aac2274",
   "metadata": {},
   "outputs": [
    {
     "data": {
      "text/plain": [
       "1"
      ]
     },
     "execution_count": 42,
     "metadata": {},
     "output_type": "execute_result"
    }
   ],
   "source": [
    "5//3"
   ]
  },
  {
   "cell_type": "code",
   "execution_count": 43,
   "id": "9c0c7202",
   "metadata": {},
   "outputs": [
    {
     "data": {
      "text/plain": [
       "1.6666666666666667"
      ]
     },
     "execution_count": 43,
     "metadata": {},
     "output_type": "execute_result"
    }
   ],
   "source": [
    "5.0/3"
   ]
  },
  {
   "cell_type": "code",
   "execution_count": 44,
   "id": "d82cb8b5",
   "metadata": {},
   "outputs": [
    {
     "data": {
      "text/plain": [
       "1.0"
      ]
     },
     "execution_count": 44,
     "metadata": {},
     "output_type": "execute_result"
    }
   ],
   "source": [
    "5.0//3"
   ]
  },
  {
   "cell_type": "code",
   "execution_count": 45,
   "id": "cff284b0",
   "metadata": {},
   "outputs": [
    {
     "data": {
      "text/plain": [
       "1.0"
      ]
     },
     "execution_count": 45,
     "metadata": {},
     "output_type": "execute_result"
    }
   ],
   "source": [
    "5.0//3.0"
   ]
  },
  {
   "cell_type": "code",
   "execution_count": 46,
   "id": "d00bc456",
   "metadata": {},
   "outputs": [
    {
     "data": {
      "text/plain": [
       "5"
      ]
     },
     "execution_count": 46,
     "metadata": {},
     "output_type": "execute_result"
    }
   ],
   "source": [
    "import math\n",
    "math.floor(5.8)"
   ]
  },
  {
   "cell_type": "code",
   "execution_count": 47,
   "id": "c5b40f20",
   "metadata": {},
   "outputs": [
    {
     "data": {
      "text/plain": [
       "6"
      ]
     },
     "execution_count": 47,
     "metadata": {},
     "output_type": "execute_result"
    }
   ],
   "source": [
    "math.ceil(5.8)"
   ]
  },
  {
   "cell_type": "code",
   "execution_count": 48,
   "id": "09ce8830",
   "metadata": {},
   "outputs": [
    {
     "data": {
      "text/plain": [
       "25"
      ]
     },
     "execution_count": 48,
     "metadata": {},
     "output_type": "execute_result"
    }
   ],
   "source": [
    "5**2"
   ]
  },
  {
   "cell_type": "code",
   "execution_count": 49,
   "id": "05add3ac",
   "metadata": {},
   "outputs": [
    {
     "data": {
      "text/plain": [
       "'pythonpythonpython'"
      ]
     },
     "execution_count": 49,
     "metadata": {},
     "output_type": "execute_result"
    }
   ],
   "source": [
    "'python' * 3"
   ]
  },
  {
   "cell_type": "code",
   "execution_count": 50,
   "id": "0c358380",
   "metadata": {},
   "outputs": [
    {
     "ename": "TypeError",
     "evalue": "can't multiply sequence by non-int of type 'str'",
     "output_type": "error",
     "traceback": [
      "\u001b[1;31m---------------------------------------------------------------------------\u001b[0m",
      "\u001b[1;31mTypeError\u001b[0m                                 Traceback (most recent call last)",
      "Input \u001b[1;32mIn [50]\u001b[0m, in \u001b[0;36m<cell line: 1>\u001b[1;34m()\u001b[0m\n\u001b[1;32m----> 1\u001b[0m \u001b[38;5;124;43m'\u001b[39;49m\u001b[38;5;124;43mpython\u001b[39;49m\u001b[38;5;124;43m'\u001b[39;49m\u001b[43m \u001b[49m\u001b[38;5;241;43m*\u001b[39;49m\u001b[43m \u001b[49m\u001b[38;5;124;43m'\u001b[39;49m\u001b[38;5;124;43m3\u001b[39;49m\u001b[38;5;124;43m'\u001b[39;49m\n",
      "\u001b[1;31mTypeError\u001b[0m: can't multiply sequence by non-int of type 'str'"
     ]
    }
   ],
   "source": [
    "'python' * '3'"
   ]
  },
  {
   "cell_type": "code",
   "execution_count": 51,
   "id": "7639b716",
   "metadata": {},
   "outputs": [
    {
     "data": {
      "text/plain": [
       "'pythonpythonpython'"
      ]
     },
     "execution_count": 51,
     "metadata": {},
     "output_type": "execute_result"
    }
   ],
   "source": [
    "'python' * int('3')"
   ]
  },
  {
   "cell_type": "markdown",
   "id": "f3b3394a",
   "metadata": {},
   "source": [
    "## 2.Relational"
   ]
  },
  {
   "cell_type": "code",
   "execution_count": 52,
   "id": "da35d0a3",
   "metadata": {},
   "outputs": [
    {
     "data": {
      "text/plain": [
       "False"
      ]
     },
     "execution_count": 52,
     "metadata": {},
     "output_type": "execute_result"
    }
   ],
   "source": [
    "# >,<,>=,<=\n",
    "10>20"
   ]
  },
  {
   "cell_type": "code",
   "execution_count": 53,
   "id": "56061624",
   "metadata": {},
   "outputs": [],
   "source": [
    "#chaining of relational operators\n",
    "#If all comparisons result true,then result is true \n",
    "# If atleast one comparison is false, then result is false\n"
   ]
  },
  {
   "cell_type": "code",
   "execution_count": 54,
   "id": "c525ec58",
   "metadata": {},
   "outputs": [
    {
     "data": {
      "text/plain": [
       "True"
      ]
     },
     "execution_count": 54,
     "metadata": {},
     "output_type": "execute_result"
    }
   ],
   "source": [
    "10<20<30"
   ]
  },
  {
   "cell_type": "code",
   "execution_count": 55,
   "id": "dd82fa48",
   "metadata": {},
   "outputs": [
    {
     "data": {
      "text/plain": [
       "False"
      ]
     },
     "execution_count": 55,
     "metadata": {},
     "output_type": "execute_result"
    }
   ],
   "source": [
    "10<30<20"
   ]
  },
  {
   "cell_type": "markdown",
   "id": "70ce18d5",
   "metadata": {},
   "source": [
    "## 3.Equalty"
   ]
  },
  {
   "cell_type": "code",
   "execution_count": 56,
   "id": "5da5892e",
   "metadata": {},
   "outputs": [],
   "source": [
    "# ==,!="
   ]
  },
  {
   "cell_type": "code",
   "execution_count": 57,
   "id": "8e590204",
   "metadata": {},
   "outputs": [
    {
     "data": {
      "text/plain": [
       "False"
      ]
     },
     "execution_count": 57,
     "metadata": {},
     "output_type": "execute_result"
    }
   ],
   "source": [
    "10==20"
   ]
  },
  {
   "cell_type": "code",
   "execution_count": 58,
   "id": "7466f37a",
   "metadata": {},
   "outputs": [
    {
     "data": {
      "text/plain": [
       "True"
      ]
     },
     "execution_count": 58,
     "metadata": {},
     "output_type": "execute_result"
    }
   ],
   "source": [
    "10!=20"
   ]
  },
  {
   "cell_type": "code",
   "execution_count": 59,
   "id": "e2d6dff4",
   "metadata": {},
   "outputs": [],
   "source": [
    "#chaining of relational operators\n",
    "#If all comparisons result true,then result is true \n",
    "# If atleast one comparison is false, then result is false\n"
   ]
  },
  {
   "cell_type": "code",
   "execution_count": 60,
   "id": "de71810f",
   "metadata": {},
   "outputs": [
    {
     "data": {
      "text/plain": [
       "False"
      ]
     },
     "execution_count": 60,
     "metadata": {},
     "output_type": "execute_result"
    }
   ],
   "source": [
    "10==20==20"
   ]
  },
  {
   "cell_type": "code",
   "execution_count": 61,
   "id": "1c0ba3bb",
   "metadata": {},
   "outputs": [
    {
     "data": {
      "text/plain": [
       "True"
      ]
     },
     "execution_count": 61,
     "metadata": {},
     "output_type": "execute_result"
    }
   ],
   "source": [
    "10==10==10"
   ]
  },
  {
   "cell_type": "markdown",
   "id": "208a77f3",
   "metadata": {},
   "source": [
    "## 4.Logical"
   ]
  },
  {
   "cell_type": "code",
   "execution_count": 62,
   "id": "ab2d522e",
   "metadata": {},
   "outputs": [],
   "source": [
    "# and,or,not\n",
    "# for \"not\",result is always boolean"
   ]
  },
  {
   "cell_type": "code",
   "execution_count": 63,
   "id": "a1ce3863",
   "metadata": {},
   "outputs": [
    {
     "data": {
      "text/plain": [
       "False"
      ]
     },
     "execution_count": 63,
     "metadata": {},
     "output_type": "execute_result"
    }
   ],
   "source": [
    "not 'python'"
   ]
  },
  {
   "cell_type": "code",
   "execution_count": 64,
   "id": "d9460d0d",
   "metadata": {},
   "outputs": [
    {
     "data": {
      "text/plain": [
       "True"
      ]
     },
     "execution_count": 64,
     "metadata": {},
     "output_type": "execute_result"
    }
   ],
   "source": [
    "not ''"
   ]
  },
  {
   "cell_type": "code",
   "execution_count": 65,
   "id": "dc99c44e",
   "metadata": {},
   "outputs": [
    {
     "data": {
      "text/plain": [
       "True"
      ]
     },
     "execution_count": 65,
     "metadata": {},
     "output_type": "execute_result"
    }
   ],
   "source": [
    "a=20\n",
    "b=30\n",
    "((a>10) and (b>20))"
   ]
  },
  {
   "cell_type": "code",
   "execution_count": 66,
   "id": "6bf280d1",
   "metadata": {},
   "outputs": [],
   "source": [
    "#x and y - if x evaluates to False, then result is x\n",
    "#           if x evaluates to True, then result is y\n",
    "\n",
    "#x or y - if x evaluates to False, then result is y\n",
    "#           if x evaluates to True, then result is x"
   ]
  },
  {
   "cell_type": "code",
   "execution_count": 67,
   "id": "1c056d92",
   "metadata": {},
   "outputs": [
    {
     "data": {
      "text/plain": [
       "20"
      ]
     },
     "execution_count": 67,
     "metadata": {},
     "output_type": "execute_result"
    }
   ],
   "source": [
    "10 and 20"
   ]
  },
  {
   "cell_type": "code",
   "execution_count": 68,
   "id": "c4673b20",
   "metadata": {},
   "outputs": [
    {
     "data": {
      "text/plain": [
       "10"
      ]
     },
     "execution_count": 68,
     "metadata": {},
     "output_type": "execute_result"
    }
   ],
   "source": [
    "10 or 20"
   ]
  },
  {
   "cell_type": "code",
   "execution_count": 69,
   "id": "703c72d4",
   "metadata": {},
   "outputs": [
    {
     "data": {
      "text/plain": [
       "'learn'"
      ]
     },
     "execution_count": 69,
     "metadata": {},
     "output_type": "execute_result"
    }
   ],
   "source": [
    "'python' and 'learn'"
   ]
  },
  {
   "cell_type": "code",
   "execution_count": 70,
   "id": "2f7d4230",
   "metadata": {},
   "outputs": [
    {
     "data": {
      "text/plain": [
       "'python'"
      ]
     },
     "execution_count": 70,
     "metadata": {},
     "output_type": "execute_result"
    }
   ],
   "source": [
    "'python' or 'learn'"
   ]
  },
  {
   "cell_type": "markdown",
   "id": "c8d929c9",
   "metadata": {},
   "source": [
    "## 5.Assignment"
   ]
  },
  {
   "cell_type": "code",
   "execution_count": 71,
   "id": "93d215dc",
   "metadata": {},
   "outputs": [
    {
     "data": {
      "text/plain": [
       "'\\nSyntax\\n=\\nAssign value of right side of expression to left side operand\\tx = y + z \\n\\n+=\\nAdd and Assign: Add right side operand with left side operand and then assign to left operand\\ta += b   \\n\\n-=\\nSubtract AND: Subtract right operand from left operand and then assign to left operand: True if both operands are equal\\ta -= b  \\n\\n*=\\nMultiply AND: Multiply right operand with left operand and then assign to left operand\\ta *= b     \\n\\n/=\\nDivide AND: Divide left operand with right operand and then assign to left operand\\ta /= b\\n\\n%=\\nModulus AND: Takes modulus using left and right operands and assign result to left operand\\ta %= b  \\n\\n//=\\nDivide(floor) AND: Divide left operand with right operand and then assign the value(floor) to left operand\\ta //= b   \\n\\n**=\\nExponent AND: Calculate exponent(raise power) value using operands and assign value to left operand\\ta **= b     \\n\\n&=\\nPerforms Bitwise AND on operands and assign value to left operand\\ta &= b   \\n\\n|=\\nPerforms Bitwise OR on operands and assign value to left operand\\ta |= b    \\n\\n^=\\nPerforms Bitwise xOR on operands and assign value to left operand\\ta ^= b    \\n\\n>>=\\nPerforms Bitwise right shift on operands and assign value to left operand\\ta >>= b     \\n\\n<<=\\nPerforms Bitwise left shift on operands and assign value to left operand\\ta <<= b \\n\\n'"
      ]
     },
     "execution_count": 71,
     "metadata": {},
     "output_type": "execute_result"
    }
   ],
   "source": [
    "'''\n",
    "Syntax\n",
    "=\n",
    "Assign value of right side of expression to left side operand\tx = y + z \n",
    "\n",
    "+=\n",
    "Add and Assign: Add right side operand with left side operand and then assign to left operand\ta += b   \n",
    "\n",
    "-=\n",
    "Subtract AND: Subtract right operand from left operand and then assign to left operand: True if both operands are equal\ta -= b  \n",
    "\n",
    "*=\n",
    "Multiply AND: Multiply right operand with left operand and then assign to left operand\ta *= b     \n",
    "\n",
    "/=\n",
    "Divide AND: Divide left operand with right operand and then assign to left operand\ta /= b\n",
    "\n",
    "%=\n",
    "Modulus AND: Takes modulus using left and right operands and assign result to left operand\ta %= b  \n",
    "\n",
    "//=\n",
    "Divide(floor) AND: Divide left operand with right operand and then assign the value(floor) to left operand\ta //= b   \n",
    "\n",
    "**=\n",
    "Exponent AND: Calculate exponent(raise power) value using operands and assign value to left operand\ta **= b     \n",
    "\n",
    "&=\n",
    "Performs Bitwise AND on operands and assign value to left operand\ta &= b   \n",
    "\n",
    "|=\n",
    "Performs Bitwise OR on operands and assign value to left operand\ta |= b    \n",
    "\n",
    "^=\n",
    "Performs Bitwise xOR on operands and assign value to left operand\ta ^= b    \n",
    "\n",
    ">>=\n",
    "Performs Bitwise right shift on operands and assign value to left operand\ta >>= b     \n",
    "\n",
    "<<=\n",
    "Performs Bitwise left shift on operands and assign value to left operand\ta <<= b \n",
    "\n",
    "'''"
   ]
  },
  {
   "cell_type": "code",
   "execution_count": 72,
   "id": "7cc97001",
   "metadata": {},
   "outputs": [
    {
     "data": {
      "text/plain": [
       "30"
      ]
     },
     "execution_count": 72,
     "metadata": {},
     "output_type": "execute_result"
    }
   ],
   "source": [
    "x=10\n",
    "x+=20\n",
    "x"
   ]
  },
  {
   "cell_type": "code",
   "execution_count": 73,
   "id": "7c7ec42c",
   "metadata": {},
   "outputs": [
    {
     "data": {
      "text/plain": [
       "50"
      ]
     },
     "execution_count": 73,
     "metadata": {},
     "output_type": "execute_result"
    }
   ],
   "source": [
    "x = 101\n",
    "x//=2\n",
    "x"
   ]
  },
  {
   "cell_type": "markdown",
   "id": "dc6f21bb",
   "metadata": {},
   "source": [
    "## 6.Ternary"
   ]
  },
  {
   "cell_type": "code",
   "execution_count": 74,
   "id": "ac3b104f",
   "metadata": {},
   "outputs": [],
   "source": [
    "# ~a - unary opertor\n",
    "# a+b - binary operator\n",
    "# 3 arguments - ternary operator"
   ]
  },
  {
   "cell_type": "code",
   "execution_count": 77,
   "id": "9c80b7d6",
   "metadata": {},
   "outputs": [
    {
     "name": "stdout",
     "output_type": "stream",
     "text": [
      "50\n"
     ]
    }
   ],
   "source": [
    "a=10\n",
    "b=20\n",
    "c=40 if a>b else 50\n",
    "print(c)"
   ]
  },
  {
   "cell_type": "markdown",
   "id": "a32726d9",
   "metadata": {},
   "source": [
    "## 7.Identity"
   ]
  },
  {
   "cell_type": "code",
   "execution_count": 78,
   "id": "1a6c2a0a",
   "metadata": {},
   "outputs": [],
   "source": [
    "#is , is not\n",
    "\n",
    "#r1 is r2 - True , if both references are pointing to the same object\n",
    "#r1 is not r2 - True , if both references are not pointing to the same object "
   ]
  },
  {
   "cell_type": "code",
   "execution_count": 79,
   "id": "4a117c53",
   "metadata": {},
   "outputs": [
    {
     "data": {
      "text/plain": [
       "True"
      ]
     },
     "execution_count": 79,
     "metadata": {},
     "output_type": "execute_result"
    }
   ],
   "source": [
    "a=10\n",
    "b=10\n",
    "a is b"
   ]
  },
  {
   "cell_type": "code",
   "execution_count": 80,
   "id": "54bf23b0",
   "metadata": {},
   "outputs": [
    {
     "data": {
      "text/plain": [
       "(2142140918352, 2142140918352)"
      ]
     },
     "execution_count": 80,
     "metadata": {},
     "output_type": "execute_result"
    }
   ],
   "source": [
    "id(a),id(b)"
   ]
  },
  {
   "cell_type": "code",
   "execution_count": 81,
   "id": "2bcf201d",
   "metadata": {},
   "outputs": [
    {
     "data": {
      "text/plain": [
       "(2142227559872, 2142256305920)"
      ]
     },
     "execution_count": 81,
     "metadata": {},
     "output_type": "execute_result"
    }
   ],
   "source": [
    "l1 = [1,2,3]\n",
    "l2 =[1,2,3]\n",
    "id(l1),id(l2)"
   ]
  },
  {
   "cell_type": "code",
   "execution_count": 82,
   "id": "80238182",
   "metadata": {},
   "outputs": [
    {
     "data": {
      "text/plain": [
       "False"
      ]
     },
     "execution_count": 82,
     "metadata": {},
     "output_type": "execute_result"
    }
   ],
   "source": [
    "l1 is l2"
   ]
  },
  {
   "cell_type": "code",
   "execution_count": 83,
   "id": "65df2ddc",
   "metadata": {},
   "outputs": [
    {
     "data": {
      "text/plain": [
       "True"
      ]
     },
     "execution_count": 83,
     "metadata": {},
     "output_type": "execute_result"
    }
   ],
   "source": [
    "l1 ==l2"
   ]
  },
  {
   "cell_type": "markdown",
   "id": "4dc6c015",
   "metadata": {},
   "source": [
    "## 'is' vs '=='"
   ]
  },
  {
   "cell_type": "code",
   "execution_count": 84,
   "id": "b351e5a8",
   "metadata": {},
   "outputs": [],
   "source": [
    "#r1 is r2 - True , if both references are pointing to the same object\n",
    "#r1 == r2 - True , if both have same content"
   ]
  },
  {
   "cell_type": "code",
   "execution_count": 85,
   "id": "de50229b",
   "metadata": {},
   "outputs": [
    {
     "data": {
      "text/plain": [
       "(2142256405440, 2142256142784)"
      ]
     },
     "execution_count": 85,
     "metadata": {},
     "output_type": "execute_result"
    }
   ],
   "source": [
    "l1 = [1,2,3]\n",
    "l2 =[1,2,3]\n",
    "id(l1),id(l2)"
   ]
  },
  {
   "cell_type": "code",
   "execution_count": 86,
   "id": "8c53d9c0",
   "metadata": {},
   "outputs": [],
   "source": [
    "l3 =l1"
   ]
  },
  {
   "cell_type": "code",
   "execution_count": 87,
   "id": "11d08117",
   "metadata": {},
   "outputs": [
    {
     "data": {
      "text/plain": [
       "2142256405440"
      ]
     },
     "execution_count": 87,
     "metadata": {},
     "output_type": "execute_result"
    }
   ],
   "source": [
    "id(l3)"
   ]
  },
  {
   "cell_type": "code",
   "execution_count": 88,
   "id": "017c8339",
   "metadata": {},
   "outputs": [
    {
     "data": {
      "text/plain": [
       "False"
      ]
     },
     "execution_count": 88,
     "metadata": {},
     "output_type": "execute_result"
    }
   ],
   "source": [
    "l1 is l2"
   ]
  },
  {
   "cell_type": "code",
   "execution_count": 89,
   "id": "97642488",
   "metadata": {},
   "outputs": [
    {
     "data": {
      "text/plain": [
       "True"
      ]
     },
     "execution_count": 89,
     "metadata": {},
     "output_type": "execute_result"
    }
   ],
   "source": [
    "l1==l2"
   ]
  },
  {
   "cell_type": "code",
   "execution_count": 90,
   "id": "a108f493",
   "metadata": {},
   "outputs": [
    {
     "data": {
      "text/plain": [
       "True"
      ]
     },
     "execution_count": 90,
     "metadata": {},
     "output_type": "execute_result"
    }
   ],
   "source": [
    "l1 is l3"
   ]
  },
  {
   "cell_type": "code",
   "execution_count": 91,
   "id": "bc3cac85",
   "metadata": {},
   "outputs": [
    {
     "data": {
      "text/plain": [
       "True"
      ]
     },
     "execution_count": 91,
     "metadata": {},
     "output_type": "execute_result"
    }
   ],
   "source": [
    "l1==l3"
   ]
  },
  {
   "cell_type": "markdown",
   "id": "f6af8e97",
   "metadata": {},
   "source": [
    "## 8.Membership"
   ]
  },
  {
   "cell_type": "code",
   "execution_count": 92,
   "id": "6f17cb33",
   "metadata": {},
   "outputs": [],
   "source": [
    "# in, not in\n",
    "#a in sequence- True , if a is a member of the sequence\n",
    "#a not in sequence- True , if a is not a member of the sequence"
   ]
  },
  {
   "cell_type": "code",
   "execution_count": 93,
   "id": "b04e513c",
   "metadata": {},
   "outputs": [
    {
     "name": "stdout",
     "output_type": "stream",
     "text": [
      "True\n"
     ]
    }
   ],
   "source": [
    "s = 'learning python'\n",
    "print('n' in s)"
   ]
  },
  {
   "cell_type": "code",
   "execution_count": 94,
   "id": "0f82e098",
   "metadata": {},
   "outputs": [
    {
     "name": "stdout",
     "output_type": "stream",
     "text": [
      "False\n"
     ]
    }
   ],
   "source": [
    "print('z' in s)"
   ]
  },
  {
   "cell_type": "markdown",
   "id": "fea06c2a",
   "metadata": {},
   "source": [
    "## Operator precedence in python"
   ]
  },
  {
   "cell_type": "code",
   "execution_count": 92,
   "id": "c41f0fb7",
   "metadata": {},
   "outputs": [
    {
     "data": {
      "text/plain": [
       "'\\nPython follows the PEMDAS rule for operator precedence, which stands for \\nParentheses, Exponents, Multiplication and Division, and Addition and Subtraction. \\nThis means that operators in the same group are evaluated from left to right, \\nexcept for the exponentiation operator **, which is evaluated from right to left. \\n\\nFor example, 2 * 3 / 4 is evaluated as (2 * 3) / 4, not as 2 * (3 / 4), \\nbut 2 ** 3 ** 4 is evaluated as 2 ** (3 ** 4), not as (2 ** 3) ** 4.\\n'"
      ]
     },
     "execution_count": 92,
     "metadata": {},
     "output_type": "execute_result"
    }
   ],
   "source": [
    "'''\n",
    "Python follows the PEMDAS rule for operator precedence, which stands for \n",
    "Parentheses, Exponents, Multiplication and Division, and Addition and Subtraction. \n",
    "This means that operators in the same group are evaluated from left to right, \n",
    "except for the exponentiation operator **, which is evaluated from right to left. \n",
    "\n",
    "For example, 2 * 3 / 4 is evaluated as (2 * 3) / 4, not as 2 * (3 / 4), \n",
    "but 2 ** 3 ** 4 is evaluated as 2 ** (3 ** 4), not as (2 ** 3) ** 4.\n",
    "'''"
   ]
  },
  {
   "cell_type": "code",
   "execution_count": 95,
   "id": "8f0a3c67",
   "metadata": {},
   "outputs": [
    {
     "data": {
      "text/plain": [
       "1.5"
      ]
     },
     "execution_count": 95,
     "metadata": {},
     "output_type": "execute_result"
    }
   ],
   "source": [
    " 2 * 3 / 4 "
   ]
  },
  {
   "cell_type": "code",
   "execution_count": 96,
   "id": "f1340b74",
   "metadata": {},
   "outputs": [
    {
     "data": {
      "text/plain": [
       "2417851639229258349412352"
      ]
     },
     "execution_count": 96,
     "metadata": {},
     "output_type": "execute_result"
    }
   ],
   "source": [
    "2 ** 3 ** 4"
   ]
  },
  {
   "cell_type": "code",
   "execution_count": 97,
   "id": "efb1f0c4",
   "metadata": {},
   "outputs": [
    {
     "data": {
      "text/plain": [
       "2417851639229258349412352"
      ]
     },
     "execution_count": 97,
     "metadata": {},
     "output_type": "execute_result"
    }
   ],
   "source": [
    "2 ** (3 ** 4)"
   ]
  },
  {
   "cell_type": "code",
   "execution_count": 98,
   "id": "054c48ce",
   "metadata": {},
   "outputs": [
    {
     "data": {
      "text/plain": [
       "'\\nOperator\\tDescription \\tExample \\tResult\\n\\n\\n() \\tParentheses\\t (3 + 4) * 2\\t14\\n**\\tExponentiation\\t 3 ** 2 \\t9\\n*, /, %, // \\tMultiplication, Division, Modulus, Floor division \\t4 * 3\\t12\\n+, - \\t Addition, Subtraction\\n'"
      ]
     },
     "execution_count": 98,
     "metadata": {},
     "output_type": "execute_result"
    }
   ],
   "source": [
    "'''\n",
    "Operator\tDescription \tExample \tResult\n",
    "\n",
    "\n",
    "() \tParentheses\t (3 + 4) * 2\t14\n",
    "**\tExponentiation\t 3 ** 2 \t9\n",
    "*, /, %, // \tMultiplication, Division, Modulus, Floor division \t4 * 3\t12\n",
    "+, - \t Addition, Subtraction\n",
    "'''"
   ]
  },
  {
   "cell_type": "code",
   "execution_count": 99,
   "id": "744aed55",
   "metadata": {},
   "outputs": [
    {
     "data": {
      "text/plain": [
       "519.0"
      ]
     },
     "execution_count": 99,
     "metadata": {},
     "output_type": "execute_result"
    }
   ],
   "source": [
    "3/2*4+3+(10/5)**3**2-2"
   ]
  },
  {
   "cell_type": "code",
   "execution_count": 95,
   "id": "af5b3cfb",
   "metadata": {},
   "outputs": [],
   "source": [
    "#3/2*4+3+(10/5)**3**2-2\n",
    "#3/2*4+3+2**3**2-2\n",
    "#3/2*4+3+2**(3**2)-2\n",
    "#3/2*4+3+(2**9)-2\n",
    "#(3/2)*4+3+512-2\n",
    "#(1.5*4)+3+512-2\n",
    "#6.0+3+512-2\n",
    "#519.0"
   ]
  },
  {
   "cell_type": "code",
   "execution_count": null,
   "id": "03b64641",
   "metadata": {},
   "outputs": [],
   "source": []
  },
  {
   "cell_type": "code",
   "execution_count": null,
   "id": "673f2f9d",
   "metadata": {},
   "outputs": [],
   "source": []
  },
  {
   "cell_type": "markdown",
   "id": "a4cdb185",
   "metadata": {},
   "source": [
    "# INPUT statements "
   ]
  },
  {
   "cell_type": "code",
   "execution_count": 101,
   "id": "04039291",
   "metadata": {},
   "outputs": [
    {
     "name": "stdout",
     "output_type": "stream",
     "text": [
      "enter ur name : ashis\n",
      "<class 'str'>\n"
     ]
    }
   ],
   "source": [
    "x = input(\"enter ur name : \")\n",
    "print(type(x))\n",
    "#return type is always string"
   ]
  },
  {
   "cell_type": "code",
   "execution_count": 102,
   "id": "ed27f7a6",
   "metadata": {},
   "outputs": [
    {
     "name": "stdout",
     "output_type": "stream",
     "text": [
      "enter  a number : 10.5\n"
     ]
    },
    {
     "ename": "ValueError",
     "evalue": "invalid literal for int() with base 10: '10.5'",
     "output_type": "error",
     "traceback": [
      "\u001b[1;31m---------------------------------------------------------------------------\u001b[0m",
      "\u001b[1;31mValueError\u001b[0m                                Traceback (most recent call last)",
      "Input \u001b[1;32mIn [102]\u001b[0m, in \u001b[0;36m<cell line: 1>\u001b[1;34m()\u001b[0m\n\u001b[1;32m----> 1\u001b[0m x\u001b[38;5;241m=\u001b[39m\u001b[38;5;28;43mint\u001b[39;49m\u001b[43m(\u001b[49m\u001b[38;5;28;43minput\u001b[39;49m\u001b[43m(\u001b[49m\u001b[38;5;124;43m\"\u001b[39;49m\u001b[38;5;124;43menter  a number : \u001b[39;49m\u001b[38;5;124;43m\"\u001b[39;49m\u001b[43m)\u001b[49m\u001b[43m)\u001b[49m\n\u001b[0;32m      2\u001b[0m \u001b[38;5;28mprint\u001b[39m(\u001b[38;5;28mtype\u001b[39m(x))\n",
      "\u001b[1;31mValueError\u001b[0m: invalid literal for int() with base 10: '10.5'"
     ]
    }
   ],
   "source": [
    "x=int(input(\"enter  a number : \"))\n",
    "print(type(x))"
   ]
  },
  {
   "cell_type": "code",
   "execution_count": 103,
   "id": "0d402e42",
   "metadata": {},
   "outputs": [
    {
     "name": "stdout",
     "output_type": "stream",
     "text": [
      "enter  a number : 10\n",
      "<class 'int'>\n"
     ]
    }
   ],
   "source": [
    "x=int(input(\"enter  a number : \"))\n",
    "print(type(x))"
   ]
  },
  {
   "cell_type": "code",
   "execution_count": 100,
   "id": "58e10c85",
   "metadata": {},
   "outputs": [
    {
     "name": "stdout",
     "output_type": "stream",
     "text": [
      "enter  a number20.5\n",
      "<class 'float'>\n"
     ]
    }
   ],
   "source": [
    "x=float(input(\"enter  a number\"))\n",
    "print(type(x))"
   ]
  },
  {
   "cell_type": "code",
   "execution_count": 104,
   "id": "d91e3ec4",
   "metadata": {},
   "outputs": [
    {
     "name": "stdout",
     "output_type": "stream",
     "text": [
      "enter something : ashis\n"
     ]
    },
    {
     "ename": "NameError",
     "evalue": "name 'ashis' is not defined",
     "output_type": "error",
     "traceback": [
      "\u001b[1;31m---------------------------------------------------------------------------\u001b[0m",
      "\u001b[1;31mNameError\u001b[0m                                 Traceback (most recent call last)",
      "Input \u001b[1;32mIn [104]\u001b[0m, in \u001b[0;36m<cell line: 1>\u001b[1;34m()\u001b[0m\n\u001b[1;32m----> 1\u001b[0m x\u001b[38;5;241m=\u001b[39m\u001b[38;5;28;43meval\u001b[39;49m\u001b[43m(\u001b[49m\u001b[38;5;28;43minput\u001b[39;49m\u001b[43m(\u001b[49m\u001b[38;5;124;43m\"\u001b[39;49m\u001b[38;5;124;43menter something : \u001b[39;49m\u001b[38;5;124;43m\"\u001b[39;49m\u001b[43m)\u001b[49m\u001b[43m)\u001b[49m\n\u001b[0;32m      2\u001b[0m \u001b[38;5;28mprint\u001b[39m(\u001b[38;5;28mtype\u001b[39m(x))\n",
      "File \u001b[1;32m<string>:1\u001b[0m, in \u001b[0;36m<module>\u001b[1;34m\u001b[0m\n",
      "\u001b[1;31mNameError\u001b[0m: name 'ashis' is not defined"
     ]
    }
   ],
   "source": [
    "x=eval(input(\"enter something : \"))\n",
    "print(type(x))"
   ]
  },
  {
   "cell_type": "code",
   "execution_count": 106,
   "id": "a8f79e49",
   "metadata": {},
   "outputs": [
    {
     "name": "stdout",
     "output_type": "stream",
     "text": [
      "enter something'ashis'\n",
      "<class 'str'>\n"
     ]
    }
   ],
   "source": [
    "x=eval(input(\"enter something\"))\n",
    "print(type(x))\n"
   ]
  },
  {
   "cell_type": "code",
   "execution_count": 128,
   "id": "0bf277b9",
   "metadata": {},
   "outputs": [
    {
     "name": "stdout",
     "output_type": "stream",
     "text": [
      "enter something10\n",
      "<class 'int'>\n"
     ]
    }
   ],
   "source": [
    "x=eval(input(\"enter something\"))\n",
    "print(type(x))\n"
   ]
  },
  {
   "cell_type": "code",
   "execution_count": 129,
   "id": "505eac32",
   "metadata": {},
   "outputs": [
    {
     "name": "stdout",
     "output_type": "stream",
     "text": [
      "enter something10.5\n",
      "<class 'float'>\n"
     ]
    }
   ],
   "source": [
    "x=eval(input(\"enter something\"))\n",
    "print(type(x))\n"
   ]
  },
  {
   "cell_type": "code",
   "execution_count": 130,
   "id": "1a92d1af",
   "metadata": {},
   "outputs": [
    {
     "name": "stdout",
     "output_type": "stream",
     "text": [
      "enter something[10.20]\n",
      "<class 'list'>\n"
     ]
    }
   ],
   "source": [
    "x=eval(input(\"enter something\"))\n",
    "print(type(x))\n"
   ]
  },
  {
   "cell_type": "code",
   "execution_count": null,
   "id": "ab970319",
   "metadata": {},
   "outputs": [],
   "source": []
  },
  {
   "cell_type": "code",
   "execution_count": 137,
   "id": "9d665c9e",
   "metadata": {},
   "outputs": [
    {
     "name": "stdout",
     "output_type": "stream",
     "text": [
      "enter 2 values10 20\n",
      "10 20\n",
      "30\n"
     ]
    }
   ],
   "source": [
    "a,b=[int(x) for x in input(\"enter 2 values\").split()]\n",
    "print(a,b)\n",
    "print(a+b)"
   ]
  },
  {
   "cell_type": "code",
   "execution_count": 139,
   "id": "451d684d",
   "metadata": {},
   "outputs": [
    {
     "data": {
      "text/plain": [
       "'C:\\\\Users\\\\sahua'"
      ]
     },
     "execution_count": 139,
     "metadata": {},
     "output_type": "execute_result"
    }
   ],
   "source": [
    "import os\n",
    "os.getcwd()"
   ]
  },
  {
   "cell_type": "markdown",
   "id": "6dae698a",
   "metadata": {},
   "source": [
    "# OUTPUT statements"
   ]
  },
  {
   "cell_type": "code",
   "execution_count": 107,
   "id": "578d571f",
   "metadata": {},
   "outputs": [
    {
     "name": "stdout",
     "output_type": "stream",
     "text": [
      "a,b,c = 1 2 3\n"
     ]
    }
   ],
   "source": [
    "a,b,c = 1,2,3\n",
    "print(\"a,b,c =\",a,b,c)"
   ]
  },
  {
   "cell_type": "code",
   "execution_count": 108,
   "id": "a37dba18",
   "metadata": {},
   "outputs": [
    {
     "name": "stdout",
     "output_type": "stream",
     "text": [
      "10,20,30\n",
      "10:20:30\n"
     ]
    }
   ],
   "source": [
    "#By default output values are seperated by space.If we want we can specify seperator by using \"sep\" attribute\n",
    "a,b,c=10,20,30 \n",
    "print(a,b,c,sep=',') \n",
    "print(a,b,c,sep=':') "
   ]
  },
  {
   "cell_type": "code",
   "execution_count": 109,
   "id": "d5075cdb",
   "metadata": {},
   "outputs": [
    {
     "name": "stdout",
     "output_type": "stream",
     "text": [
      "I am\n",
      "learning\n",
      "Python\n"
     ]
    }
   ],
   "source": [
    "#print() with end attribute\n",
    "print(\"I am\") \n",
    "print(\"learning\") \n",
    "print(\"Python\")"
   ]
  },
  {
   "cell_type": "code",
   "execution_count": 110,
   "id": "8170d0ca",
   "metadata": {},
   "outputs": [
    {
     "name": "stdout",
     "output_type": "stream",
     "text": [
      "I am learning Python\n"
     ]
    }
   ],
   "source": [
    "print(\"I am\",end=' ') \n",
    "print(\"learning\",end=' ') \n",
    "print(\"Python\")"
   ]
  },
  {
   "cell_type": "code",
   "execution_count": 111,
   "id": "5e9f9594",
   "metadata": {},
   "outputs": [
    {
     "name": "stdout",
     "output_type": "stream",
     "text": [
      "Hello Ashis Your Age is 33\n"
     ]
    }
   ],
   "source": [
    "#print(String, variable list)\n",
    "#We can use print() statement with String and any number of arguments.\n",
    "s = \"Ashis\" \n",
    "a = 33 \n",
    "print(\"Hello\",s,\"Your Age is\",a) "
   ]
  },
  {
   "cell_type": "markdown",
   "id": "f7d5928f",
   "metadata": {},
   "source": [
    "## : print (formatted string)\n",
    "    \n",
    "1) %i  int\n",
    "\n",
    "2) %d  int\n",
    "\n",
    "3) %f  float\n",
    "\n",
    "4) %s  String type\n",
    "\n",
    "Syntax: print(\"formatted string\" %(variable list))\n"
   ]
  },
  {
   "cell_type": "code",
   "execution_count": 112,
   "id": "61d1a57e",
   "metadata": {},
   "outputs": [
    {
     "name": "stdout",
     "output_type": "stream",
     "text": [
      "a value is 10\n",
      "b value is 20 and c value is 30\n"
     ]
    }
   ],
   "source": [
    "a=10 \n",
    "b=20 \n",
    "c=30 \n",
    "print(\"a value is %i\" %a) \n",
    "print(\"b value is %d and c value is %d\" %(b,c))"
   ]
  },
  {
   "cell_type": "markdown",
   "id": "ba4f43dd",
   "metadata": {},
   "source": [
    "## print() with replacement operator {}\n"
   ]
  },
  {
   "cell_type": "code",
   "execution_count": 113,
   "id": "35fbce27",
   "metadata": {},
   "outputs": [
    {
     "name": "stdout",
     "output_type": "stream",
     "text": [
      "Hello Ashis your salary is 10000 and Your Friend Sunny is waiting\n",
      "Hello Ashis your salary is 10000 and Your Friend Sunny is waiting\n"
     ]
    }
   ],
   "source": [
    "name = \"Ashis\" \n",
    "salary = 10000 \n",
    "gf = \"Sunny\" \n",
    "print(\"Hello {0} your salary is {1} and Your Friend {2} is waiting\".format(name,salary,gf)) \n",
    "print(\"Hello {x} your salary is {y} and Your Friend {z} is waiting\".format(x=name,y=salary,z=gf))"
   ]
  },
  {
   "cell_type": "code",
   "execution_count": 114,
   "id": "63263be8",
   "metadata": {},
   "outputs": [
    {
     "name": "stdout",
     "output_type": "stream",
     "text": [
      "Hello Ashis your salary is 10000 and Your Friend Sunny is waiting\n"
     ]
    }
   ],
   "source": [
    "print(\"Hello {} your salary is {} and Your Friend {} is waiting\".format(name,salary,gf)) "
   ]
  },
  {
   "cell_type": "code",
   "execution_count": null,
   "id": "3132b778",
   "metadata": {},
   "outputs": [],
   "source": []
  },
  {
   "cell_type": "code",
   "execution_count": null,
   "id": "3f37d655",
   "metadata": {},
   "outputs": [],
   "source": []
  }
 ],
 "metadata": {
  "kernelspec": {
   "display_name": "Python [conda env:base] *",
   "language": "python",
   "name": "conda-base-py"
  },
  "language_info": {
   "codemirror_mode": {
    "name": "ipython",
    "version": 3
   },
   "file_extension": ".py",
   "mimetype": "text/x-python",
   "name": "python",
   "nbconvert_exporter": "python",
   "pygments_lexer": "ipython3",
   "version": "3.12.7"
  }
 },
 "nbformat": 4,
 "nbformat_minor": 5
}
