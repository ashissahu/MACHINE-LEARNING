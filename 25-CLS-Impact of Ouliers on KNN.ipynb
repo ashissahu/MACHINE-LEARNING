{
 "cells": [
  {
   "cell_type": "code",
   "execution_count": 1,
   "id": "3afddbc7",
   "metadata": {},
   "outputs": [],
   "source": [
    "import numpy as np\n",
    "import pandas as pd\n",
    "import matplotlib.pyplot as plt\n",
    "from sklearn.datasets import make_blobs\n",
    "from sklearn.neighbors import LocalOutlierFactor"
   ]
  },
  {
   "cell_type": "code",
   "execution_count": 46,
   "id": "ae98980b",
   "metadata": {},
   "outputs": [],
   "source": [
    "#generating a dataset with 300 samples, 2 centres and 2 features\n",
    "X,y =make_blobs(n_samples=3000,centers=2,n_features=2,random_state=42,cluster_std=1.0)"
   ]
  },
  {
   "cell_type": "code",
   "execution_count": 47,
   "id": "5548f7fa",
   "metadata": {},
   "outputs": [
    {
     "data": {
      "text/plain": [
       "array([[-2.20537903,  9.73584863],\n",
       "       [ 5.03567768,  2.2367205 ],\n",
       "       [-2.70155859,  9.31583347],\n",
       "       ...,\n",
       "       [ 4.0117351 ,  2.07210347],\n",
       "       [ 3.79344453,  2.89884189],\n",
       "       [ 2.54957594,  1.80291144]])"
      ]
     },
     "execution_count": 47,
     "metadata": {},
     "output_type": "execute_result"
    }
   ],
   "source": [
    "X"
   ]
  },
  {
   "cell_type": "code",
   "execution_count": 48,
   "id": "dc6a8401",
   "metadata": {},
   "outputs": [
    {
     "data": {
      "text/plain": [
       "array([0, 1, 0, ..., 1, 1, 1])"
      ]
     },
     "execution_count": 48,
     "metadata": {},
     "output_type": "execute_result"
    }
   ],
   "source": [
    "y"
   ]
  },
  {
   "cell_type": "code",
   "execution_count": 49,
   "id": "19abc744",
   "metadata": {},
   "outputs": [
    {
     "data": {
      "text/plain": [
       "Text(0.5, 1.0, 'Synthetic data with 3 clusters')"
      ]
     },
     "execution_count": 49,
     "metadata": {},
     "output_type": "execute_result"
    },
    {
     "data": {
      "image/png": "[encoded data removed]",
      "text/plain": [
       "<Figure size 432x288 with 1 Axes>"
      ]
     },
     "metadata": {
      "needs_background": "light"
     },
     "output_type": "display_data"
    }
   ],
   "source": [
    "plt.scatter(X[:,0],X[:,1],c=y,cmap='viridis',s=50)\n",
    "plt.title(\"Synthetic data with 3 clusters\")"
   ]
  },
  {
   "cell_type": "code",
   "execution_count": 50,
   "id": "59e78004",
   "metadata": {},
   "outputs": [],
   "source": [
    "from sklearn.neighbors import KNeighborsClassifier\n",
    "from sklearn.model_selection import train_test_split\n",
    "from sklearn.metrics import accuracy_score"
   ]
  },
  {
   "cell_type": "code",
   "execution_count": 51,
   "id": "9346abe9",
   "metadata": {},
   "outputs": [],
   "source": [
    "X_train,X_test,y_train,y_test=train_test_split(X,y,test_size=0.3,random_state=40)"
   ]
  },
  {
   "cell_type": "code",
   "execution_count": 52,
   "id": "bf03dc91",
   "metadata": {},
   "outputs": [
    {
     "data": {
      "text/plain": [
       "2100"
      ]
     },
     "execution_count": 52,
     "metadata": {},
     "output_type": "execute_result"
    }
   ],
   "source": [
    "len(X_train)"
   ]
  },
  {
   "cell_type": "code",
   "execution_count": 53,
   "id": "59bccd19",
   "metadata": {},
   "outputs": [],
   "source": [
    "knn_clean=KNeighborsClassifier(n_neighbors=5)\n",
    "knn_clean.fit(X_train,y_train)\n",
    "y_pred_clean=knn_clean.predict(X_test)"
   ]
  },
  {
   "cell_type": "code",
   "execution_count": 54,
   "id": "5ecc2948",
   "metadata": {},
   "outputs": [
    {
     "data": {
      "text/plain": [
       "1.0"
      ]
     },
     "execution_count": 54,
     "metadata": {},
     "output_type": "execute_result"
    }
   ],
   "source": [
    "accuracy_clean=accuracy_score(y_test,y_pred_clean)\n",
    "accuracy_clean"
   ]
  },
  {
   "cell_type": "code",
   "execution_count": 56,
   "id": "c105853f",
   "metadata": {},
   "outputs": [],
   "source": [
    "#Introduce some outliers in my data\n",
    "np.random.seed(42)\n",
    "n_outliers=500\n",
    "X_outliers=np.random.uniform(low=-10,high=10,size=(n_outliers,2))"
   ]
  },
  {
   "cell_type": "code",
   "execution_count": 57,
   "id": "74e846ff",
   "metadata": {},
   "outputs": [
    {
     "data": {
      "text/plain": [
       "array([[-2.50919762,  9.01428613],\n",
       "       [ 4.63987884,  1.97316968],\n",
       "       [-6.87962719, -6.88010959],\n",
       "       [-8.83832776,  7.32352292],\n",
       "       [ 2.02230023,  4.16145156],\n",
       "       [-9.58831011,  9.39819704],\n",
       "       [ 6.64885282, -5.75321779],\n",
       "       [-6.36350066, -6.3319098 ],\n",
       "       [-3.91515514,  0.49512863],\n",
       "       [-1.36109963, -4.1754172 ],\n",
       "       [ 2.23705789, -7.21012279],\n",
       "       [-4.15710703, -2.67276313],\n",
       "       [-0.87860032,  5.70351923],\n",
       "       [-6.00652436,  0.28468877],\n",
       "       [ 1.84829138, -9.07099175],\n",
       "       [ 2.15089704, -6.58951753],\n",
       "       [-8.69896814,  8.97771075],\n",
       "       [ 9.31264066,  6.16794696],\n",
       "       [-3.90772462, -8.04655772],\n",
       "       [ 3.68466053, -1.19695013],\n",
       "       [-7.5592353 , -0.0964618 ],\n",
       "       [-9.31222958,  8.18640804],\n",
       "       [-4.82440037,  3.25044569],\n",
       "       [-3.76577848,  0.40136042],\n",
       "       [ 0.93420559, -6.30291089],\n",
       "       [ 9.39169256,  5.50265647],\n",
       "       [ 8.78997883,  7.89654701],\n",
       "       [ 1.95799958,  8.4374847 ],\n",
       "       [-8.23014996, -6.08034275],\n",
       "       [-9.09545422, -3.49339338],\n",
       "       [-2.22645421, -4.57301936],\n",
       "       [ 6.57475018, -2.86493347],\n",
       "       [-4.38130981,  0.85392166],\n",
       "       [-7.1815155 ,  6.04393962],\n",
       "       [-8.50898713,  9.73773873],\n",
       "       [ 5.44489539, -6.02568637],\n",
       "       [-9.88955766,  6.30922857],\n",
       "       [ 4.13714688,  4.58014336],\n",
       "       [ 5.42540693, -8.51910697],\n",
       "       [-2.83068543, -7.68261881],\n",
       "       [ 7.26206852,  2.46596254],\n",
       "       [-3.3820395 , -8.72883299],\n",
       "       [-3.78035357, -3.49633356],\n",
       "       [ 4.59212357,  2.75114943],\n",
       "       [ 7.74425485, -0.5557015 ],\n",
       "       [-7.60811508,  4.26489574],\n",
       "       [ 5.21570097,  1.22554395],\n",
       "       [ 5.4193436 , -0.12408807],\n",
       "       [ 0.45465659, -1.44917963],\n",
       "       [-9.49161747, -7.84217146],\n",
       "       [-9.37141629,  2.72820823],\n",
       "       [-3.71288038,  0.17141382],\n",
       "       [ 8.15132948, -5.01415542],\n",
       "       [-1.79234154,  5.11102277],\n",
       "       [-5.42403669, -8.4604018 ],\n",
       "       [-4.20497094, -6.77557425],\n",
       "       [ 8.59395305,  6.16240759],\n",
       "       [ 2.66807513,  7.4292118 ],\n",
       "       [ 6.07344154, -6.26859882],\n",
       "       [ 7.85117997,  0.78684484],\n",
       "       [ 6.1488031 ,  7.921826  ],\n",
       "       [-3.6399305 , -7.79896151],\n",
       "       [-5.44129675, -1.45784423],\n",
       "       [ 6.36029532,  7.21461167],\n",
       "       [-9.86095739,  0.21494605],\n",
       "       [-1.65177994, -5.55784379],\n",
       "       [-7.60269265, -3.24769657],\n",
       "       [ 8.85819408, -3.53594136],\n",
       "       [ 0.37581243,  4.06037918],\n",
       "       [-2.72740795,  9.43564165],\n",
       "       [ 9.2489459 , -4.96435408],\n",
       "       [-0.05502988, -3.9824338 ],\n",
       "       [-4.30319011, -9.26226105],\n",
       "       [ 2.19128668,  0.05358046],\n",
       "       [-8.97042498, -4.42707072],\n",
       "       [ 8.16531772, -5.20876219],\n",
       "       [-7.10210256, -0.21094479],\n",
       "       [ 9.71300908, -5.15889457],\n",
       "       [ 3.44271095,  5.23239231],\n",
       "       [-5.24724912,  4.56432697],\n",
       "       [-2.64433735,  2.64611661],\n",
       "       [ 2.67059422,  0.71549368],\n",
       "       [-8.1942046 ,  6.70604991],\n",
       "       [-3.5843987 , -6.26962979],\n",
       "       [-9.18449717,  1.81785886],\n",
       "       [ 3.55128724, -9.66824342],\n",
       "       [ 0.24186117, -5.4700845 ],\n",
       "       [ 2.90345581, -6.51267142],\n",
       "       [ 3.81875476, -2.26529307],\n",
       "       [ 8.73459977, -7.24958112],\n",
       "       [-3.17867298, -7.73052958],\n",
       "       [ 8.49387237,  7.54678707],\n",
       "       [-4.84116745,  3.19968092],\n",
       "       [ 6.344444  ,  1.10401623],\n",
       "       [ 0.59301157, -5.16295418],\n",
       "       [-8.13794464,  7.94431516],\n",
       "       [ 8.00836114,  2.66202915],\n",
       "       [-3.21940418, -3.01580851],\n",
       "       [ 4.51911358,  7.9422052 ],\n",
       "       [ 7.74172849,  5.59751092],\n",
       "       [ 2.84063292, -8.3172007 ],\n",
       "       [-6.76742572,  7.97108377],\n",
       "       [ 2.12858119, -9.81605897],\n",
       "       [-7.97056914,  3.27003538],\n",
       "       [-9.89876832, -6.78383897],\n",
       "       [ 0.97467579,  3.83790395],\n",
       "       [ 3.03922519, -5.51461381],\n",
       "       [ 4.24358443, -5.25501825],\n",
       "       [-3.49200604,  4.9298281 ],\n",
       "       [ 2.99265798,  6.98446821],\n",
       "       [ 3.15225785,  1.36617207],\n",
       "       [-8.12650464, -2.64568394],\n",
       "       [-4.69595265, -5.12020713],\n",
       "       [ 9.4602111 , -2.13804551],\n",
       "       [ 7.8409311 ,  2.62277252],\n",
       "       [ 5.89622607,  0.05274186],\n",
       "       [ 1.53807769, -0.14964612],\n",
       "       [-6.09514024,  4.44904231],\n",
       "       [-4.38455275, -9.51368067],\n",
       "       [ 2.90944592, -6.45778641],\n",
       "       [ 8.80917169,  9.07857154],\n",
       "       [ 8.2972878 , -2.59682599],\n",
       "       [-9.69086767,  8.56637125],\n",
       "       [-1.43631703,  9.33309638],\n",
       "       [ 9.27239954,  7.06018911],\n",
       "       [-4.11102216, -2.29804543],\n",
       "       [ 7.02273343, -3.6615599 ],\n",
       "       [-6.61014507,  1.13602525],\n",
       "       [ 8.72309548,  3.92059593],\n",
       "       [ 1.4012234 , -8.05647012],\n",
       "       [ 2.30014453,  9.801077  ],\n",
       "       [-7.1983197 ,  0.36659305],\n",
       "       [ 7.54746144,  4.81537236],\n",
       "       [ 3.94031482,  4.04968168],\n",
       "       [-2.81017698, -4.12816311],\n",
       "       [ 6.18722311,  6.20226789],\n",
       "       [ 7.34144637,  8.26481105],\n",
       "       [ 0.22684798,  0.03032589],\n",
       "       [ 5.96590358,  2.99927862],\n",
       "       [ 4.03933755,  5.91585339],\n",
       "       [ 7.80010684, -3.24009686],\n",
       "       [-2.48834095, -8.1203612 ],\n",
       "       [ 1.56560282, -9.28115452],\n",
       "       [-0.68803964,  0.85289269],\n",
       "       [-4.26917496,  1.81666521],\n",
       "       [-9.389995  , -9.25303623],\n",
       "       [ 6.45201121, -2.79618717],\n",
       "       [-7.45878975,  0.4448652 ],\n",
       "       [ 5.39987106, -5.68357945],\n",
       "       [ 2.45780952, -8.2930507 ],\n",
       "       [-8.96636558,  0.62709263],\n",
       "       [ 0.81270243,  2.74859803],\n",
       "       [ 4.52182667,  9.51704159],\n",
       "       [ 0.32600697, -3.54087054],\n",
       "       [ 5.9037239 , -4.58335497],\n",
       "       [-1.22057159, -8.43087237],\n",
       "       [-9.49298513,  9.25296829],\n",
       "       [ 6.71960241,  3.91948412],\n",
       "       [-1.82094111, -6.5341136 ],\n",
       "       [-6.87125915, -4.99514204],\n",
       "       [ 0.98453329,  4.29191845],\n",
       "       [ 3.20394753, -4.40132206],\n",
       "       [ 9.09730561,  4.75793833],\n",
       "       [ 1.08708105,  2.23441492],\n",
       "       [-1.60799875, -5.04538021],\n",
       "       [-2.88054643,  5.15692221],\n",
       "       [-9.71213023, -7.67854719],\n",
       "       [-9.07994716, -9.18542395],\n",
       "       [ 7.10921168,  4.07315719],\n",
       "       [-0.51652342, -8.04331679],\n",
       "       [-0.1676825 , -0.53056458],\n",
       "       [-6.5359626 , -1.32296702],\n",
       "       [-2.02990531,  2.31700196],\n",
       "       [ 2.70187302, -9.0939198 ],\n",
       "       [-2.50774771,  2.51719831],\n",
       "       [ 0.06272517,  7.12979682],\n",
       "       [ 3.17387263, -6.74131146],\n",
       "       [-8.58862505,  2.84838556],\n",
       "       [-9.46977379,  1.71551163],\n",
       "       [ 8.80460483,  1.50948356],\n",
       "       [-2.23660148,  2.86576437],\n",
       "       [-0.83494219,  0.91233579],\n",
       "       [ 8.82929618, -2.27794724],\n",
       "       [ 9.22381128,  8.10701284],\n",
       "       [-6.0841773 , -8.61277398],\n",
       "       [-7.98443997, -9.63556349],\n",
       "       [-8.11114078,  3.66013547],\n",
       "       [-8.57622703, -3.62048739],\n",
       "       [ 6.89750622, -9.53456129],\n",
       "       [ 6.28936965, -4.3629045 ],\n",
       "       [-7.63670345,  3.93474331],\n",
       "       [ 2.57885694,  7.54944027],\n",
       "       [ 4.70142088,  6.06961861],\n",
       "       [-4.35930855, -6.45120912],\n",
       "       [ 5.01229503,  6.13669479],\n",
       "       [ 9.81010284, -1.74764646],\n",
       "       [-2.55963828,  5.52825921],\n",
       "       [-3.18392919,  8.61514651],\n",
       "       [ 7.16825504, -1.42011945],\n",
       "       [ 5.01742136,  5.09085748],\n",
       "       [-7.93752262,  8.05105813],\n",
       "       [ 0.10504745,  6.52914932],\n",
       "       [-3.59900798,  7.91046457],\n",
       "       [-2.21596643, -9.78324697],\n",
       "       [ 8.10763953, -8.17426646],\n",
       "       [-3.61372725,  9.00123934],\n",
       "       [ 9.01214294,  1.46875776],\n",
       "       [ 2.63674424, -1.03108956],\n",
       "       [-4.13578457, -3.42670909],\n",
       "       [ 3.45036912,  5.04749059],\n",
       "       [ 5.83158087,  5.79236286],\n",
       "       [-8.17587794, -0.11159391],\n",
       "       [-8.8488248 ,  0.99057765],\n",
       "       [-1.16938997,  7.75408366],\n",
       "       [-2.98169975, -7.65865967],\n",
       "       [-7.14016636,  5.23021263],\n",
       "       [ 2.36436127, -7.97754648],\n",
       "       [-8.31786388,  4.01938263],\n",
       "       [-8.54473987,  6.43720119],\n",
       "       [ 4.12484454, -8.37302439],\n",
       "       [-8.30324572,  9.73279157],\n",
       "       [-2.51458408, -2.58715706],\n",
       "       [ 6.25599135,  8.94497155],\n",
       "       [ 9.72002128,  5.06756371],\n",
       "       [-2.47480829, -8.32998567],\n",
       "       [ 5.54293832,  1.16808499],\n",
       "       [-1.51555982,  8.1270877 ],\n",
       "       [-7.77605035, -0.14749791],\n",
       "       [-9.7729271 , -0.62678716],\n",
       "       [-8.87393449, -7.62364167],\n",
       "       [-7.64947506,  2.98420604],\n",
       "       [ 4.92089759,  1.6673753 ],\n",
       "       [ 9.24345097, -2.50258841],\n",
       "       [-4.28575827,  7.37198256],\n",
       "       [-5.52808323,  9.26445079],\n",
       "       [-9.75691051,  9.39757653],\n",
       "       [-9.13680176,  7.82286227],\n",
       "       [ 0.55402218,  9.85929592],\n",
       "       [-8.52406871,  1.07708569],\n",
       "       [ 9.38605071,  0.46195688],\n",
       "       [ 2.58797276,  3.91497378],\n",
       "       [-0.9091787 ,  2.5511616 ],\n",
       "       [ 1.68628624,  8.02316021],\n",
       "       [-9.09107239, -4.38073621],\n",
       "       [ 9.00822968,  7.80527568],\n",
       "       [-0.88686494,  2.40265196],\n",
       "       [-4.45237634, -6.23757681],\n",
       "       [-0.7260319 , -2.93295544],\n",
       "       [ 1.67312224, -8.44530726],\n",
       "       [ 9.48789615,  9.72421489],\n",
       "       [ 3.96323428,  0.72192733],\n",
       "       [-3.80944767,  6.27590039],\n",
       "       [ 3.69462345, -6.74766121],\n",
       "       [ 8.21854369,  6.45074486],\n",
       "       [ 8.99599827,  4.51439017],\n",
       "       [ 2.26830392, -1.63513927],\n",
       "       [ 8.65456967,  7.32127779],\n",
       "       [-9.0956266 , -9.47266051],\n",
       "       [-2.47073266,  6.21106662],\n",
       "       [ 9.74552259, -6.99166218],\n",
       "       [ 1.88261431, -2.38218287],\n",
       "       [ 9.39828796,  6.84237846],\n",
       "       [ 6.76657409, -0.6261368 ],\n",
       "       [-1.70360995, -4.53185856],\n",
       "       [-8.87249007,  7.29444753],\n",
       "       [ 6.25802018,  9.99435347],\n",
       "       [ 9.93273674,  1.10863411],\n",
       "       [ 5.3797483 ,  8.8953146 ],\n",
       "       [ 6.99294781, -5.05303797],\n",
       "       [-0.98911729, -7.4168117 ],\n",
       "       [ 9.08102055,  2.12349269],\n",
       "       [-5.42714389,  3.43401369],\n",
       "       [ 2.36256481, -2.83674564],\n",
       "       [-7.72884816,  3.43146391],\n",
       "       [ 0.40615402,  5.44636783],\n",
       "       [ 0.40327002,  7.04363001],\n",
       "       [ 1.03813678,  1.21875943],\n",
       "       [ 7.53307205, -1.93034268],\n",
       "       [-7.31969543, -9.42434647],\n",
       "       [ 5.10274511,  2.40619103],\n",
       "       [ 4.08159536, -5.74071677],\n",
       "       [-7.27257049, -9.70910669],\n",
       "       [-2.98824882,  1.79835374],\n",
       "       [-2.1551191 , -1.25050156],\n",
       "       [ 8.08317389, -3.03489066],\n",
       "       [ 0.27978978,  5.67306025],\n",
       "       [-2.06914435,  2.441734  ],\n",
       "       [ 7.24727417,  8.99041247],\n",
       "       [-7.05853038,  8.5317525 ],\n",
       "       [-0.15767414, -4.83511223],\n",
       "       [-0.81728488,  9.60065151],\n",
       "       [-0.14763812, -3.42496779],\n",
       "       [ 2.66801709, -5.19708762],\n",
       "       [-8.48273344, -7.42240556],\n",
       "       [-7.43908322, -6.96194613],\n",
       "       [-7.22345655,  2.8174949 ],\n",
       "       [-6.36239831, -3.08665433],\n",
       "       [ 7.9357682 , -0.52076719],\n",
       "       [ 3.35115477, -6.55360258],\n",
       "       [-6.15421962, -9.18262767],\n",
       "       [-6.62129874, -4.42819322],\n",
       "       [-6.45979031, -8.22594932],\n",
       "       [-7.58728258, -0.78442464],\n",
       "       [-5.87332563, -2.71460278],\n",
       "       [ 0.06834542,  3.80789657],\n",
       "       [-9.2137572 ,  5.98820798],\n",
       "       [ 2.55800779, -8.36481936],\n",
       "       [ 7.47157248,  8.41744801],\n",
       "       [-8.7784408 , -4.46244704],\n",
       "       [ 6.1240256 ,  4.96519381],\n",
       "       [-6.30957961, -5.81301353],\n",
       "       [-2.59055794, -0.3095403 ],\n",
       "       [ 2.36509543, -2.62172721],\n",
       "       [-0.74930568,  4.94941876],\n",
       "       [-9.26633594, -4.95126111],\n",
       "       [ 4.26699172,  7.90413675],\n",
       "       [ 0.23354884,  0.64226971],\n",
       "       [-7.85655977, -1.05175266],\n",
       "       [ 0.65234533, -5.15058993],\n",
       "       [-4.61513538, -2.45431674],\n",
       "       [-9.59857604, -3.55841669],\n",
       "       [-5.77103986, -3.45005296],\n",
       "       [-7.60475736,  7.81054561],\n",
       "       [ 1.87184907,  3.58204638],\n",
       "       [ 5.78342477, -0.03115602],\n",
       "       [-8.26159424,  0.74213084],\n",
       "       [ 1.73682236,  4.90878948],\n",
       "       [-1.36680908, -7.44839394],\n",
       "       [-4.32448188, -2.73835407],\n",
       "       [ 2.91834483,  1.41556609],\n",
       "       [-2.87806548,  9.73030498],\n",
       "       [ 2.11549639, -5.25546417],\n",
       "       [-7.96435055, -6.94281722],\n",
       "       [-5.08084543, -6.78637253],\n",
       "       [-6.26865952, -4.29809663],\n",
       "       [-6.53252809,  7.93530849],\n",
       "       [-8.39532509,  0.49022779],\n",
       "       [-1.79206346,  9.64757234],\n",
       "       [-7.75922196, -2.04288802],\n",
       "       [ 9.38940867,  7.31014252],\n",
       "       [ 6.34144142, -4.84194346],\n",
       "       [-6.58224825,  3.3728644 ],\n",
       "       [ 8.58751978,  1.13525786],\n",
       "       [ 1.43225379, -4.40041813],\n",
       "       [ 5.38985866, -6.25912503],\n",
       "       [-3.52641527, -1.49127123],\n",
       "       [ 0.15220757, -5.15180535],\n",
       "       [-7.70326351,  2.21240085],\n",
       "       [-4.22738894,  1.62476443],\n",
       "       [-6.91274569, -0.37719796],\n",
       "       [ 0.65178865, -8.96352926],\n",
       "       [-3.26791444, -7.31170646],\n",
       "       [-8.73250059,  9.79920465],\n",
       "       [-3.5529231 ,  6.19748892],\n",
       "       [-4.9071869 ,  3.63005444],\n",
       "       [ 5.2045572 ,  1.91277481],\n",
       "       [-0.56847623, -1.76318172],\n",
       "       [-3.02263467,  8.59058288],\n",
       "       [ 6.61238816,  9.30053821],\n",
       "       [-7.51405553,  4.6173495 ],\n",
       "       [ 8.76680914, -6.37533868],\n",
       "       [-8.67007465,  4.82241299],\n",
       "       [ 1.48946226,  6.83657554],\n",
       "       [-7.20455247,  5.90534624],\n",
       "       [-5.9674536 , -6.72688114],\n",
       "       [-6.71468404,  6.2914944 ],\n",
       "       [ 3.30394441,  0.4613085 ],\n",
       "       [-2.82339032,  7.54401082],\n",
       "       [-2.15109785,  6.33198879],\n",
       "       [-1.21730183, -2.46111141],\n",
       "       [-0.74640429, -3.97244252],\n",
       "       [ 4.9521876 ,  0.0544078 ],\n",
       "       [-5.3557461 ,  7.99149147],\n",
       "       [-2.32217557,  0.87105722],\n",
       "       [ 8.12944222,  2.48475992],\n",
       "       [-7.66203919,  8.79664247],\n",
       "       [ 2.55416106, -3.30188771],\n",
       "       [-7.21455855,  5.88050379],\n",
       "       [ 2.40145512,  0.66922184],\n",
       "       [ 7.87785166,  5.77194422],\n",
       "       [-6.96650241, -3.76555864],\n",
       "       [-5.0302172 ,  4.87892585],\n",
       "       [-9.32935131,  1.3977937 ],\n",
       "       [ 5.24917371,  7.53531274],\n",
       "       [-3.15836503,  6.42514609],\n",
       "       [-7.78736526,  6.92904583],\n",
       "       [-7.45022675, -2.05425419],\n",
       "       [ 5.94590732, -7.00165145],\n",
       "       [-5.4149721 ,  4.44505137],\n",
       "       [ 4.40073073,  2.82295266],\n",
       "       [ 3.87896889,  0.85448887],\n",
       "       [-4.96401882, -3.08608013],\n",
       "       [-6.36804566,  8.16901123],\n",
       "       [ 1.6678359 , -1.98297166],\n",
       "       [-0.75988393,  8.94566679],\n",
       "       [-6.93297194,  1.72459664],\n",
       "       [ 0.11777358,  2.22908471],\n",
       "       [-9.63779632,  7.44247818],\n",
       "       [ 8.64236565,  1.30266367],\n",
       "       [ 3.93301648,  8.44998762],\n",
       "       [ 4.14477269, -6.94921914],\n",
       "       [ 1.5257672 ,  2.13430093],\n",
       "       [-1.51738657,  4.72888471],\n",
       "       [ 8.6873403 ,  8.51137026],\n",
       "       [-0.98321257, -7.73523908],\n",
       "       [ 9.69682398,  6.77796173],\n",
       "       [-7.50674638,  8.41683765],\n",
       "       [ 7.39792724,  0.37676114],\n",
       "       [ 1.82550871, -2.01994592],\n",
       "       [-8.90476722, -3.29605517],\n",
       "       [ 6.05706897, -9.90735954],\n",
       "       [-3.33001657, -2.03662613],\n",
       "       [ 0.74791206,  8.39711233],\n",
       "       [-3.07308011, -3.06093596],\n",
       "       [ 4.75002496, -0.95564118],\n",
       "       [-5.50790354, -0.95120968],\n",
       "       [-7.18285959, -6.47226027],\n",
       "       [-0.03264455, -1.62149101],\n",
       "       [ 8.29691802, -2.75212202],\n",
       "       [ 1.61176701,  2.64528576],\n",
       "       [-9.73811087,  3.27074744],\n",
       "       [-6.43928066,  9.22140635],\n",
       "       [-7.02674544, -1.70751753],\n",
       "       [-8.29300664,  9.93748504],\n",
       "       [ 0.04390021,  1.90770035],\n",
       "       [-8.65847045,  4.99920941],\n",
       "       [-5.80188814,  7.96108579],\n",
       "       [-5.89720719, -6.18624559],\n",
       "       [-9.26900664, -0.5586611 ],\n",
       "       [ 1.29682267, -8.68582721],\n",
       "       [ 5.51055233, -0.93422331],\n",
       "       [ 0.48780539, -1.18474506],\n",
       "       [-1.98473878,  1.19280663],\n",
       "       [-6.89519508, -6.36143739],\n",
       "       [ 7.23571242,  8.92230924],\n",
       "       [-2.53381367, -4.58510654],\n",
       "       [ 2.87999086, -1.82531658],\n",
       "       [-9.49227289, -6.87694805],\n",
       "       [ 4.31944458,  3.17847884],\n",
       "       [-9.45808015, -5.56055676],\n",
       "       [-5.37850407,  3.43785487],\n",
       "       [-9.60578924, -7.91782836],\n",
       "       [ 5.99832171, -6.42910676],\n",
       "       [ 3.05492216, -5.23634438],\n",
       "       [-8.01117214, -5.13655618],\n",
       "       [ 4.44533864,  7.11392936],\n",
       "       [ 6.60439729, -2.05632941],\n",
       "       [ 3.36170273, -5.90031409],\n",
       "       [-4.13704539,  7.92671637],\n",
       "       [-9.73996153, -8.28982938],\n",
       "       [-5.8422749 , -9.46935592],\n",
       "       [-6.3712913 ,  1.66083122],\n",
       "       [-1.57150899,  7.85343422],\n",
       "       [ 6.34887123, -3.16365297],\n",
       "       [-4.81153133, -2.40615184],\n",
       "       [ 1.80589885, -4.63872718],\n",
       "       [ 2.48297816, -1.81176696],\n",
       "       [ 1.04094362, -1.27746942],\n",
       "       [-4.11068481,  8.96906614],\n",
       "       [ 5.27211588, -7.19773648],\n",
       "       [ 7.36935952, -0.25137604],\n",
       "       [ 7.89104454,  5.99710512],\n",
       "       [-1.49572991, -9.55061383],\n",
       "       [-4.62645281,  0.83268429],\n",
       "       [ 2.6695644 , -4.84224629],\n",
       "       [-7.21287852,  6.69860474],\n",
       "       [ 9.68804361,  0.51380365],\n",
       "       [-6.56641428, -4.55385347],\n",
       "       [-9.63218647,  8.28597613],\n",
       "       [-7.64497834,  1.53032951],\n",
       "       [-4.51889559,  1.08356005],\n",
       "       [ 3.02840777,  6.59483607],\n",
       "       [-5.87157456, -9.78008343],\n",
       "       [-7.2622874 ,  8.00037284],\n",
       "       [ 7.47780155,  1.94826204],\n",
       "       [ 2.01033721,  3.30073349],\n",
       "       [-6.49257443,  8.28823892],\n",
       "       [-1.6245895 , -2.33722944],\n",
       "       [ 0.37835411, -9.06068066],\n",
       "       [-6.67433262,  4.76067233],\n",
       "       [-8.34402664,  2.06304219],\n",
       "       [-5.09301781, -2.21408772],\n",
       "       [-4.22612526, -2.88654567],\n",
       "       [ 4.3809181 , -4.05756569],\n",
       "       [ 1.32809281, -0.47899196],\n",
       "       [ 3.27342331,  8.73659479],\n",
       "       [ 4.65144194, -5.70119243],\n",
       "       [-9.3763373 , -4.75471911],\n",
       "       [ 1.90155861, -8.97148373],\n",
       "       [-0.07267506,  1.93685698],\n",
       "       [-3.31512218,  5.41824407],\n",
       "       [-7.86803494, -8.49724437],\n",
       "       [ 4.56377512, -0.09017368],\n",
       "       [ 3.76804793, -1.30345323],\n",
       "       [-5.07195934,  6.38204635],\n",
       "       [ 5.98831758,  3.89392942],\n",
       "       [-4.55709726,  1.80461334],\n",
       "       [-2.78052206, -8.16835853],\n",
       "       [ 8.34627151, -7.26362738],\n",
       "       [ 9.00474708, -1.07988454]])"
      ]
     },
     "execution_count": 57,
     "metadata": {},
     "output_type": "execute_result"
    }
   ],
   "source": [
    "X_outliers"
   ]
  },
  {
   "cell_type": "code",
   "execution_count": 58,
   "id": "f8700dc7",
   "metadata": {},
   "outputs": [
    {
     "data": {
      "text/plain": [
       "array([0, 1, 1, 1, 1, 0, 1, 0, 0, 0, 0, 0, 1, 1, 1, 1, 0, 1, 0, 1, 0, 0,\n",
       "       1, 0, 0, 1, 0, 1, 1, 1, 0, 0, 0, 1, 0, 1, 1, 0, 1, 0, 0, 0, 0, 0,\n",
       "       1, 1, 1, 0, 0, 0, 1, 0, 1, 1, 0, 0, 1, 0, 1, 0, 0, 1, 0, 1, 0, 1,\n",
       "       1, 0, 1, 0, 0, 0, 1, 1, 0, 0, 1, 0, 0, 1, 0, 1, 0, 1, 0, 0, 1, 0,\n",
       "       1, 0, 1, 1, 1, 1, 0, 0, 1, 1, 1, 0, 0, 0, 0, 1, 1, 1, 0, 0, 0, 1,\n",
       "       1, 0, 1, 0, 0, 1, 0, 1, 0, 1, 1, 1, 0, 0, 1, 1, 0, 0, 0, 1, 0, 0,\n",
       "       1, 0, 0, 0, 1, 1, 1, 1, 1, 1, 1, 0, 0, 1, 0, 0, 1, 0, 0, 0, 0, 0,\n",
       "       1, 1, 1, 0, 1, 0, 0, 0, 0, 1, 1, 0, 1, 0, 1, 1, 0, 1, 0, 1, 0, 0,\n",
       "       1, 1, 0, 1, 1, 0, 0, 1, 0, 0, 0, 1, 1, 0, 1, 0, 1, 0, 0, 1, 0, 1,\n",
       "       1, 0, 0, 1, 0, 0, 0, 0, 0, 1, 1, 0, 0, 0, 1, 0, 1, 1, 1, 0, 1, 0,\n",
       "       1, 0, 1, 0, 1, 0, 0, 0, 0, 1, 1, 0, 1, 0, 0, 1, 0, 0, 1, 0, 0, 0,\n",
       "       0, 1, 1, 1, 0, 0, 1, 0, 0, 0, 0, 1, 1, 1, 0, 1, 1, 0, 0, 1, 1, 1,\n",
       "       1, 0, 1, 1, 0, 1, 0, 0, 0, 1, 1, 0, 1, 1, 0, 0, 1, 0, 1, 1, 1, 1,\n",
       "       0, 0, 0, 0, 1, 1, 0, 1, 1, 1, 0, 0, 0, 1, 0, 0, 0, 0, 0, 0, 1, 1,\n",
       "       0, 0, 1, 1, 0, 0, 0, 0, 1, 0, 0, 0, 0, 1, 1, 1, 0, 0, 1, 0, 0, 1,\n",
       "       1, 1, 1, 0, 0, 1, 0, 1, 1, 0, 1, 0, 0, 0, 0, 1, 0, 1, 1, 1, 1, 0,\n",
       "       0, 1, 1, 0, 1, 0, 1, 0, 1, 1, 0, 1, 1, 0, 1, 0, 0, 1, 1, 1, 1, 1,\n",
       "       1, 1, 0, 1, 0, 1, 1, 0, 1, 1, 0, 1, 1, 1, 0, 1, 1, 1, 1, 0, 0, 1,\n",
       "       1, 0, 0, 1, 0, 1, 0, 0, 0, 0, 1, 0, 0, 1, 0, 0, 1, 0, 1, 1, 1, 1,\n",
       "       0, 1, 0, 0, 0, 0, 0, 0, 0, 0, 0, 0, 1, 1, 1, 0, 1, 1, 1, 0, 0, 0,\n",
       "       0, 1, 1, 1, 1, 0, 0, 0, 1, 0, 0, 1, 1, 0, 0, 0, 0, 0, 0, 1, 1, 1,\n",
       "       0, 1, 0, 0, 1, 0, 0, 1, 1, 1, 0, 1, 1, 0, 1, 1, 1, 0, 0, 0, 0, 1,\n",
       "       0, 0, 1, 1, 1, 0, 0, 0, 1, 1, 0, 1, 1, 1, 0, 1])"
      ]
     },
     "execution_count": 58,
     "metadata": {},
     "output_type": "execute_result"
    }
   ],
   "source": [
    "y_outliers=np.random.choice([0,1],size=n_outliers)\n",
    "y_outliers"
   ]
  },
  {
   "cell_type": "code",
   "execution_count": 59,
   "id": "094d51c5",
   "metadata": {},
   "outputs": [
    {
     "data": {
      "text/plain": [
       "2600"
      ]
     },
     "execution_count": 59,
     "metadata": {},
     "output_type": "execute_result"
    }
   ],
   "source": [
    "X_train_outliers=np.vstack([X_train,X_outliers])\n",
    "len(X_train_outliers)"
   ]
  },
  {
   "cell_type": "code",
   "execution_count": 60,
   "id": "4e77b9f3",
   "metadata": {},
   "outputs": [
    {
     "data": {
      "text/plain": [
       "array([1, 0, 1, ..., 1, 0, 1])"
      ]
     },
     "execution_count": 60,
     "metadata": {},
     "output_type": "execute_result"
    }
   ],
   "source": [
    "y_train_outliers=np.hstack([y_train,y_outliers])\n",
    "y_train_outliers"
   ]
  },
  {
   "cell_type": "code",
   "execution_count": 61,
   "id": "2e08e8d0",
   "metadata": {},
   "outputs": [
    {
     "data": {
      "text/plain": [
       "2600"
      ]
     },
     "execution_count": 61,
     "metadata": {},
     "output_type": "execute_result"
    }
   ],
   "source": [
    "len(y_train_outliers)"
   ]
  },
  {
   "cell_type": "code",
   "execution_count": 62,
   "id": "844ad7bc",
   "metadata": {},
   "outputs": [
    {
     "data": {
      "text/plain": [
       "Text(0.5, 1.0, 'Synthetic data with 3 clusters withoutliers')"
      ]
     },
     "execution_count": 62,
     "metadata": {},
     "output_type": "execute_result"
    },
    {
     "data": {
      "image/png": "[encoded data removed]",
      "text/plain": [
       "<Figure size 432x288 with 1 Axes>"
      ]
     },
     "metadata": {
      "needs_background": "light"
     },
     "output_type": "display_data"
    }
   ],
   "source": [
    "plt.scatter(X_train_outliers[:,0],X_train_outliers[:,1],c=y_train_outliers,cmap='viridis',s=50)\n",
    "plt.title(\"Synthetic data with 3 clusters withoutliers\")"
   ]
  },
  {
   "cell_type": "code",
   "execution_count": 67,
   "id": "474f8f02",
   "metadata": {},
   "outputs": [],
   "source": [
    "#Train KNN on data with outliers\n",
    "knn_outliers=KNeighborsClassifier(n_neighbors=5)\n",
    "knn_outliers.fit(X_train_outliers,y_train_outliers)\n",
    "y_pred_outliers=knn_outliers.predict(X_test)"
   ]
  },
  {
   "cell_type": "code",
   "execution_count": 68,
   "id": "ccb35857",
   "metadata": {},
   "outputs": [
    {
     "data": {
      "text/plain": [
       "0.9977777777777778"
      ]
     },
     "execution_count": 68,
     "metadata": {},
     "output_type": "execute_result"
    }
   ],
   "source": [
    "accuracy_outliers=accuracy_score(y_test,y_pred_outliers)\n",
    "accuracy_outliers"
   ]
  },
  {
   "cell_type": "code",
   "execution_count": null,
   "id": "af0e56b0",
   "metadata": {},
   "outputs": [],
   "source": []
  }
 ],
 "metadata": {
  "kernelspec": {
   "display_name": "Python 3 (ipykernel)",
   "language": "python",
   "name": "python3"
  },
  "language_info": {
   "codemirror_mode": {
    "name": "ipython",
    "version": 3
   },
   "file_extension": ".py",
   "mimetype": "text/x-python",
   "name": "python",
   "nbconvert_exporter": "python",
   "pygments_lexer": "ipython3",
   "version": "3.9.12"
  }
 },
 "nbformat": 4,
 "nbformat_minor": 5
}
