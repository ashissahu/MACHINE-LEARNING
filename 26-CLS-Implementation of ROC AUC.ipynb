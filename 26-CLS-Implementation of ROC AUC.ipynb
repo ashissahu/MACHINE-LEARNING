{
 "cells": [
  {
   "cell_type": "markdown",
   "id": "9efdd249",
   "metadata": {},
   "source": [
    "- The ROC curve is a graphical representation of a model's performance across various threshold settings. It shows the trade-off between:\n",
    "\n",
    "     - True Positive Rate (TPR) (Sensitivity or Recall) on the y-axis\n",
    "     - False Positive Rate (FPR) on the x-axis\n",
    "\n",
    "- By analyzing this curve, we can understand how well a classifier distinguishes between the positive and negative classes."
   ]
  },
  {
   "cell_type": "code",
   "execution_count": 7,
   "id": "defbd59f",
   "metadata": {},
   "outputs": [],
   "source": [
    "import numpy as np\n",
    "import matplotlib.pyplot as plt\n",
    "from sklearn.metrics import roc_curve, auc, roc_auc_score\n",
    "\n",
    "# Step 1: Generate dummy data for 10 records\n",
    "y_true = np.array([0, 0, 1, 1])  # Binary labels\n",
    "\n",
    "# remember you need to have scores as probabilities\n",
    "#y_scores = model.predict_proba(y)\n",
    "\n",
    "y_scores = np.array([0.1, 0.4, 0.35, 0.8])  # Probability scores\n",
    "\n",
    "# Step 2: Compute FPR, TPR, and thresholds\n",
    "fpr, tpr, thresholds = roc_curve(y_true, y_scores)"
   ]
  },
  {
   "cell_type": "code",
   "execution_count": 8,
   "id": "9aaab05f",
   "metadata": {},
   "outputs": [
    {
     "data": {
      "text/plain": [
       "array([0. , 0. , 0.5, 0.5, 1. ])"
      ]
     },
     "execution_count": 8,
     "metadata": {},
     "output_type": "execute_result"
    }
   ],
   "source": [
    "fpr"
   ]
  },
  {
   "cell_type": "code",
   "execution_count": 9,
   "id": "c14a5040",
   "metadata": {},
   "outputs": [
    {
     "data": {
      "text/plain": [
       "array([0. , 0.5, 0.5, 1. , 1. ])"
      ]
     },
     "execution_count": 9,
     "metadata": {},
     "output_type": "execute_result"
    }
   ],
   "source": [
    "tpr"
   ]
  },
  {
   "cell_type": "code",
   "execution_count": 10,
   "id": "01092e18",
   "metadata": {},
   "outputs": [
    {
     "data": {
      "text/plain": [
       "array([1.8 , 0.8 , 0.4 , 0.35, 0.1 ])"
      ]
     },
     "execution_count": 10,
     "metadata": {},
     "output_type": "execute_result"
    }
   ],
   "source": [
    "thresholds"
   ]
  },
  {
   "cell_type": "code",
   "execution_count": 11,
   "id": "c0a5fe20",
   "metadata": {},
   "outputs": [
    {
     "data": {
      "text/plain": [
       "0.75"
      ]
     },
     "execution_count": 11,
     "metadata": {},
     "output_type": "execute_result"
    }
   ],
   "source": [
    "# Step 3: Calculate the AUC score\n",
    "roc_auc = roc_auc_score(y_true, y_scores)\n",
    "roc_auc"
   ]
  },
  {
   "cell_type": "code",
   "execution_count": 12,
   "id": "870e81f6",
   "metadata": {},
   "outputs": [
    {
     "data": {
      "image/png": "[encoded data removed]",
      "text/plain": [
       "<Figure size 432x288 with 1 Axes>"
      ]
     },
     "metadata": {
      "needs_background": "light"
     },
     "output_type": "display_data"
    },
    {
     "name": "stdout",
     "output_type": "stream",
     "text": [
      "False Positive Rates (FPR): [0.  0.  0.5 0.5 1. ]\n",
      "True Positive Rates (TPR): [0.  0.5 0.5 1.  1. ]\n",
      "Thresholds: [1.8  0.8  0.4  0.35 0.1 ]\n",
      "AUC Score: 0.75\n"
     ]
    }
   ],
   "source": [
    "# Step 4: Plot the ROC Curve\n",
    "plt.figure(figsize=(6, 4))\n",
    "plt.plot(fpr, tpr, color='blue', label=f'ROC curve (AUC = {roc_auc:.2f})')\n",
    "plt.plot([0, 1], [0, 1], color='grey', linestyle='--')  # Diagonal line for random performance\n",
    "plt.xlabel('False Positive Rate (FPR)')\n",
    "plt.ylabel('True Positive Rate (TPR)')\n",
    "plt.title('ROC Curve with 10 Records')\n",
    "plt.legend(loc=\"lower right\")\n",
    "plt.show()\n",
    "\n",
    "# Output results\n",
    "print(\"False Positive Rates (FPR):\", fpr)\n",
    "print(\"True Positive Rates (TPR):\", tpr)\n",
    "print(\"Thresholds:\", thresholds)\n",
    "print(\"AUC Score:\", roc_auc)"
   ]
  },
  {
   "cell_type": "markdown",
   "id": "b2eb9bd8",
   "metadata": {},
   "source": [
    "## Interpreting the ROC Curve\n",
    "\n",
    "- Shape of the Curve: The closer the ROC curve is to the top-left corner (TPR near 1 and FPR near 0), the better the classifier.\n",
    "- AUC (Area Under the Curve): The area under the ROC curve, or AUC score, quantifies the overall ability of the classifier to discriminate between positive and negative classes. AUC values range from 0.5 (random guessing) to 1.0 (perfect classifier).\n",
    "- In our example, an AUC of 0.75 suggests that the model is reasonably good at distinguishing between classes, but there's room for improvement.\n",
    "\n",
    "### Summary\n",
    "- By visualizing the ROC curve, we get a comprehensive view of the classifier's performance at different thresholds. This plot, combined with the AUC score, helps us decide if our model's predictions are accurate enough for practical use."
   ]
  },
  {
   "cell_type": "code",
   "execution_count": null,
   "id": "8929e955",
   "metadata": {},
   "outputs": [],
   "source": []
  }
 ],
 "metadata": {
  "kernelspec": {
   "display_name": "Python 3 (ipykernel)",
   "language": "python",
   "name": "python3"
  },
  "language_info": {
   "codemirror_mode": {
    "name": "ipython",
    "version": 3
   },
   "file_extension": ".py",
   "mimetype": "text/x-python",
   "name": "python",
   "nbconvert_exporter": "python",
   "pygments_lexer": "ipython3",
   "version": "3.9.12"
  }
 },
 "nbformat": 4,
 "nbformat_minor": 5
}
